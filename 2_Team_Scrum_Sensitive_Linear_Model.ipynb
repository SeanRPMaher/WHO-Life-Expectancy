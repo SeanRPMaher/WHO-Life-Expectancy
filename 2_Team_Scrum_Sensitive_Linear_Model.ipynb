{
 "cells": [
  {
   "cell_type": "markdown",
   "id": "67001c8c-df47-4c1d-b5b8-917c4364b4ba",
   "metadata": {
    "id": "67001c8c-df47-4c1d-b5b8-917c4364b4ba"
   },
   "source": [
    "<img src = 'https://upload.wikimedia.org/wikipedia/commons/2/26/World_Health_Organization_Logo.svg'\n",
    "    width = 690px\n",
    "    height= 665px />"
   ]
  },
  {
   "cell_type": "markdown",
   "id": "7f9eca66-0ad3-4d5a-a93b-2fe540d72f3e",
   "metadata": {
    "id": "7f9eca66-0ad3-4d5a-a93b-2fe540d72f3e"
   },
   "source": [
    "# **WHO Life Expectancy  —  Sensitive Linear Model**"
   ]
  },
  {
   "cell_type": "markdown",
   "id": "216e1d3f-ba5a-4fba-bdf3-984bd3b14a51",
   "metadata": {
    "id": "216e1d3f-ba5a-4fba-bdf3-984bd3b14a51"
   },
   "source": [
    "by: Team 1 - Scrum"
   ]
  },
  {
   "cell_type": "markdown",
   "id": "743d3876-af67-45cf-8fa1-17e97ad734e7",
   "metadata": {
    "id": "743d3876-af67-45cf-8fa1-17e97ad734e7"
   },
   "source": [
    "***"
   ]
  },
  {
   "cell_type": "markdown",
   "id": "dc342899-90c4-40a3-9291-994edbeb4563",
   "metadata": {
    "id": "dc342899-90c4-40a3-9291-994edbeb4563"
   },
   "source": [
    "## **The Data**"
   ]
  },
  {
   "cell_type": "markdown",
   "id": "988689c9-4544-4a65-9d9c-b1d6cc887849",
   "metadata": {
    "id": "988689c9-4544-4a65-9d9c-b1d6cc887849"
   },
   "source": [
    "|Column|Description|\n",
    "|---:|:---|\n",
    "|Country|Country|\n",
    "|Region|Region|\n",
    "|Year|Year|\n",
    "|Infant_deaths|Number of Infant Deaths per 1000 population|\n",
    "|Under_five_deaths|Number of under-five deaths per 1000 population|\n",
    "|Adult_mortality|Adult Mortality Rates of both sexes (probability of dying between 15 and 60 years per 1000 population)|\n",
    "|Alcohol_consumption|Alcohol, recorded per capita (15+) consumption (in litres of pure alcohol)|\n",
    "|Hepatitis B|Hepatitis B (HepB) immunization coverage among 1-year-olds (%)|\n",
    "|Measles|Measles - number of reported cases per 1000 population|\n",
    "|BMI|Average Body Mass Index of entire population|\n",
    "|Polio|Polio (Pol3) immunization coverage among 1-year-olds (%)|\n",
    "|Diphtheria|Diphtheria tetanus toxoid and pertussis (DTP3) immunization coverage among 1-year-olds (%)|\n",
    "|Incidents_HIV|Deaths per 1 000 live births HIV/AIDS (0-4 years)|\n",
    "|GDP_per_capita|Gross Domestic Product per capita (in USD)|\n",
    "|Population_mln|Population of the country|\n",
    "|Thinness_ten_nineteen_years|Prevalence of thinness among children and adolescents for Age 10 to 19 (%)|\n",
    "|Thinness_five_nine_years|Prevalence of thinness among children for Age 5 to 9(%)|\n",
    "|Schooling|Number of years of Schooling(years)|\n",
    "|Economy_status_Developed|Developed status|\n",
    "|Economy_status_Developing|Developing status|\n",
    "|Life expectancy|Life Expectancy in age|"
   ]
  },
  {
   "cell_type": "markdown",
   "id": "511d7963-e0b0-40be-81a2-2da9cbaa79f7",
   "metadata": {
    "id": "511d7963-e0b0-40be-81a2-2da9cbaa79f7"
   },
   "source": [
    "## **The Scope**"
   ]
  },
  {
   "cell_type": "markdown",
   "id": "548b9683-898f-46a5-a79d-c662068c90a9",
   "metadata": {
    "id": "548b9683-898f-46a5-a79d-c662068c90a9"
   },
   "source": [
    "This notebook explores the Life Expectancy dataset from the World Health Organization.\\\n",
    "It outlines the process for building a sensitive linear regression model to predict life expectancy.\\\n",
    "This model uses the least information necessary to make a prediction, meaning that sensitive features have been omitted.\\\n",
    "The model incorporates some insights gained from the exploratory data analysis (refer to `WHO - EDA.ipynb` file)"
   ]
  },
  {
   "cell_type": "markdown",
   "id": "f43a394a-1e89-4fb0-9b8e-ceab593c0d0a",
   "metadata": {
    "id": "f43a394a-1e89-4fb0-9b8e-ceab593c0d0a"
   },
   "source": [
    "## **Key Questions Answered**"
   ]
  },
  {
   "cell_type": "markdown",
   "id": "efddc33b-473d-45c5-ad7f-1a87e8fd9f65",
   "metadata": {
    "id": "efddc33b-473d-45c5-ad7f-1a87e8fd9f65"
   },
   "source": [
    "* How can we implement the insights gained from the exploratory data analysis?\n",
    "* Which features are most influential in predicting life expectancy?\n",
    "* How well does a linear regression model perform on this dataset?"
   ]
  },
  {
   "cell_type": "markdown",
   "id": "ace39409-4508-480a-8f3d-db82267c49fa",
   "metadata": {
    "id": "ace39409-4508-480a-8f3d-db82267c49fa"
   },
   "source": [
    "***"
   ]
  },
  {
   "cell_type": "markdown",
   "id": "d2ec9773-670f-430a-b967-15d405130ac3",
   "metadata": {
    "id": "d2ec9773-670f-430a-b967-15d405130ac3",
    "jp-MarkdownHeadingCollapsed": true
   },
   "source": [
    "### 1. Dataset Import"
   ]
  },
  {
   "cell_type": "code",
   "execution_count": 13,
   "id": "b5be6012-5769-49ba-9289-f0dc6bb597f9",
   "metadata": {
    "id": "b5be6012-5769-49ba-9289-f0dc6bb597f9"
   },
   "outputs": [],
   "source": [
    "# Importing required modules\n",
    "\n",
    "import pandas as pd    # for general data use & data analysis\n",
    "import matplotlib.pyplot as plt    # for data visualisation\n",
    "import seaborn as sns  # for data visualisation\n",
    "import numpy as np     # for maths\n",
    "\n",
    "from sklearn.model_selection import train_test_split    # for performing train-test split on the data\n",
    "\n",
    "# Use statsmodels for both the model and its evaluation\n",
    "import statsmodels.api as sm    # we'll get the model from\n",
    "import statsmodels.tools        # we'll get the evaluation metrics from\n",
    "\n",
    "from sklearn.preprocessing import RobustScaler   # for scaling the data\n",
    "\n",
    "from statsmodels.stats.outliers_influence import variance_inflation_factor   # for checking VIF"
   ]
  },
  {
   "cell_type": "markdown",
   "id": "396ab7d4-0d6f-4df2-9633-d8febb0813ee",
   "metadata": {
    "id": "396ab7d4-0d6f-4df2-9633-d8febb0813ee"
   },
   "source": [
    "The DataFrame `df` is created by reading the `Life Expectancy Data.csv` file from a local folder."
   ]
  },
  {
   "cell_type": "code",
   "execution_count": 15,
   "id": "4999d0f3-148c-4dac-b943-4a6355f893be",
   "metadata": {
    "id": "4999d0f3-148c-4dac-b943-4a6355f893be"
   },
   "outputs": [],
   "source": [
    "df = pd.read_csv('Life Expectancy Data.csv')"
   ]
  },
  {
   "cell_type": "code",
   "execution_count": 16,
   "id": "cd4ccae8-0e54-4934-b1ef-fea53e746cda",
   "metadata": {
    "colab": {
     "base_uri": "https://localhost:8080/",
     "height": 295
    },
    "id": "cd4ccae8-0e54-4934-b1ef-fea53e746cda",
    "outputId": "3dbed29e-60f2-462d-e019-1c37338b3dc4"
   },
   "outputs": [
    {
     "data": {
      "text/html": [
       "<div>\n",
       "<style scoped>\n",
       "    .dataframe tbody tr th:only-of-type {\n",
       "        vertical-align: middle;\n",
       "    }\n",
       "\n",
       "    .dataframe tbody tr th {\n",
       "        vertical-align: top;\n",
       "    }\n",
       "\n",
       "    .dataframe thead th {\n",
       "        text-align: right;\n",
       "    }\n",
       "</style>\n",
       "<table border=\"1\" class=\"dataframe\">\n",
       "  <thead>\n",
       "    <tr style=\"text-align: right;\">\n",
       "      <th></th>\n",
       "      <th>Country</th>\n",
       "      <th>Region</th>\n",
       "      <th>Year</th>\n",
       "      <th>Infant_deaths</th>\n",
       "      <th>Under_five_deaths</th>\n",
       "      <th>Adult_mortality</th>\n",
       "      <th>Alcohol_consumption</th>\n",
       "      <th>Hepatitis_B</th>\n",
       "      <th>Measles</th>\n",
       "      <th>BMI</th>\n",
       "      <th>Polio</th>\n",
       "      <th>Diphtheria</th>\n",
       "      <th>Incidents_HIV</th>\n",
       "      <th>GDP_per_capita</th>\n",
       "      <th>Population_mln</th>\n",
       "      <th>Thinness_ten_nineteen_years</th>\n",
       "      <th>Thinness_five_nine_years</th>\n",
       "      <th>Schooling</th>\n",
       "      <th>Economy_status_Developed</th>\n",
       "      <th>Economy_status_Developing</th>\n",
       "      <th>Life_expectancy</th>\n",
       "    </tr>\n",
       "  </thead>\n",
       "  <tbody>\n",
       "    <tr>\n",
       "      <th>0</th>\n",
       "      <td>Turkiye</td>\n",
       "      <td>Middle East</td>\n",
       "      <td>2015</td>\n",
       "      <td>11.1</td>\n",
       "      <td>13.0</td>\n",
       "      <td>105.8240</td>\n",
       "      <td>1.32</td>\n",
       "      <td>97</td>\n",
       "      <td>65</td>\n",
       "      <td>27.8</td>\n",
       "      <td>97</td>\n",
       "      <td>97</td>\n",
       "      <td>0.08</td>\n",
       "      <td>11006</td>\n",
       "      <td>78.53</td>\n",
       "      <td>4.9</td>\n",
       "      <td>4.8</td>\n",
       "      <td>7.8</td>\n",
       "      <td>0</td>\n",
       "      <td>1</td>\n",
       "      <td>76.5</td>\n",
       "    </tr>\n",
       "    <tr>\n",
       "      <th>1</th>\n",
       "      <td>Spain</td>\n",
       "      <td>European Union</td>\n",
       "      <td>2015</td>\n",
       "      <td>2.7</td>\n",
       "      <td>3.3</td>\n",
       "      <td>57.9025</td>\n",
       "      <td>10.35</td>\n",
       "      <td>97</td>\n",
       "      <td>94</td>\n",
       "      <td>26.0</td>\n",
       "      <td>97</td>\n",
       "      <td>97</td>\n",
       "      <td>0.09</td>\n",
       "      <td>25742</td>\n",
       "      <td>46.44</td>\n",
       "      <td>0.6</td>\n",
       "      <td>0.5</td>\n",
       "      <td>9.7</td>\n",
       "      <td>1</td>\n",
       "      <td>0</td>\n",
       "      <td>82.8</td>\n",
       "    </tr>\n",
       "    <tr>\n",
       "      <th>2</th>\n",
       "      <td>India</td>\n",
       "      <td>Asia</td>\n",
       "      <td>2007</td>\n",
       "      <td>51.5</td>\n",
       "      <td>67.9</td>\n",
       "      <td>201.0765</td>\n",
       "      <td>1.57</td>\n",
       "      <td>60</td>\n",
       "      <td>35</td>\n",
       "      <td>21.2</td>\n",
       "      <td>67</td>\n",
       "      <td>64</td>\n",
       "      <td>0.13</td>\n",
       "      <td>1076</td>\n",
       "      <td>1183.21</td>\n",
       "      <td>27.1</td>\n",
       "      <td>28.0</td>\n",
       "      <td>5.0</td>\n",
       "      <td>0</td>\n",
       "      <td>1</td>\n",
       "      <td>65.4</td>\n",
       "    </tr>\n",
       "    <tr>\n",
       "      <th>3</th>\n",
       "      <td>Guyana</td>\n",
       "      <td>South America</td>\n",
       "      <td>2006</td>\n",
       "      <td>32.8</td>\n",
       "      <td>40.5</td>\n",
       "      <td>222.1965</td>\n",
       "      <td>5.68</td>\n",
       "      <td>93</td>\n",
       "      <td>74</td>\n",
       "      <td>25.3</td>\n",
       "      <td>92</td>\n",
       "      <td>93</td>\n",
       "      <td>0.79</td>\n",
       "      <td>4146</td>\n",
       "      <td>0.75</td>\n",
       "      <td>5.7</td>\n",
       "      <td>5.5</td>\n",
       "      <td>7.9</td>\n",
       "      <td>0</td>\n",
       "      <td>1</td>\n",
       "      <td>67.0</td>\n",
       "    </tr>\n",
       "    <tr>\n",
       "      <th>4</th>\n",
       "      <td>Israel</td>\n",
       "      <td>Middle East</td>\n",
       "      <td>2012</td>\n",
       "      <td>3.4</td>\n",
       "      <td>4.3</td>\n",
       "      <td>57.9510</td>\n",
       "      <td>2.89</td>\n",
       "      <td>97</td>\n",
       "      <td>89</td>\n",
       "      <td>27.0</td>\n",
       "      <td>94</td>\n",
       "      <td>94</td>\n",
       "      <td>0.08</td>\n",
       "      <td>33995</td>\n",
       "      <td>7.91</td>\n",
       "      <td>1.2</td>\n",
       "      <td>1.1</td>\n",
       "      <td>12.8</td>\n",
       "      <td>1</td>\n",
       "      <td>0</td>\n",
       "      <td>81.7</td>\n",
       "    </tr>\n",
       "  </tbody>\n",
       "</table>\n",
       "</div>"
      ],
      "text/plain": [
       "   Country          Region  Year  Infant_deaths  Under_five_deaths  \\\n",
       "0  Turkiye     Middle East  2015           11.1               13.0   \n",
       "1    Spain  European Union  2015            2.7                3.3   \n",
       "2    India            Asia  2007           51.5               67.9   \n",
       "3   Guyana   South America  2006           32.8               40.5   \n",
       "4   Israel     Middle East  2012            3.4                4.3   \n",
       "\n",
       "   Adult_mortality  Alcohol_consumption  Hepatitis_B  Measles   BMI  Polio  \\\n",
       "0         105.8240                 1.32           97       65  27.8     97   \n",
       "1          57.9025                10.35           97       94  26.0     97   \n",
       "2         201.0765                 1.57           60       35  21.2     67   \n",
       "3         222.1965                 5.68           93       74  25.3     92   \n",
       "4          57.9510                 2.89           97       89  27.0     94   \n",
       "\n",
       "   Diphtheria  Incidents_HIV  GDP_per_capita  Population_mln  \\\n",
       "0          97           0.08           11006           78.53   \n",
       "1          97           0.09           25742           46.44   \n",
       "2          64           0.13            1076         1183.21   \n",
       "3          93           0.79            4146            0.75   \n",
       "4          94           0.08           33995            7.91   \n",
       "\n",
       "   Thinness_ten_nineteen_years  Thinness_five_nine_years  Schooling  \\\n",
       "0                          4.9                       4.8        7.8   \n",
       "1                          0.6                       0.5        9.7   \n",
       "2                         27.1                      28.0        5.0   \n",
       "3                          5.7                       5.5        7.9   \n",
       "4                          1.2                       1.1       12.8   \n",
       "\n",
       "   Economy_status_Developed  Economy_status_Developing  Life_expectancy  \n",
       "0                         0                          1             76.5  \n",
       "1                         1                          0             82.8  \n",
       "2                         0                          1             65.4  \n",
       "3                         0                          1             67.0  \n",
       "4                         1                          0             81.7  "
      ]
     },
     "execution_count": 16,
     "metadata": {},
     "output_type": "execute_result"
    }
   ],
   "source": [
    "# Checking out first 5 rows of data\n",
    "pd.set_option('display.max_columns', None)\n",
    "df.head()"
   ]
  },
  {
   "cell_type": "markdown",
   "id": "a7b2363b-192d-426f-bdb6-cc38aa29af0a",
   "metadata": {
    "id": "a7b2363b-192d-426f-bdb6-cc38aa29af0a"
   },
   "source": [
    "Inspecting the dataset we can observe that there is a total of `2864` observations and `21` columns. Only 2 columns have `object` datatype: `Country` and `Region`. The rest of the columns are either `int64` or `float64`."
   ]
  },
  {
   "cell_type": "code",
   "execution_count": 18,
   "id": "136db80e-25dc-4f2d-8711-961c6f9ff2be",
   "metadata": {
    "colab": {
     "base_uri": "https://localhost:8080/"
    },
    "id": "136db80e-25dc-4f2d-8711-961c6f9ff2be",
    "outputId": "3a26aae2-7658-4d71-ae1a-779c6cea63e7"
   },
   "outputs": [
    {
     "name": "stdout",
     "output_type": "stream",
     "text": [
      "<class 'pandas.core.frame.DataFrame'>\n",
      "RangeIndex: 2864 entries, 0 to 2863\n",
      "Data columns (total 21 columns):\n",
      " #   Column                       Non-Null Count  Dtype  \n",
      "---  ------                       --------------  -----  \n",
      " 0   Country                      2864 non-null   object \n",
      " 1   Region                       2864 non-null   object \n",
      " 2   Year                         2864 non-null   int64  \n",
      " 3   Infant_deaths                2864 non-null   float64\n",
      " 4   Under_five_deaths            2864 non-null   float64\n",
      " 5   Adult_mortality              2864 non-null   float64\n",
      " 6   Alcohol_consumption          2864 non-null   float64\n",
      " 7   Hepatitis_B                  2864 non-null   int64  \n",
      " 8   Measles                      2864 non-null   int64  \n",
      " 9   BMI                          2864 non-null   float64\n",
      " 10  Polio                        2864 non-null   int64  \n",
      " 11  Diphtheria                   2864 non-null   int64  \n",
      " 12  Incidents_HIV                2864 non-null   float64\n",
      " 13  GDP_per_capita               2864 non-null   int64  \n",
      " 14  Population_mln               2864 non-null   float64\n",
      " 15  Thinness_ten_nineteen_years  2864 non-null   float64\n",
      " 16  Thinness_five_nine_years     2864 non-null   float64\n",
      " 17  Schooling                    2864 non-null   float64\n",
      " 18  Economy_status_Developed     2864 non-null   int64  \n",
      " 19  Economy_status_Developing    2864 non-null   int64  \n",
      " 20  Life_expectancy              2864 non-null   float64\n",
      "dtypes: float64(11), int64(8), object(2)\n",
      "memory usage: 470.0+ KB\n"
     ]
    }
   ],
   "source": [
    "df.info()"
   ]
  },
  {
   "cell_type": "markdown",
   "id": "1c730720-4c8a-4f2f-8a23-cc39b9003500",
   "metadata": {
    "id": "1c730720-4c8a-4f2f-8a23-cc39b9003500",
    "tags": []
   },
   "source": [
    "### 2. Train-Test Split"
   ]
  },
  {
   "cell_type": "markdown",
   "id": "655f0883-bd91-41e9-98b3-1f1c3fbc3852",
   "metadata": {
    "id": "655f0883-bd91-41e9-98b3-1f1c3fbc3852"
   },
   "source": [
    "Now that we have our data loaded let's perform a train-test split. The train set will be used to fit the model and the test set to evaluate.\\\n",
    "Note that the independent variable or target is `Life_expectancy`."
   ]
  },
  {
   "cell_type": "code",
   "execution_count": 21,
   "id": "dab60eed-38dc-4b3b-91b9-a7148d02027b",
   "metadata": {
    "id": "dab60eed-38dc-4b3b-91b9-a7148d02027b"
   },
   "outputs": [],
   "source": [
    "# Create a list with all sensitive columns\n",
    "sensitive_cols = [\"Infant_deaths\", \"Under_five_deaths\", \"Hepatitis_B\",\"Polio\",\n",
    "                  \"Diphtheria\",\"Incidents_HIV\",\"Thinness_ten_nineteen_years\",\n",
    "                  \"Thinness_five_nine_years\",\"Schooling\",\"Economy_status_Developed\",\n",
    "                  \"Economy_status_Developing\"]\n",
    "\n",
    "# Create a list with all columns\n",
    "feature_cols = list(df.columns) # the columns that we'll se as features\n",
    "\n",
    "# Use a for loop to iterate through the sensitive_cols list and remove them from feature_cols list\n",
    "for cols in sensitive_cols:\n",
    "    feature_cols.remove(cols)\n",
    "feature_cols.remove('Life_expectancy') # 'Life_expectancy' removed because it's the target"
   ]
  },
  {
   "cell_type": "markdown",
   "id": "5c3d3fd8-ca89-46e4-b1c4-42d4bc28393b",
   "metadata": {
    "id": "5c3d3fd8-ca89-46e4-b1c4-42d4bc28393b"
   },
   "source": [
    "Using the list of features we can now create `X` with all the features and `y` with the target only."
   ]
  },
  {
   "cell_type": "code",
   "execution_count": 23,
   "id": "614e29b1-7a10-49e2-adef-f5e54f587f94",
   "metadata": {
    "id": "614e29b1-7a10-49e2-adef-f5e54f587f94"
   },
   "outputs": [],
   "source": [
    "X = df[feature_cols] # our features dataframe --> It will become: X_train and X_test\n",
    "y = df['Life_expectancy'] # our target --> It will become: y_train and y_test"
   ]
  },
  {
   "cell_type": "markdown",
   "id": "2e05a092-084b-43a6-a766-a8a3e86e6aac",
   "metadata": {
    "id": "2e05a092-084b-43a6-a766-a8a3e86e6aac"
   },
   "source": [
    "Let's check out `X` and `y`."
   ]
  },
  {
   "cell_type": "code",
   "execution_count": 25,
   "id": "e2a4f75c-0bbd-4d27-8039-b7c99232d6fd",
   "metadata": {
    "colab": {
     "base_uri": "https://localhost:8080/",
     "height": 143
    },
    "id": "e2a4f75c-0bbd-4d27-8039-b7c99232d6fd",
    "outputId": "96c58c03-ab55-40af-be61-26305300510d"
   },
   "outputs": [
    {
     "data": {
      "text/html": [
       "<div>\n",
       "<style scoped>\n",
       "    .dataframe tbody tr th:only-of-type {\n",
       "        vertical-align: middle;\n",
       "    }\n",
       "\n",
       "    .dataframe tbody tr th {\n",
       "        vertical-align: top;\n",
       "    }\n",
       "\n",
       "    .dataframe thead th {\n",
       "        text-align: right;\n",
       "    }\n",
       "</style>\n",
       "<table border=\"1\" class=\"dataframe\">\n",
       "  <thead>\n",
       "    <tr style=\"text-align: right;\">\n",
       "      <th></th>\n",
       "      <th>Country</th>\n",
       "      <th>Region</th>\n",
       "      <th>Year</th>\n",
       "      <th>Adult_mortality</th>\n",
       "      <th>Alcohol_consumption</th>\n",
       "      <th>Measles</th>\n",
       "      <th>BMI</th>\n",
       "      <th>GDP_per_capita</th>\n",
       "      <th>Population_mln</th>\n",
       "    </tr>\n",
       "  </thead>\n",
       "  <tbody>\n",
       "    <tr>\n",
       "      <th>0</th>\n",
       "      <td>Turkiye</td>\n",
       "      <td>Middle East</td>\n",
       "      <td>2015</td>\n",
       "      <td>105.8240</td>\n",
       "      <td>1.32</td>\n",
       "      <td>65</td>\n",
       "      <td>27.8</td>\n",
       "      <td>11006</td>\n",
       "      <td>78.53</td>\n",
       "    </tr>\n",
       "    <tr>\n",
       "      <th>1</th>\n",
       "      <td>Spain</td>\n",
       "      <td>European Union</td>\n",
       "      <td>2015</td>\n",
       "      <td>57.9025</td>\n",
       "      <td>10.35</td>\n",
       "      <td>94</td>\n",
       "      <td>26.0</td>\n",
       "      <td>25742</td>\n",
       "      <td>46.44</td>\n",
       "    </tr>\n",
       "    <tr>\n",
       "      <th>2</th>\n",
       "      <td>India</td>\n",
       "      <td>Asia</td>\n",
       "      <td>2007</td>\n",
       "      <td>201.0765</td>\n",
       "      <td>1.57</td>\n",
       "      <td>35</td>\n",
       "      <td>21.2</td>\n",
       "      <td>1076</td>\n",
       "      <td>1183.21</td>\n",
       "    </tr>\n",
       "  </tbody>\n",
       "</table>\n",
       "</div>"
      ],
      "text/plain": [
       "   Country          Region  Year  Adult_mortality  Alcohol_consumption  \\\n",
       "0  Turkiye     Middle East  2015         105.8240                 1.32   \n",
       "1    Spain  European Union  2015          57.9025                10.35   \n",
       "2    India            Asia  2007         201.0765                 1.57   \n",
       "\n",
       "   Measles   BMI  GDP_per_capita  Population_mln  \n",
       "0       65  27.8           11006           78.53  \n",
       "1       94  26.0           25742           46.44  \n",
       "2       35  21.2            1076         1183.21  "
      ]
     },
     "execution_count": 25,
     "metadata": {},
     "output_type": "execute_result"
    }
   ],
   "source": [
    "X.head(3)"
   ]
  },
  {
   "cell_type": "code",
   "execution_count": 26,
   "id": "40fc4d7b-ec2f-422d-97f7-c36f92344e4a",
   "metadata": {
    "colab": {
     "base_uri": "https://localhost:8080/",
     "height": 178
    },
    "id": "40fc4d7b-ec2f-422d-97f7-c36f92344e4a",
    "outputId": "1de2626b-a735-4c1d-a7ae-204625d92af9"
   },
   "outputs": [
    {
     "data": {
      "text/plain": [
       "0    76.5\n",
       "1    82.8\n",
       "2    65.4\n",
       "Name: Life_expectancy, dtype: float64"
      ]
     },
     "execution_count": 26,
     "metadata": {},
     "output_type": "execute_result"
    }
   ],
   "source": [
    "y.head(3)"
   ]
  },
  {
   "cell_type": "markdown",
   "id": "f3883816-ed3b-4451-9401-fb1db56dad0b",
   "metadata": {
    "id": "f3883816-ed3b-4451-9401-fb1db56dad0b"
   },
   "source": [
    "Next, we will perform a train-test split, allocating `80%` of the data for training and `20%` for testing.\\\n",
    "Using `train_test_split` we'll return 4 items: X_train, X_test, y_test and y_train."
   ]
  },
  {
   "cell_type": "code",
   "execution_count": 28,
   "id": "4d9754a1-64e9-4998-932c-5672f3368733",
   "metadata": {
    "id": "4d9754a1-64e9-4998-932c-5672f3368733"
   },
   "outputs": [],
   "source": [
    "X_train, X_test, y_train, y_test = train_test_split(X, # the features\n",
    "                                                    y, # the target\n",
    "                                                    test_size = 0.2, # 20% test size\n",
    "                                                    random_state = 1) # setting a random seed for reproducibility of results"
   ]
  },
  {
   "cell_type": "markdown",
   "id": "52eaf31d-3977-444c-80f3-ebcc3aa15f8f",
   "metadata": {
    "id": "52eaf31d-3977-444c-80f3-ebcc3aa15f8f"
   },
   "source": [
    "Let's check out `X_train` and `y_train`."
   ]
  },
  {
   "cell_type": "code",
   "execution_count": 30,
   "id": "5aee43e6-4863-4adf-8936-7584b5db49f1",
   "metadata": {
    "colab": {
     "base_uri": "https://localhost:8080/",
     "height": 160
    },
    "id": "5aee43e6-4863-4adf-8936-7584b5db49f1",
    "outputId": "d18561bf-e32e-4b98-94e3-516bf32628c6"
   },
   "outputs": [
    {
     "data": {
      "text/html": [
       "<div>\n",
       "<style scoped>\n",
       "    .dataframe tbody tr th:only-of-type {\n",
       "        vertical-align: middle;\n",
       "    }\n",
       "\n",
       "    .dataframe tbody tr th {\n",
       "        vertical-align: top;\n",
       "    }\n",
       "\n",
       "    .dataframe thead th {\n",
       "        text-align: right;\n",
       "    }\n",
       "</style>\n",
       "<table border=\"1\" class=\"dataframe\">\n",
       "  <thead>\n",
       "    <tr style=\"text-align: right;\">\n",
       "      <th></th>\n",
       "      <th>Country</th>\n",
       "      <th>Region</th>\n",
       "      <th>Year</th>\n",
       "      <th>Adult_mortality</th>\n",
       "      <th>Alcohol_consumption</th>\n",
       "      <th>Measles</th>\n",
       "      <th>BMI</th>\n",
       "      <th>GDP_per_capita</th>\n",
       "      <th>Population_mln</th>\n",
       "    </tr>\n",
       "  </thead>\n",
       "  <tbody>\n",
       "    <tr>\n",
       "      <th>2291</th>\n",
       "      <td>United Arab Emirates</td>\n",
       "      <td>Middle East</td>\n",
       "      <td>2001</td>\n",
       "      <td>95.5935</td>\n",
       "      <td>1.62</td>\n",
       "      <td>92</td>\n",
       "      <td>27.2</td>\n",
       "      <td>58422</td>\n",
       "      <td>3.30</td>\n",
       "    </tr>\n",
       "    <tr>\n",
       "      <th>1188</th>\n",
       "      <td>Spain</td>\n",
       "      <td>European Union</td>\n",
       "      <td>2008</td>\n",
       "      <td>70.1140</td>\n",
       "      <td>10.24</td>\n",
       "      <td>94</td>\n",
       "      <td>26.2</td>\n",
       "      <td>27026</td>\n",
       "      <td>45.95</td>\n",
       "    </tr>\n",
       "    <tr>\n",
       "      <th>772</th>\n",
       "      <td>Sao Tome and Principe</td>\n",
       "      <td>Central America and Caribbean</td>\n",
       "      <td>2002</td>\n",
       "      <td>217.4790</td>\n",
       "      <td>5.93</td>\n",
       "      <td>71</td>\n",
       "      <td>23.7</td>\n",
       "      <td>1087</td>\n",
       "      <td>0.15</td>\n",
       "    </tr>\n",
       "  </tbody>\n",
       "</table>\n",
       "</div>"
      ],
      "text/plain": [
       "                    Country                         Region  Year  \\\n",
       "2291   United Arab Emirates                    Middle East  2001   \n",
       "1188                  Spain                 European Union  2008   \n",
       "772   Sao Tome and Principe  Central America and Caribbean  2002   \n",
       "\n",
       "      Adult_mortality  Alcohol_consumption  Measles   BMI  GDP_per_capita  \\\n",
       "2291          95.5935                 1.62       92  27.2           58422   \n",
       "1188          70.1140                10.24       94  26.2           27026   \n",
       "772          217.4790                 5.93       71  23.7            1087   \n",
       "\n",
       "      Population_mln  \n",
       "2291            3.30  \n",
       "1188           45.95  \n",
       "772             0.15  "
      ]
     },
     "execution_count": 30,
     "metadata": {},
     "output_type": "execute_result"
    }
   ],
   "source": [
    "X_train.head(3)"
   ]
  },
  {
   "cell_type": "code",
   "execution_count": 31,
   "id": "8a75a764-1bc0-4b44-8663-51463dd91945",
   "metadata": {
    "colab": {
     "base_uri": "https://localhost:8080/",
     "height": 178
    },
    "id": "8a75a764-1bc0-4b44-8663-51463dd91945",
    "outputId": "06606c5a-6fce-4f90-b9bc-668634498f2b"
   },
   "outputs": [
    {
     "data": {
      "text/plain": [
       "2291    74.5\n",
       "1188    81.2\n",
       "772     62.7\n",
       "Name: Life_expectancy, dtype: float64"
      ]
     },
     "execution_count": 31,
     "metadata": {},
     "output_type": "execute_result"
    }
   ],
   "source": [
    "y_train.head(3)"
   ]
  },
  {
   "cell_type": "markdown",
   "id": "f52dd295-6543-4c44-924f-b60bfd3ec0ad",
   "metadata": {
    "id": "f52dd295-6543-4c44-924f-b60bfd3ec0ad"
   },
   "source": [
    "Next we perform sanity checks to confirm that:\n",
    "* The indexes of X_train and with y_train coincide\n",
    "* The indexes of X_test and with y_test coincide\n",
    "\n",
    "The `all()` function returns `True` if ALL of the elements are True, False otherwise."
   ]
  },
  {
   "cell_type": "code",
   "execution_count": 33,
   "id": "35ce0c0c-a556-4a75-a039-207384e67282",
   "metadata": {
    "colab": {
     "base_uri": "https://localhost:8080/"
    },
    "id": "35ce0c0c-a556-4a75-a039-207384e67282",
    "outputId": "35219d33-ebe4-4ce6-f470-542b8177c132"
   },
   "outputs": [
    {
     "name": "stdout",
     "output_type": "stream",
     "text": [
      "True\n",
      "True\n"
     ]
    }
   ],
   "source": [
    "print(all(X_train.index == y_train.index))\n",
    "print(all(X_test.index == y_test.index))"
   ]
  },
  {
   "cell_type": "code",
   "execution_count": 34,
   "id": "78063bd0-45f6-4d6b-9a8e-2f68c4ba3440",
   "metadata": {
    "colab": {
     "base_uri": "https://localhost:8080/"
    },
    "id": "78063bd0-45f6-4d6b-9a8e-2f68c4ba3440",
    "outputId": "1c1391d1-60d4-4ed6-9150-00d3a34cae5f"
   },
   "outputs": [
    {
     "name": "stdout",
     "output_type": "stream",
     "text": [
      "True\n",
      "True\n"
     ]
    }
   ],
   "source": [
    "print(X_train.shape[0] == len(y_train))\n",
    "print(X_test.shape[0] == len(y_test))"
   ]
  },
  {
   "cell_type": "markdown",
   "id": "365c32a7-5d61-43ee-8263-1092c666c854",
   "metadata": {
    "id": "365c32a7-5d61-43ee-8263-1092c666c854"
   },
   "source": [
    "All sanity checks passed."
   ]
  },
  {
   "cell_type": "markdown",
   "id": "b6b3aa60-04f5-476b-a64c-3d800eb4c13a",
   "metadata": {
    "id": "b6b3aa60-04f5-476b-a64c-3d800eb4c13a"
   },
   "source": [
    "Please note that in the exploratory data analysis notebook `WHO - EDA.ipynb`, the dataset underwent thorough inspection, including data quality checks, data types and duplicate and missing values detection. Therefore, these steps are skipped in this notebook."
   ]
  },
  {
   "cell_type": "markdown",
   "id": "218ff644-1432-4382-82c9-ea2017b4762d",
   "metadata": {
    "id": "218ff644-1432-4382-82c9-ea2017b4762d"
   },
   "source": [
    "### 3. Feature Engineering"
   ]
  },
  {
   "cell_type": "markdown",
   "id": "f10139aa-866d-4a10-8d6f-a2387ae7adc4",
   "metadata": {
    "id": "f10139aa-866d-4a10-8d6f-a2387ae7adc4"
   },
   "source": [
    "Let's revisit the key takeaways from the exploratory data analysis and the actions that will be carried forward into the feature engineering phase:"
   ]
  },
  {
   "cell_type": "markdown",
   "id": "7f570829-cde5-4016-86cc-9b18272c5aa0",
   "metadata": {
    "id": "7f570829-cde5-4016-86cc-9b18272c5aa0"
   },
   "source": [
    "* _Columns with object data type such as `Country` and `Region` can be one-hot encoded, as they don't contain ordinal data. However, `Country` has 179 unique values and one-hot encoding would result in 179 new features and would lead to dimensionality issues._\n",
    "\n",
    "  **Action:** The `Region` column will be one-hot encoded. This will create `9` additional binary columns: `Region_Africa`, `Region_European Union`, `Region_Asia`, `Region_Central America and Caribbean`, `Region_Rest of Europe`, `Region_Middle East`, `Region_South America`, `Region_Oceania`, `Region_North America`. The `Country` column will be dropped, as one-hot encoding it and using all its 179 columns would lead to an unstable linear model with an extremely high condition number."
   ]
  },
  {
   "cell_type": "markdown",
   "id": "5431e7b6-c265-4cf7-8045-81b222c37ed9",
   "metadata": {
    "id": "5431e7b6-c265-4cf7-8045-81b222c37ed9"
   },
   "source": [
    "* _There are a number of outliers present in several columns. One approach to mitigating their impact could be to apply a transformation or, alternatively, remove some of them._\n",
    "\n",
    "  **Action:** all outliers will retained, as training the model without them would affect the model's ability to generalise. Data scaling will be performed to mitigate their impact."
   ]
  },
  {
   "cell_type": "markdown",
   "id": "b33eb6f8-6a4a-4146-b5a2-0814943f31be",
   "metadata": {
    "id": "b33eb6f8-6a4a-4146-b5a2-0814943f31be"
   },
   "source": [
    "Along with `Country` and `Economy_status_Developed` columns, the `Year` column will also be dropped for following reasons:\n",
    "* `Year` had a weakly positive correlation with `Life_expectancy`, showing that it doesn't directly influence life expectancy.\n",
    "* If a model were to learn to predict life expectancy based on the year, it would have issues generalising and would struggle to predict on new data."
   ]
  },
  {
   "cell_type": "markdown",
   "id": "03f16f51-23c4-467b-8184-6c7d6c374749",
   "metadata": {},
   "source": [
    "For this second model we have removed features that we deemed to be sensitive and could contain information that countries might not be willing to share.\\\n",
    "We decided that features relating to children should not be used as they are considered a vulnerable population. Children are not be able to consent to their own data collection and may not fully understand the implications of their data use.\\\n",
    "As such, the features `Infant_deaths`, `Under_five_deaths`, `Hepatitis_B`, `Polio`, `Diphtheria`, `Incidents_HIV`, `Thinness_ten_nineteen_years`, `Thinness_five_nine_years`, `Schooling` will not be included in this model.\\\n",
    "We have also decided to remove the `Economy_status_Developed` and `Economy_status_Developing` columns as these can largely be inferred from `GDP_per_capita` and some countries may not agree with a binary metric for measuring development."
   ]
  },
  {
   "cell_type": "markdown",
   "id": "79d54178-0b98-4d3a-b5ae-25aaa88fda06",
   "metadata": {
    "id": "79d54178-0b98-4d3a-b5ae-25aaa88fda06"
   },
   "source": [
    "Let’s now create our general function for feature engineering to implement the actions outlined above."
   ]
  },
  {
   "cell_type": "code",
   "execution_count": 45,
   "id": "08964be9-db10-4c4f-ba82-432033874254",
   "metadata": {
    "id": "08964be9-db10-4c4f-ba82-432033874254"
   },
   "outputs": [],
   "source": [
    "def feature_eng(df):\n",
    "\n",
    "    # Creating a copy of the DataFrame\n",
    "    df = df.copy()\n",
    "\n",
    "    # One-hot enconding the 'Region' column and dropping it afterwards\n",
    "    df = pd.get_dummies(df, columns=['Region'], drop_first=True, prefix='Region',dtype=int)\n",
    "\n",
    "    # Feature enrichment - creating new columns from combining highly correlated features\n",
    "    df['Population_log'] = np.log1p(X['Population_mln'])  # log(1 + x) to avoid log(0)\n",
    "\n",
    "    # # dropping the columns that have been combined\n",
    "    df.drop(columns=['Country','Population_mln', 'Year'], inplace=True)\n",
    "\n",
    "    # adding a constant\n",
    "    df = sm.add_constant(df)\n",
    "\n",
    "    return df  # returning the DataFrame"
   ]
  },
  {
   "cell_type": "markdown",
   "id": "8c13af57-7b78-437e-97b1-610bda859025",
   "metadata": {
    "id": "8c13af57-7b78-437e-97b1-610bda859025"
   },
   "source": [
    "Let's now apply the `feature_eng()` function to both the training and testing sets, creating new variables named `X_train_fe` and `X_test_fe`."
   ]
  },
  {
   "cell_type": "code",
   "execution_count": 47,
   "id": "ce6c1d3a-10b9-4073-8237-91f948c9bcae",
   "metadata": {
    "id": "ce6c1d3a-10b9-4073-8237-91f948c9bcae"
   },
   "outputs": [],
   "source": [
    "X_train_fe = feature_eng(X_train)\n",
    "X_test_fe = feature_eng(X_test)"
   ]
  },
  {
   "cell_type": "markdown",
   "id": "c01b8002-98d2-43af-ba94-630a0f9b7a5c",
   "metadata": {
    "id": "c01b8002-98d2-43af-ba94-630a0f9b7a5c"
   },
   "source": [
    "Next we perform sanity checks to confirm that:\n",
    "* The indexes of X_train_fe and with y_train coincide\n",
    "* The indexes of X_test_fe and with y_test coincide\n",
    "\n",
    "The `all()` function returns `True` if ALL of the elements are True, False otherwise."
   ]
  },
  {
   "cell_type": "code",
   "execution_count": 49,
   "id": "dc547af4-65e4-4562-a857-eb54f5d3f9a7",
   "metadata": {
    "colab": {
     "base_uri": "https://localhost:8080/"
    },
    "id": "dc547af4-65e4-4562-a857-eb54f5d3f9a7",
    "outputId": "e3e874d5-5efa-4601-f6bf-182495f798cd"
   },
   "outputs": [
    {
     "name": "stdout",
     "output_type": "stream",
     "text": [
      "True\n",
      "True\n"
     ]
    }
   ],
   "source": [
    "print(all(X_train_fe.index == y_train.index))\n",
    "print(all(X_test_fe.index == y_test.index))"
   ]
  },
  {
   "cell_type": "code",
   "execution_count": 50,
   "id": "5167e232-d2f3-43fc-bf84-e0ea6df8564e",
   "metadata": {
    "colab": {
     "base_uri": "https://localhost:8080/"
    },
    "id": "5167e232-d2f3-43fc-bf84-e0ea6df8564e",
    "outputId": "69296c6e-8510-41a8-e015-fe4a88a38102"
   },
   "outputs": [
    {
     "name": "stdout",
     "output_type": "stream",
     "text": [
      "True\n",
      "True\n"
     ]
    }
   ],
   "source": [
    "print(X_train_fe.shape[0] == len(y_train))\n",
    "print(X_test_fe.shape[0] == len(y_test))"
   ]
  },
  {
   "cell_type": "markdown",
   "id": "488973d8-d446-4379-970e-946cb6f0c32e",
   "metadata": {
    "id": "488973d8-d446-4379-970e-946cb6f0c32e"
   },
   "source": [
    "All sanity checks passed."
   ]
  },
  {
   "cell_type": "markdown",
   "id": "f85096ed-0145-41a2-9a3a-27a9fc041f96",
   "metadata": {
    "id": "f85096ed-0145-41a2-9a3a-27a9fc041f96"
   },
   "source": [
    "Let's check out the first few rows of `X_train_fe`."
   ]
  },
  {
   "cell_type": "code",
   "execution_count": 53,
   "id": "6c3b950f-3246-44da-b9e4-6eb2d8936abd",
   "metadata": {
    "colab": {
     "base_uri": "https://localhost:8080/",
     "height": 260
    },
    "id": "6c3b950f-3246-44da-b9e4-6eb2d8936abd",
    "outputId": "3253e311-06bd-4579-86b5-af34bf9400e0"
   },
   "outputs": [
    {
     "data": {
      "text/html": [
       "<div>\n",
       "<style scoped>\n",
       "    .dataframe tbody tr th:only-of-type {\n",
       "        vertical-align: middle;\n",
       "    }\n",
       "\n",
       "    .dataframe tbody tr th {\n",
       "        vertical-align: top;\n",
       "    }\n",
       "\n",
       "    .dataframe thead th {\n",
       "        text-align: right;\n",
       "    }\n",
       "</style>\n",
       "<table border=\"1\" class=\"dataframe\">\n",
       "  <thead>\n",
       "    <tr style=\"text-align: right;\">\n",
       "      <th></th>\n",
       "      <th>const</th>\n",
       "      <th>Adult_mortality</th>\n",
       "      <th>Alcohol_consumption</th>\n",
       "      <th>Measles</th>\n",
       "      <th>BMI</th>\n",
       "      <th>GDP_per_capita</th>\n",
       "      <th>Region_Asia</th>\n",
       "      <th>Region_Central America and Caribbean</th>\n",
       "      <th>Region_European Union</th>\n",
       "      <th>Region_Middle East</th>\n",
       "      <th>Region_North America</th>\n",
       "      <th>Region_Oceania</th>\n",
       "      <th>Region_Rest of Europe</th>\n",
       "      <th>Region_South America</th>\n",
       "      <th>Population_log</th>\n",
       "    </tr>\n",
       "  </thead>\n",
       "  <tbody>\n",
       "    <tr>\n",
       "      <th>2291</th>\n",
       "      <td>1.0</td>\n",
       "      <td>95.5935</td>\n",
       "      <td>1.62</td>\n",
       "      <td>92</td>\n",
       "      <td>27.2</td>\n",
       "      <td>58422</td>\n",
       "      <td>0</td>\n",
       "      <td>0</td>\n",
       "      <td>0</td>\n",
       "      <td>1</td>\n",
       "      <td>0</td>\n",
       "      <td>0</td>\n",
       "      <td>0</td>\n",
       "      <td>0</td>\n",
       "      <td>1.458615</td>\n",
       "    </tr>\n",
       "    <tr>\n",
       "      <th>1188</th>\n",
       "      <td>1.0</td>\n",
       "      <td>70.1140</td>\n",
       "      <td>10.24</td>\n",
       "      <td>94</td>\n",
       "      <td>26.2</td>\n",
       "      <td>27026</td>\n",
       "      <td>0</td>\n",
       "      <td>0</td>\n",
       "      <td>1</td>\n",
       "      <td>0</td>\n",
       "      <td>0</td>\n",
       "      <td>0</td>\n",
       "      <td>0</td>\n",
       "      <td>0</td>\n",
       "      <td>3.849083</td>\n",
       "    </tr>\n",
       "    <tr>\n",
       "      <th>772</th>\n",
       "      <td>1.0</td>\n",
       "      <td>217.4790</td>\n",
       "      <td>5.93</td>\n",
       "      <td>71</td>\n",
       "      <td>23.7</td>\n",
       "      <td>1087</td>\n",
       "      <td>0</td>\n",
       "      <td>1</td>\n",
       "      <td>0</td>\n",
       "      <td>0</td>\n",
       "      <td>0</td>\n",
       "      <td>0</td>\n",
       "      <td>0</td>\n",
       "      <td>0</td>\n",
       "      <td>0.139762</td>\n",
       "    </tr>\n",
       "    <tr>\n",
       "      <th>1336</th>\n",
       "      <td>1.0</td>\n",
       "      <td>106.0975</td>\n",
       "      <td>12.50</td>\n",
       "      <td>64</td>\n",
       "      <td>25.6</td>\n",
       "      <td>19068</td>\n",
       "      <td>0</td>\n",
       "      <td>0</td>\n",
       "      <td>1</td>\n",
       "      <td>0</td>\n",
       "      <td>0</td>\n",
       "      <td>0</td>\n",
       "      <td>0</td>\n",
       "      <td>0</td>\n",
       "      <td>2.435366</td>\n",
       "    </tr>\n",
       "    <tr>\n",
       "      <th>429</th>\n",
       "      <td>1.0</td>\n",
       "      <td>129.3125</td>\n",
       "      <td>10.07</td>\n",
       "      <td>94</td>\n",
       "      <td>26.1</td>\n",
       "      <td>10859</td>\n",
       "      <td>0</td>\n",
       "      <td>0</td>\n",
       "      <td>1</td>\n",
       "      <td>0</td>\n",
       "      <td>0</td>\n",
       "      <td>0</td>\n",
       "      <td>0</td>\n",
       "      <td>0</td>\n",
       "      <td>3.664587</td>\n",
       "    </tr>\n",
       "  </tbody>\n",
       "</table>\n",
       "</div>"
      ],
      "text/plain": [
       "      const  Adult_mortality  Alcohol_consumption  Measles   BMI  \\\n",
       "2291    1.0          95.5935                 1.62       92  27.2   \n",
       "1188    1.0          70.1140                10.24       94  26.2   \n",
       "772     1.0         217.4790                 5.93       71  23.7   \n",
       "1336    1.0         106.0975                12.50       64  25.6   \n",
       "429     1.0         129.3125                10.07       94  26.1   \n",
       "\n",
       "      GDP_per_capita  Region_Asia  Region_Central America and Caribbean  \\\n",
       "2291           58422            0                                     0   \n",
       "1188           27026            0                                     0   \n",
       "772             1087            0                                     1   \n",
       "1336           19068            0                                     0   \n",
       "429            10859            0                                     0   \n",
       "\n",
       "      Region_European Union  Region_Middle East  Region_North America  \\\n",
       "2291                      0                   1                     0   \n",
       "1188                      1                   0                     0   \n",
       "772                       0                   0                     0   \n",
       "1336                      1                   0                     0   \n",
       "429                       1                   0                     0   \n",
       "\n",
       "      Region_Oceania  Region_Rest of Europe  Region_South America  \\\n",
       "2291               0                      0                     0   \n",
       "1188               0                      0                     0   \n",
       "772                0                      0                     0   \n",
       "1336               0                      0                     0   \n",
       "429                0                      0                     0   \n",
       "\n",
       "      Population_log  \n",
       "2291        1.458615  \n",
       "1188        3.849083  \n",
       "772         0.139762  \n",
       "1336        2.435366  \n",
       "429         3.664587  "
      ]
     },
     "execution_count": 53,
     "metadata": {},
     "output_type": "execute_result"
    }
   ],
   "source": [
    "pd.set_option('display.max_columns', None)\n",
    "X_train_fe.head()"
   ]
  },
  {
   "cell_type": "markdown",
   "id": "752590ff-d92e-45e9-8969-9f044d7de505",
   "metadata": {
    "id": "752590ff-d92e-45e9-8969-9f044d7de505"
   },
   "source": [
    "Let's have a look at the data types in the training set to confirm that all is in order. We must only have numerical values.  "
   ]
  },
  {
   "cell_type": "code",
   "execution_count": 55,
   "id": "74522ec1-0f42-4184-afe5-2d47abdde975",
   "metadata": {
    "colab": {
     "base_uri": "https://localhost:8080/",
     "height": 585
    },
    "id": "74522ec1-0f42-4184-afe5-2d47abdde975",
    "outputId": "6bd0f235-5852-495a-c341-a85b03e4acf6"
   },
   "outputs": [
    {
     "data": {
      "text/plain": [
       "const                                   float64\n",
       "Adult_mortality                         float64\n",
       "Alcohol_consumption                     float64\n",
       "Measles                                   int64\n",
       "BMI                                     float64\n",
       "GDP_per_capita                            int64\n",
       "Region_Asia                               int32\n",
       "Region_Central America and Caribbean      int32\n",
       "Region_European Union                     int32\n",
       "Region_Middle East                        int32\n",
       "Region_North America                      int32\n",
       "Region_Oceania                            int32\n",
       "Region_Rest of Europe                     int32\n",
       "Region_South America                      int32\n",
       "Population_log                          float64\n",
       "dtype: object"
      ]
     },
     "execution_count": 55,
     "metadata": {},
     "output_type": "execute_result"
    }
   ],
   "source": [
    "X_train_fe.dtypes"
   ]
  },
  {
   "cell_type": "markdown",
   "id": "fc1d2d68-d232-43ac-b807-28d3df4cb2b2",
   "metadata": {
    "id": "fc1d2d68-d232-43ac-b807-28d3df4cb2b2"
   },
   "source": [
    "Let's also confirm that we have no null values in our training set."
   ]
  },
  {
   "cell_type": "code",
   "execution_count": 57,
   "id": "37c24500-09af-4d87-bc7b-bd44f13374fe",
   "metadata": {
    "colab": {
     "base_uri": "https://localhost:8080/",
     "height": 585
    },
    "id": "37c24500-09af-4d87-bc7b-bd44f13374fe",
    "outputId": "65dca47f-d71a-4b2f-b9dd-b6e15b4671a6"
   },
   "outputs": [
    {
     "data": {
      "text/plain": [
       "const                                   0\n",
       "Adult_mortality                         0\n",
       "Alcohol_consumption                     0\n",
       "Measles                                 0\n",
       "BMI                                     0\n",
       "GDP_per_capita                          0\n",
       "Region_Asia                             0\n",
       "Region_Central America and Caribbean    0\n",
       "Region_European Union                   0\n",
       "Region_Middle East                      0\n",
       "Region_North America                    0\n",
       "Region_Oceania                          0\n",
       "Region_Rest of Europe                   0\n",
       "Region_South America                    0\n",
       "Population_log                          0\n",
       "dtype: int64"
      ]
     },
     "execution_count": 57,
     "metadata": {},
     "output_type": "execute_result"
    }
   ],
   "source": [
    "X_train_fe.isnull().sum()"
   ]
  },
  {
   "cell_type": "markdown",
   "id": "a0521ad3-7923-43f2-8a89-5346c23968eb",
   "metadata": {
    "id": "a0521ad3-7923-43f2-8a89-5346c23968eb",
    "tags": []
   },
   "source": [
    "### 4. Data Scaling"
   ]
  },
  {
   "cell_type": "markdown",
   "id": "99144080-9097-42a0-b326-a850a3ffa13d",
   "metadata": {
    "id": "99144080-9097-42a0-b326-a850a3ffa13d"
   },
   "source": [
    "In the process of building the linear model, we observed that training it with features with different ranges can cause imbalances in the model, affecting its performance.\\\n",
    "Let’s examine the range between the maximum and minimum values across all columns in `X_train_fe`."
   ]
  },
  {
   "cell_type": "code",
   "execution_count": 60,
   "id": "de8285cb-dc14-4855-b1a8-3d6589d815d7",
   "metadata": {
    "id": "de8285cb-dc14-4855-b1a8-3d6589d815d7"
   },
   "outputs": [],
   "source": [
    "# This function outputs the value ranges of each feature\n",
    "\n",
    "def range_checker(df):\n",
    "    columns = list(df.columns)  # create a list with all the columns in the dataframe\n",
    "    for i in columns:   # iterate through the list of columns\n",
    "        print(f'The range of \"{i}\" column is {df[i].max() - df[i].min()}')  # print the difference between maximum and minimum values"
   ]
  },
  {
   "cell_type": "code",
   "execution_count": 61,
   "id": "fbfcb739-5a25-40ef-8d16-0cfaa44e1c52",
   "metadata": {
    "colab": {
     "base_uri": "https://localhost:8080/"
    },
    "id": "fbfcb739-5a25-40ef-8d16-0cfaa44e1c52",
    "outputId": "8cbcaeaf-4cde-4104-a88a-27fe38a84451"
   },
   "outputs": [
    {
     "name": "stdout",
     "output_type": "stream",
     "text": [
      "The range of \"const\" column is 0.0\n",
      "The range of \"Adult_mortality\" column is 669.3625\n",
      "The range of \"Alcohol_consumption\" column is 17.75\n",
      "The range of \"Measles\" column is 87\n",
      "The range of \"BMI\" column is 12.3\n",
      "The range of \"GDP_per_capita\" column is 112270\n",
      "The range of \"Region_Asia\" column is 1\n",
      "The range of \"Region_Central America and Caribbean\" column is 1\n",
      "The range of \"Region_European Union\" column is 1\n",
      "The range of \"Region_Middle East\" column is 1\n",
      "The range of \"Region_North America\" column is 1\n",
      "The range of \"Region_Oceania\" column is 1\n",
      "The range of \"Region_Rest of Europe\" column is 1\n",
      "The range of \"Region_South America\" column is 1\n",
      "The range of \"Population_log\" column is 7.153500731319662\n"
     ]
    }
   ],
   "source": [
    "range_checker(X_train_fe)"
   ]
  },
  {
   "cell_type": "markdown",
   "id": "c90b4833-9e87-4d67-bba0-de7036ddbd20",
   "metadata": {
    "id": "c90b4833-9e87-4d67-bba0-de7036ddbd20"
   },
   "source": [
    "Let's focus on the non-binary columns.\\\n",
    "We can observe high value ranges in columns such as `GDP_per_capita` and `Adult_mortality`.\\\n",
    "On the other hand, there are low value ranges in columns such as `Alcohol_consumption`, `Measles`, `BMI` and `Population_log`. Training a linear model with these columns as they are (with such different ranges) would cause imbalances in the model."
   ]
  },
  {
   "cell_type": "markdown",
   "id": "20faa8f7-3ca0-4812-9d81-a1a4500f3872",
   "metadata": {
    "id": "20faa8f7-3ca0-4812-9d81-a1a4500f3872"
   },
   "source": [
    "To address this, let's apply scaling to normalize the feature ranges, ensuring model stability and performance.\\\n",
    "We will use `RobustScaler`, which is ideal for data with outliers non-Gaussian distributions, as is the case with this dataset."
   ]
  },
  {
   "cell_type": "code",
   "execution_count": 64,
   "id": "2ed21b76-2cfd-48cb-9434-ba91ee36282a",
   "metadata": {
    "id": "2ed21b76-2cfd-48cb-9434-ba91ee36282a"
   },
   "outputs": [],
   "source": [
    "# Creating a list of columns to scale\n",
    "columns_to_scale = ['Adult_mortality', 'Alcohol_consumption','Measles','BMI','GDP_per_capita'] # we don't include log_population\n",
    "\n",
    "# Initialize scaler\n",
    "scaler = RobustScaler()\n",
    "\n",
    "# Fit on train and transform both sets\n",
    "X_train_fe[columns_to_scale] = scaler.fit_transform(X_train_fe[columns_to_scale])\n",
    "X_test_fe[columns_to_scale] = scaler.transform(X_test_fe[columns_to_scale])"
   ]
  },
  {
   "cell_type": "markdown",
   "id": "487bef17-dd60-4541-b0bc-88d0b1b8934d",
   "metadata": {
    "id": "487bef17-dd60-4541-b0bc-88d0b1b8934d"
   },
   "source": [
    "Checking out the first few rows of the scaled dataframe `X_train_fe`."
   ]
  },
  {
   "cell_type": "code",
   "execution_count": 66,
   "id": "7311defb-3cd7-40e2-b7d4-ecf79730a1b0",
   "metadata": {
    "colab": {
     "base_uri": "https://localhost:8080/",
     "height": 198
    },
    "id": "7311defb-3cd7-40e2-b7d4-ecf79730a1b0",
    "outputId": "d90dad86-175b-4394-f1af-5872fcdefef2"
   },
   "outputs": [
    {
     "data": {
      "text/html": [
       "<div>\n",
       "<style scoped>\n",
       "    .dataframe tbody tr th:only-of-type {\n",
       "        vertical-align: middle;\n",
       "    }\n",
       "\n",
       "    .dataframe tbody tr th {\n",
       "        vertical-align: top;\n",
       "    }\n",
       "\n",
       "    .dataframe thead th {\n",
       "        text-align: right;\n",
       "    }\n",
       "</style>\n",
       "<table border=\"1\" class=\"dataframe\">\n",
       "  <thead>\n",
       "    <tr style=\"text-align: right;\">\n",
       "      <th></th>\n",
       "      <th>const</th>\n",
       "      <th>Adult_mortality</th>\n",
       "      <th>Alcohol_consumption</th>\n",
       "      <th>Measles</th>\n",
       "      <th>BMI</th>\n",
       "      <th>GDP_per_capita</th>\n",
       "      <th>Region_Asia</th>\n",
       "      <th>Region_Central America and Caribbean</th>\n",
       "      <th>Region_European Union</th>\n",
       "      <th>Region_Middle East</th>\n",
       "      <th>Region_North America</th>\n",
       "      <th>Region_Oceania</th>\n",
       "      <th>Region_Rest of Europe</th>\n",
       "      <th>Region_South America</th>\n",
       "      <th>Population_log</th>\n",
       "    </tr>\n",
       "  </thead>\n",
       "  <tbody>\n",
       "    <tr>\n",
       "      <th>2291</th>\n",
       "      <td>1.0</td>\n",
       "      <td>-0.488750</td>\n",
       "      <td>-0.358006</td>\n",
       "      <td>0.310345</td>\n",
       "      <td>0.50000</td>\n",
       "      <td>4.836784</td>\n",
       "      <td>0</td>\n",
       "      <td>0</td>\n",
       "      <td>0</td>\n",
       "      <td>1</td>\n",
       "      <td>0</td>\n",
       "      <td>0</td>\n",
       "      <td>0</td>\n",
       "      <td>0</td>\n",
       "      <td>1.458615</td>\n",
       "    </tr>\n",
       "    <tr>\n",
       "      <th>1188</th>\n",
       "      <td>1.0</td>\n",
       "      <td>-0.670939</td>\n",
       "      <td>0.944109</td>\n",
       "      <td>0.379310</td>\n",
       "      <td>0.18750</td>\n",
       "      <td>2.035070</td>\n",
       "      <td>0</td>\n",
       "      <td>0</td>\n",
       "      <td>1</td>\n",
       "      <td>0</td>\n",
       "      <td>0</td>\n",
       "      <td>0</td>\n",
       "      <td>0</td>\n",
       "      <td>0</td>\n",
       "      <td>3.849083</td>\n",
       "    </tr>\n",
       "    <tr>\n",
       "      <th>772</th>\n",
       "      <td>1.0</td>\n",
       "      <td>0.382784</td>\n",
       "      <td>0.293051</td>\n",
       "      <td>-0.413793</td>\n",
       "      <td>-0.59375</td>\n",
       "      <td>-0.279672</td>\n",
       "      <td>0</td>\n",
       "      <td>1</td>\n",
       "      <td>0</td>\n",
       "      <td>0</td>\n",
       "      <td>0</td>\n",
       "      <td>0</td>\n",
       "      <td>0</td>\n",
       "      <td>0</td>\n",
       "      <td>0.139762</td>\n",
       "    </tr>\n",
       "  </tbody>\n",
       "</table>\n",
       "</div>"
      ],
      "text/plain": [
       "      const  Adult_mortality  Alcohol_consumption   Measles      BMI  \\\n",
       "2291    1.0        -0.488750            -0.358006  0.310345  0.50000   \n",
       "1188    1.0        -0.670939             0.944109  0.379310  0.18750   \n",
       "772     1.0         0.382784             0.293051 -0.413793 -0.59375   \n",
       "\n",
       "      GDP_per_capita  Region_Asia  Region_Central America and Caribbean  \\\n",
       "2291        4.836784            0                                     0   \n",
       "1188        2.035070            0                                     0   \n",
       "772        -0.279672            0                                     1   \n",
       "\n",
       "      Region_European Union  Region_Middle East  Region_North America  \\\n",
       "2291                      0                   1                     0   \n",
       "1188                      1                   0                     0   \n",
       "772                       0                   0                     0   \n",
       "\n",
       "      Region_Oceania  Region_Rest of Europe  Region_South America  \\\n",
       "2291               0                      0                     0   \n",
       "1188               0                      0                     0   \n",
       "772                0                      0                     0   \n",
       "\n",
       "      Population_log  \n",
       "2291        1.458615  \n",
       "1188        3.849083  \n",
       "772         0.139762  "
      ]
     },
     "execution_count": 66,
     "metadata": {},
     "output_type": "execute_result"
    }
   ],
   "source": [
    "pd.set_option('display.max_columns', None)\n",
    "X_train_fe.head(3)"
   ]
  },
  {
   "cell_type": "markdown",
   "id": "65665d9c-974e-4011-98b6-ba6a9b56f4da",
   "metadata": {
    "id": "65665d9c-974e-4011-98b6-ba6a9b56f4da"
   },
   "source": [
    "Running again the `range_checker()` function, we can confirm that the value ranges of the features are more homogeneous."
   ]
  },
  {
   "cell_type": "code",
   "execution_count": 68,
   "id": "8b0adaf9-b044-4012-8527-ce2d7d11f62a",
   "metadata": {
    "colab": {
     "base_uri": "https://localhost:8080/"
    },
    "id": "8b0adaf9-b044-4012-8527-ce2d7d11f62a",
    "outputId": "e9ce8d2e-13ba-45f0-8418-aebdf6034c68"
   },
   "outputs": [
    {
     "name": "stdout",
     "output_type": "stream",
     "text": [
      "The range of \"const\" column is 0.0\n",
      "The range of \"Adult_mortality\" column is 4.786228988911473\n",
      "The range of \"Alcohol_consumption\" column is 2.6812688821752264\n",
      "The range of \"Measles\" column is 3.0\n",
      "The range of \"BMI\" column is 3.843750000000001\n",
      "The range of \"GDP_per_capita\" column is 10.01873996073532\n",
      "The range of \"Region_Asia\" column is 1\n",
      "The range of \"Region_Central America and Caribbean\" column is 1\n",
      "The range of \"Region_European Union\" column is 1\n",
      "The range of \"Region_Middle East\" column is 1\n",
      "The range of \"Region_North America\" column is 1\n",
      "The range of \"Region_Oceania\" column is 1\n",
      "The range of \"Region_Rest of Europe\" column is 1\n",
      "The range of \"Region_South America\" column is 1\n",
      "The range of \"Population_log\" column is 7.153500731319662\n"
     ]
    }
   ],
   "source": [
    "range_checker(X_train_fe)"
   ]
  },
  {
   "cell_type": "markdown",
   "id": "26235de9-e7ae-4943-b003-3a2afa206d00",
   "metadata": {
    "id": "26235de9-e7ae-4943-b003-3a2afa206d00"
   },
   "source": [
    "Now our data is ready for modelling!"
   ]
  },
  {
   "cell_type": "markdown",
   "id": "1e2b110f-382b-41d4-844e-2360a30c66b9",
   "metadata": {
    "id": "1e2b110f-382b-41d4-844e-2360a30c66b9",
    "tags": []
   },
   "source": [
    "### 5. Multicollinearity Assessment"
   ]
  },
  {
   "cell_type": "markdown",
   "id": "13b9b43c-9012-4ca1-9f5b-23ec76ba3979",
   "metadata": {
    "id": "13b9b43c-9012-4ca1-9f5b-23ec76ba3979"
   },
   "source": [
    "With the `Variance Inflation Factor (VIF)` we can detect multicollinearity in the data. We'll want to avoid multicollinearity as it increases the model's condition number and negatively impacts the robustness and stability of our model."
   ]
  },
  {
   "cell_type": "code",
   "execution_count": 72,
   "id": "60549c87-e3f2-462a-a80f-6b767a3e5b95",
   "metadata": {
    "colab": {
     "base_uri": "https://localhost:8080/"
    },
    "id": "60549c87-e3f2-462a-a80f-6b767a3e5b95",
    "outputId": "209a259c-b36e-461d-f96f-ad31147f89fa"
   },
   "outputs": [
    {
     "name": "stdout",
     "output_type": "stream",
     "text": [
      "                                 Feature        VIF\n",
      "0                                  const  11.942225\n",
      "1                        Adult_mortality   2.688755\n",
      "2                    Alcohol_consumption   2.815096\n",
      "3                                Measles   1.485902\n",
      "4                                    BMI   2.410977\n",
      "5                         GDP_per_capita   1.783389\n",
      "6                            Region_Asia   1.845773\n",
      "7   Region_Central America and Caribbean   1.956425\n",
      "8                  Region_European Union   3.687605\n",
      "9                     Region_Middle East   2.026780\n",
      "10                  Region_North America   1.386237\n",
      "11                        Region_Oceania   1.725339\n",
      "12                 Region_Rest of Europe   2.004294\n",
      "13                  Region_South America   1.706682\n",
      "14                        Population_log   1.456627\n"
     ]
    }
   ],
   "source": [
    "vif_data = pd.DataFrame()  # create a new dataframe\n",
    "vif_data['Feature'] = X_train_fe.columns   # create a 'Feature' column which will contain the names of the features in X_train_fe\n",
    "vif_data['VIF'] = [variance_inflation_factor(X_train_fe.values, i) for i in range(X_train_fe.shape[1])]  # using a loop, calculate the VIF for each feature (list comprehension taken from DataCamp website)\n",
    "print(vif_data)"
   ]
  },
  {
   "cell_type": "markdown",
   "id": "bec875e2-2f3d-4696-b09d-4952b74a8b11",
   "metadata": {
    "id": "bec875e2-2f3d-4696-b09d-4952b74a8b11"
   },
   "source": [
    "* All of the features have a **VIF between 1 and 5** (moderate multicollinearity)\n",
    "* There are no features with a **VIF > 10** (serious muticollinearity)."
   ]
  },
  {
   "cell_type": "markdown",
   "id": "dd07bb9e-4575-4c69-8218-3e59d40fcc82",
   "metadata": {
    "id": "dd07bb9e-4575-4c69-8218-3e59d40fcc82",
    "tags": []
   },
   "source": [
    "### 6. Modelling"
   ]
  },
  {
   "cell_type": "markdown",
   "id": "3a5a487e-8c8c-4ee7-bd00-7d919c361c63",
   "metadata": {
    "id": "3a5a487e-8c8c-4ee7-bd00-7d919c361c63"
   },
   "source": [
    "Let's now build an OLS (Ordinary Least Squares) model!"
   ]
  },
  {
   "cell_type": "code",
   "execution_count": 76,
   "id": "e178088c-8972-42a2-a904-95de95947e8f",
   "metadata": {
    "colab": {
     "base_uri": "https://localhost:8080/",
     "height": 740
    },
    "id": "e178088c-8972-42a2-a904-95de95947e8f",
    "outputId": "d75cfa1f-14a0-4a28-a1fe-14810c48b63d"
   },
   "outputs": [
    {
     "data": {
      "text/html": [
       "<table class=\"simpletable\">\n",
       "<caption>OLS Regression Results</caption>\n",
       "<tr>\n",
       "  <th>Dep. Variable:</th>     <td>Life_expectancy</td> <th>  R-squared:         </th> <td>   0.947</td> \n",
       "</tr>\n",
       "<tr>\n",
       "  <th>Model:</th>                   <td>OLS</td>       <th>  Adj. R-squared:    </th> <td>   0.947</td> \n",
       "</tr>\n",
       "<tr>\n",
       "  <th>Method:</th>             <td>Least Squares</td>  <th>  F-statistic:       </th> <td>   2919.</td> \n",
       "</tr>\n",
       "<tr>\n",
       "  <th>Date:</th>             <td>Mon, 07 Apr 2025</td> <th>  Prob (F-statistic):</th>  <td>  0.00</td>  \n",
       "</tr>\n",
       "<tr>\n",
       "  <th>Time:</th>                 <td>12:09:14</td>     <th>  Log-Likelihood:    </th> <td> -5019.6</td> \n",
       "</tr>\n",
       "<tr>\n",
       "  <th>No. Observations:</th>      <td>  2291</td>      <th>  AIC:               </th> <td>1.007e+04</td>\n",
       "</tr>\n",
       "<tr>\n",
       "  <th>Df Residuals:</th>          <td>  2276</td>      <th>  BIC:               </th> <td>1.016e+04</td>\n",
       "</tr>\n",
       "<tr>\n",
       "  <th>Df Model:</th>              <td>    14</td>      <th>                     </th>     <td> </td>    \n",
       "</tr>\n",
       "<tr>\n",
       "  <th>Covariance Type:</th>      <td>nonrobust</td>    <th>                     </th>     <td> </td>    \n",
       "</tr>\n",
       "</table>\n",
       "<table class=\"simpletable\">\n",
       "<tr>\n",
       "                    <td></td>                      <th>coef</th>     <th>std err</th>      <th>t</th>      <th>P>|t|</th>  <th>[0.025</th>    <th>0.975]</th>  \n",
       "</tr>\n",
       "<tr>\n",
       "  <th>const</th>                                <td>   68.3463</td> <td>    0.157</td> <td>  435.971</td> <td> 0.000</td> <td>   68.039</td> <td>   68.654</td>\n",
       "</tr>\n",
       "<tr>\n",
       "  <th>Adult_mortality</th>                      <td>   -8.4072</td> <td>    0.090</td> <td>  -93.116</td> <td> 0.000</td> <td>   -8.584</td> <td>   -8.230</td>\n",
       "</tr>\n",
       "<tr>\n",
       "  <th>Alcohol_consumption</th>                  <td>    1.2904</td> <td>    0.126</td> <td>   10.214</td> <td> 0.000</td> <td>    1.043</td> <td>    1.538</td>\n",
       "</tr>\n",
       "<tr>\n",
       "  <th>Measles</th>                              <td>    0.8443</td> <td>    0.086</td> <td>    9.812</td> <td> 0.000</td> <td>    0.676</td> <td>    1.013</td>\n",
       "</tr>\n",
       "<tr>\n",
       "  <th>BMI</th>                                  <td>    1.5265</td> <td>    0.103</td> <td>   14.805</td> <td> 0.000</td> <td>    1.324</td> <td>    1.729</td>\n",
       "</tr>\n",
       "<tr>\n",
       "  <th>GDP_per_capita</th>                       <td>    0.5509</td> <td>    0.040</td> <td>   13.712</td> <td> 0.000</td> <td>    0.472</td> <td>    0.630</td>\n",
       "</tr>\n",
       "<tr>\n",
       "  <th>Region_Asia</th>                          <td>    2.1249</td> <td>    0.171</td> <td>   12.404</td> <td> 0.000</td> <td>    1.789</td> <td>    2.461</td>\n",
       "</tr>\n",
       "<tr>\n",
       "  <th>Region_Central America and Caribbean</th> <td>    2.9336</td> <td>    0.207</td> <td>   14.159</td> <td> 0.000</td> <td>    2.527</td> <td>    3.340</td>\n",
       "</tr>\n",
       "<tr>\n",
       "  <th>Region_European Union</th>                <td>    2.2576</td> <td>    0.245</td> <td>    9.202</td> <td> 0.000</td> <td>    1.776</td> <td>    2.739</td>\n",
       "</tr>\n",
       "<tr>\n",
       "  <th>Region_Middle East</th>                   <td>    0.9307</td> <td>    0.238</td> <td>    3.907</td> <td> 0.000</td> <td>    0.464</td> <td>    1.398</td>\n",
       "</tr>\n",
       "<tr>\n",
       "  <th>Region_North America</th>                 <td>    1.4112</td> <td>    0.418</td> <td>    3.375</td> <td> 0.001</td> <td>    0.591</td> <td>    2.231</td>\n",
       "</tr>\n",
       "<tr>\n",
       "  <th>Region_Oceania</th>                       <td>    0.4411</td> <td>    0.249</td> <td>    1.773</td> <td> 0.076</td> <td>   -0.047</td> <td>    0.929</td>\n",
       "</tr>\n",
       "<tr>\n",
       "  <th>Region_Rest of Europe</th>                <td>    2.1803</td> <td>    0.232</td> <td>    9.407</td> <td> 0.000</td> <td>    1.726</td> <td>    2.635</td>\n",
       "</tr>\n",
       "<tr>\n",
       "  <th>Region_South America</th>                 <td>    2.7302</td> <td>    0.234</td> <td>   11.674</td> <td> 0.000</td> <td>    2.272</td> <td>    3.189</td>\n",
       "</tr>\n",
       "<tr>\n",
       "  <th>Population_log</th>                       <td>    0.2873</td> <td>    0.038</td> <td>    7.614</td> <td> 0.000</td> <td>    0.213</td> <td>    0.361</td>\n",
       "</tr>\n",
       "</table>\n",
       "<table class=\"simpletable\">\n",
       "<tr>\n",
       "  <th>Omnibus:</th>       <td>75.743</td> <th>  Durbin-Watson:     </th> <td>   1.931</td>\n",
       "</tr>\n",
       "<tr>\n",
       "  <th>Prob(Omnibus):</th> <td> 0.000</td> <th>  Jarque-Bera (JB):  </th> <td> 169.045</td>\n",
       "</tr>\n",
       "<tr>\n",
       "  <th>Skew:</th>          <td>-0.175</td> <th>  Prob(JB):          </th> <td>1.96e-37</td>\n",
       "</tr>\n",
       "<tr>\n",
       "  <th>Kurtosis:</th>      <td> 4.284</td> <th>  Cond. No.          </th> <td>    33.5</td>\n",
       "</tr>\n",
       "</table><br/><br/>Notes:<br/>[1] Standard Errors assume that the covariance matrix of the errors is correctly specified."
      ],
      "text/latex": [
       "\\begin{center}\n",
       "\\begin{tabular}{lclc}\n",
       "\\toprule\n",
       "\\textbf{Dep. Variable:}                        & Life\\_expectancy & \\textbf{  R-squared:         } &     0.947   \\\\\n",
       "\\textbf{Model:}                                &       OLS        & \\textbf{  Adj. R-squared:    } &     0.947   \\\\\n",
       "\\textbf{Method:}                               &  Least Squares   & \\textbf{  F-statistic:       } &     2919.   \\\\\n",
       "\\textbf{Date:}                                 & Mon, 07 Apr 2025 & \\textbf{  Prob (F-statistic):} &     0.00    \\\\\n",
       "\\textbf{Time:}                                 &     12:09:14     & \\textbf{  Log-Likelihood:    } &   -5019.6   \\\\\n",
       "\\textbf{No. Observations:}                     &        2291      & \\textbf{  AIC:               } & 1.007e+04   \\\\\n",
       "\\textbf{Df Residuals:}                         &        2276      & \\textbf{  BIC:               } & 1.016e+04   \\\\\n",
       "\\textbf{Df Model:}                             &          14      & \\textbf{                     } &             \\\\\n",
       "\\textbf{Covariance Type:}                      &    nonrobust     & \\textbf{                     } &             \\\\\n",
       "\\bottomrule\n",
       "\\end{tabular}\n",
       "\\begin{tabular}{lcccccc}\n",
       "                                               & \\textbf{coef} & \\textbf{std err} & \\textbf{t} & \\textbf{P$> |$t$|$} & \\textbf{[0.025} & \\textbf{0.975]}  \\\\\n",
       "\\midrule\n",
       "\\textbf{const}                                 &      68.3463  &        0.157     &   435.971  &         0.000        &       68.039    &       68.654     \\\\\n",
       "\\textbf{Adult\\_mortality}                      &      -8.4072  &        0.090     &   -93.116  &         0.000        &       -8.584    &       -8.230     \\\\\n",
       "\\textbf{Alcohol\\_consumption}                  &       1.2904  &        0.126     &    10.214  &         0.000        &        1.043    &        1.538     \\\\\n",
       "\\textbf{Measles}                               &       0.8443  &        0.086     &     9.812  &         0.000        &        0.676    &        1.013     \\\\\n",
       "\\textbf{BMI}                                   &       1.5265  &        0.103     &    14.805  &         0.000        &        1.324    &        1.729     \\\\\n",
       "\\textbf{GDP\\_per\\_capita}                      &       0.5509  &        0.040     &    13.712  &         0.000        &        0.472    &        0.630     \\\\\n",
       "\\textbf{Region\\_Asia}                          &       2.1249  &        0.171     &    12.404  &         0.000        &        1.789    &        2.461     \\\\\n",
       "\\textbf{Region\\_Central America and Caribbean} &       2.9336  &        0.207     &    14.159  &         0.000        &        2.527    &        3.340     \\\\\n",
       "\\textbf{Region\\_European Union}                &       2.2576  &        0.245     &     9.202  &         0.000        &        1.776    &        2.739     \\\\\n",
       "\\textbf{Region\\_Middle East}                   &       0.9307  &        0.238     &     3.907  &         0.000        &        0.464    &        1.398     \\\\\n",
       "\\textbf{Region\\_North America}                 &       1.4112  &        0.418     &     3.375  &         0.001        &        0.591    &        2.231     \\\\\n",
       "\\textbf{Region\\_Oceania}                       &       0.4411  &        0.249     &     1.773  &         0.076        &       -0.047    &        0.929     \\\\\n",
       "\\textbf{Region\\_Rest of Europe}                &       2.1803  &        0.232     &     9.407  &         0.000        &        1.726    &        2.635     \\\\\n",
       "\\textbf{Region\\_South America}                 &       2.7302  &        0.234     &    11.674  &         0.000        &        2.272    &        3.189     \\\\\n",
       "\\textbf{Population\\_log}                       &       0.2873  &        0.038     &     7.614  &         0.000        &        0.213    &        0.361     \\\\\n",
       "\\bottomrule\n",
       "\\end{tabular}\n",
       "\\begin{tabular}{lclc}\n",
       "\\textbf{Omnibus:}       & 75.743 & \\textbf{  Durbin-Watson:     } &    1.931  \\\\\n",
       "\\textbf{Prob(Omnibus):} &  0.000 & \\textbf{  Jarque-Bera (JB):  } &  169.045  \\\\\n",
       "\\textbf{Skew:}          & -0.175 & \\textbf{  Prob(JB):          } & 1.96e-37  \\\\\n",
       "\\textbf{Kurtosis:}      &  4.284 & \\textbf{  Cond. No.          } &     33.5  \\\\\n",
       "\\bottomrule\n",
       "\\end{tabular}\n",
       "%\\caption{OLS Regression Results}\n",
       "\\end{center}\n",
       "\n",
       "Notes: \\newline\n",
       " [1] Standard Errors assume that the covariance matrix of the errors is correctly specified."
      ],
      "text/plain": [
       "<class 'statsmodels.iolib.summary.Summary'>\n",
       "\"\"\"\n",
       "                            OLS Regression Results                            \n",
       "==============================================================================\n",
       "Dep. Variable:        Life_expectancy   R-squared:                       0.947\n",
       "Model:                            OLS   Adj. R-squared:                  0.947\n",
       "Method:                 Least Squares   F-statistic:                     2919.\n",
       "Date:                Mon, 07 Apr 2025   Prob (F-statistic):               0.00\n",
       "Time:                        12:09:14   Log-Likelihood:                -5019.6\n",
       "No. Observations:                2291   AIC:                         1.007e+04\n",
       "Df Residuals:                    2276   BIC:                         1.016e+04\n",
       "Df Model:                          14                                         \n",
       "Covariance Type:            nonrobust                                         \n",
       "========================================================================================================\n",
       "                                           coef    std err          t      P>|t|      [0.025      0.975]\n",
       "--------------------------------------------------------------------------------------------------------\n",
       "const                                   68.3463      0.157    435.971      0.000      68.039      68.654\n",
       "Adult_mortality                         -8.4072      0.090    -93.116      0.000      -8.584      -8.230\n",
       "Alcohol_consumption                      1.2904      0.126     10.214      0.000       1.043       1.538\n",
       "Measles                                  0.8443      0.086      9.812      0.000       0.676       1.013\n",
       "BMI                                      1.5265      0.103     14.805      0.000       1.324       1.729\n",
       "GDP_per_capita                           0.5509      0.040     13.712      0.000       0.472       0.630\n",
       "Region_Asia                              2.1249      0.171     12.404      0.000       1.789       2.461\n",
       "Region_Central America and Caribbean     2.9336      0.207     14.159      0.000       2.527       3.340\n",
       "Region_European Union                    2.2576      0.245      9.202      0.000       1.776       2.739\n",
       "Region_Middle East                       0.9307      0.238      3.907      0.000       0.464       1.398\n",
       "Region_North America                     1.4112      0.418      3.375      0.001       0.591       2.231\n",
       "Region_Oceania                           0.4411      0.249      1.773      0.076      -0.047       0.929\n",
       "Region_Rest of Europe                    2.1803      0.232      9.407      0.000       1.726       2.635\n",
       "Region_South America                     2.7302      0.234     11.674      0.000       2.272       3.189\n",
       "Population_log                           0.2873      0.038      7.614      0.000       0.213       0.361\n",
       "==============================================================================\n",
       "Omnibus:                       75.743   Durbin-Watson:                   1.931\n",
       "Prob(Omnibus):                  0.000   Jarque-Bera (JB):              169.045\n",
       "Skew:                          -0.175   Prob(JB):                     1.96e-37\n",
       "Kurtosis:                       4.284   Cond. No.                         33.5\n",
       "==============================================================================\n",
       "\n",
       "Notes:\n",
       "[1] Standard Errors assume that the covariance matrix of the errors is correctly specified.\n",
       "\"\"\""
      ]
     },
     "execution_count": 76,
     "metadata": {},
     "output_type": "execute_result"
    }
   ],
   "source": [
    "lin_reg = sm.OLS(y_train, X_train_fe) # initialising the model object with 'y_train' and 'X_train_fe'\n",
    "results = lin_reg.fit() # we fit the model and store it inside results\n",
    "results.summary() # check out the summary of our model"
   ]
  },
  {
   "cell_type": "markdown",
   "id": "6a788557-404b-4487-a83d-6619e8db4e11",
   "metadata": {
    "id": "6a788557-404b-4487-a83d-6619e8db4e11"
   },
   "source": [
    "Let's inspect results and focus on R-squared, Adj. R-squared, BIC, AIC, p-value and Cond. No:\n",
    "* **R-squared**: the model fits the data really good, explaining 94% of the variance.\n",
    "* **AIC and BIC**: values are around 10070.\n",
    "* **p-values**: generally good (below 0.05), except for `Region_Oceania`.\n",
    "* **Cond. No.**: really good, considering that the ideal value is below 300. This indicates that the model is stable and can be trusted."
   ]
  },
  {
   "cell_type": "markdown",
   "id": "cf8de11c-086f-43ca-9543-6dc605a2e795",
   "metadata": {
    "id": "cf8de11c-086f-43ca-9543-6dc605a2e795",
    "tags": []
   },
   "source": [
    "### 7. Model Evaluation"
   ]
  },
  {
   "cell_type": "markdown",
   "id": "562edd04-601b-4077-82b9-7dbc928bbf7a",
   "metadata": {
    "id": "562edd04-601b-4077-82b9-7dbc928bbf7a"
   },
   "source": [
    "Let's use the model to predict on the training set `X_train_fe` and calculate the RMSE value."
   ]
  },
  {
   "cell_type": "code",
   "execution_count": 80,
   "id": "54b0ec11-d98c-4bac-9693-be11e1eb02de",
   "metadata": {
    "colab": {
     "base_uri": "https://localhost:8080/"
    },
    "id": "54b0ec11-d98c-4bac-9693-be11e1eb02de",
    "outputId": "203b1590-d779-42a9-c784-b7aadd13094b"
   },
   "outputs": [
    {
     "name": "stdout",
     "output_type": "stream",
     "text": [
      "2.164217820775025\n"
     ]
    }
   ],
   "source": [
    "# Create our prediction results and store them\n",
    "y_pred = results.predict(X_train_fe)\n",
    "\n",
    "# Calculate the RMSE of our model on the training set\n",
    "rmse_train = statsmodels.tools.eval_measures.rmse(y_train, y_pred)\n",
    "\n",
    "# Print out the result\n",
    "print(rmse_train)"
   ]
  },
  {
   "cell_type": "markdown",
   "id": "033e0bde-12a3-4e52-8dd8-926173a3b491",
   "metadata": {
    "id": "033e0bde-12a3-4e52-8dd8-926173a3b491"
   },
   "source": [
    "And now we predict on the test set `X_test_fe` and calculate the RMSE value."
   ]
  },
  {
   "cell_type": "code",
   "execution_count": 82,
   "id": "a64c040d-0fa8-48ae-93b3-a2ce432f1f53",
   "metadata": {
    "colab": {
     "base_uri": "https://localhost:8080/"
    },
    "id": "a64c040d-0fa8-48ae-93b3-a2ce432f1f53",
    "outputId": "b01e6e61-6dab-489c-c23b-ef566fa1290f"
   },
   "outputs": [
    {
     "name": "stdout",
     "output_type": "stream",
     "text": [
      "2.1757628534823414\n"
     ]
    }
   ],
   "source": [
    "# Predict once again using our results\n",
    "y_test_pred = results.predict(X_test_fe)\n",
    "\n",
    "# Calculate the RMSE for Test\n",
    "rmse_test = statsmodels.tools.eval_measures.rmse(y_test, y_test_pred)\n",
    "\n",
    "# Print out the result\n",
    "print(rmse_test)"
   ]
  },
  {
   "cell_type": "markdown",
   "id": "2f18a7d5-91b1-41e0-98b1-eea9fa10edf8",
   "metadata": {
    "id": "2f18a7d5-91b1-41e0-98b1-eea9fa10edf8"
   },
   "source": [
    "The RMSE values for the training and test sets are considerably close, indicating that the model generalizes well to unseen data and does not exhibit significant overfitting or underfitting."
   ]
  },
  {
   "cell_type": "markdown",
   "id": "39bbe244-487f-4db2-a8ba-724e3a4bc9c5",
   "metadata": {
    "id": "39bbe244-487f-4db2-a8ba-724e3a4bc9c5"
   },
   "source": [
    "Let's visualise the predictions against the actual values."
   ]
  },
  {
   "cell_type": "code",
   "execution_count": 85,
   "id": "c53dc310-3648-437d-b02a-ec8a0ec0ee83",
   "metadata": {},
   "outputs": [
    {
     "data": {
      "image/png": "[encoded data removed]",
      "text/plain": [
       "<Figure size 700x700 with 1 Axes>"
      ]
     },
     "metadata": {},
     "output_type": "display_data"
    }
   ],
   "source": [
    "true_value = y_test\n",
    "predicted_value = y_test_pred\n",
    "\n",
    "#plotting true values against the models predictions to see trend\n",
    "plt.figure(figsize=(7,7))\n",
    "plt.scatter(true_value, predicted_value, color='blue')\n",
    "\n",
    "#p1 and p2 make the best line for perfect regression (line of best fit)\n",
    "p1 = max(max(predicted_value), max(true_value))\n",
    "p2 = min(min(predicted_value), min(true_value))\n",
    "plt.plot([p1, p2], [p1, p2], 'r-')\n",
    "plt.xlabel('True Values', fontsize=15)\n",
    "plt.ylabel('Predictions', fontsize=15)\n",
    "plt.axis('equal')\n",
    "plt.show()"
   ]
  },
  {
   "cell_type": "code",
   "execution_count": 86,
   "id": "708a6b20-ee61-4cbd-adce-948cdca54444",
   "metadata": {},
   "outputs": [
    {
     "data": {
      "image/png": "[encoded data removed]",
      "text/plain": [
       "<Figure size 1000x600 with 1 Axes>"
      ]
     },
     "metadata": {},
     "output_type": "display_data"
    }
   ],
   "source": [
    "plt.figure(figsize=(10, 6))\n",
    "\n",
    "# Scatter true values, plot each entry\n",
    "plt.scatter(np.arange(len(y_test)), y_test, \n",
    "            color='blue', label='True Values', alpha=0.6)\n",
    "\n",
    "# Scatter predicted values, and plotting each entry again\n",
    "plt.scatter(np.arange(len(y_test_pred)), y_test_pred, \n",
    "            color='red', label='Predicted Values', alpha=0.6)\n",
    "\n",
    "#X axis has no relation, literally just the position index of the data points\n",
    "plt.xlabel('Data Index')\n",
    "plt.ylabel('Value')\n",
    "plt.title('True vs Predicted Values')\n",
    "plt.legend()\n",
    "plt.grid(True, linestyle='--', alpha=0.3)\n",
    "plt.show()"
   ]
  },
  {
   "cell_type": "markdown",
   "id": "c6879c7d-cd33-4d9b-85f6-d4f614ccd621",
   "metadata": {
    "id": "c6879c7d-cd33-4d9b-85f6-d4f614ccd621",
    "tags": []
   },
   "source": [
    "### 8. Conclusions"
   ]
  },
  {
   "cell_type": "markdown",
   "id": "666e4f41-9471-4d8e-9bf2-7c23b3a012cb",
   "metadata": {
    "id": "666e4f41-9471-4d8e-9bf2-7c23b3a012cb"
   },
   "source": [
    "The following features were found to be statistically significant predictors of `Life_expectancy`:\n",
    "* Health-related predictors:\n",
    "  - `Adult_mortality` (which was negatively correlated to life expectancy) suggest that higher mortality rates in adult age groups are associated with lower overall life expectancy in a country.\n",
    "  - `Measles` (which was positively correlated to life expectancy) suggest that the larger the number of reported cases per 1000 population is, the higher the overall life expectancy in a country will be. Please note that further information would be required to clearly understand why this is the case. \n",
    "  - `Alcohol_consumption` and `BMI` (which were positively correlated to life expectancy) suggest that more alcohol the population consumes and the larger the body mass index is, then the higher the overall life expectancy in a country will be. We should be careful interpreting these results as they are. The reason behind these results might be because developed countries have more access to alcohol and the population tend to have a larger BMI than the populations in underdeveloped countries. \n",
    "* Economic predictors:\n",
    "  - `GDP_per_capita` (which was positively correlated to life expectancy) suggests that the higher the GDP is, the higher the overall life expectancy in a country will be. GDP measures the monetary value of final goods and services produced in a country in a given period of time.\n",
    "  - `Population_log` (which was negatively correlated to life expectancy) suggests that the larger the population is, the lower the overall life expectancy in a country will be.\n",
    "* Geographic predictors:\n",
    "  - `Region_Asia`, `Region_Central America and Caribbean`, `Region_European Union`, `Region_Middle East`, `Region_North America`, `Region_Rest of Europe` and `Region_South America` suggest that location plays an important role in life expectancy outcomes. "
   ]
  },
  {
   "cell_type": "markdown",
   "id": "1c504493-73b0-40e1-9c52-62624714a58f",
   "metadata": {
    "id": "1c504493-73b0-40e1-9c52-62624714a58f"
   },
   "source": [
    "***"
   ]
  }
 ],
 "metadata": {
  "colab": {
   "provenance": []
  },
  "kernelspec": {
   "display_name": "Python 3 (ipykernel)",
   "language": "python",
   "name": "python3"
  },
  "language_info": {
   "codemirror_mode": {
    "name": "ipython",
    "version": 3
   },
   "file_extension": ".py",
   "mimetype": "text/x-python",
   "name": "python",
   "nbconvert_exporter": "python",
   "pygments_lexer": "ipython3",
   "version": "3.9.12"
  }
 },
 "nbformat": 4,
 "nbformat_minor": 5
}
