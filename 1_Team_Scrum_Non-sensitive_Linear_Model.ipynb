{
 "cells": [
  {
   "cell_type": "markdown",
   "id": "67001c8c-df47-4c1d-b5b8-917c4364b4ba",
   "metadata": {},
   "source": [
    "<img src = 'https://upload.wikimedia.org/wikipedia/commons/2/26/World_Health_Organization_Logo.svg'\n",
    "    width = 690px\n",
    "    height= 665px />"
   ]
  },
  {
   "cell_type": "markdown",
   "id": "7f9eca66-0ad3-4d5a-a93b-2fe540d72f3e",
   "metadata": {},
   "source": [
    "# **WHO Life Expectancy  —  Non-sensitive Linear Model**"
   ]
  },
  {
   "cell_type": "markdown",
   "id": "216e1d3f-ba5a-4fba-bdf3-984bd3b14a51",
   "metadata": {},
   "source": [
    "by: Team 1 - Scrum"
   ]
  },
  {
   "cell_type": "markdown",
   "id": "743d3876-af67-45cf-8fa1-17e97ad734e7",
   "metadata": {},
   "source": [
    "***"
   ]
  },
  {
   "cell_type": "markdown",
   "id": "dc342899-90c4-40a3-9291-994edbeb4563",
   "metadata": {},
   "source": [
    "## **The Data**"
   ]
  },
  {
   "cell_type": "markdown",
   "id": "988689c9-4544-4a65-9d9c-b1d6cc887849",
   "metadata": {},
   "source": [
    "|Column|Description|\n",
    "|---:|:---|\n",
    "|Country|Country|\n",
    "|Region|Region|\n",
    "|Year|Year|\n",
    "|Infant_deaths|Number of Infant Deaths per 1000 population|\n",
    "|Under_five_deaths|Number of under-five deaths per 1000 population|\n",
    "|Adult_mortality|Adult Mortality Rates of both sexes (probability of dying between 15 and 60 years per 1000 population)|\n",
    "|Alcohol_consumption|Alcohol, recorded per capita (15+) consumption (in litres of pure alcohol)|\n",
    "|Hepatitis B|Hepatitis B (HepB) immunization coverage among 1-year-olds (%)|\n",
    "|Measles|Measles - number of reported cases per 1000 population|\n",
    "|BMI|Average Body Mass Index of entire population|\n",
    "|Polio|Polio (Pol3) immunization coverage among 1-year-olds (%)|\n",
    "|Diphtheria|Diphtheria tetanus toxoid and pertussis (DTP3) immunization coverage among 1-year-olds (%)|\n",
    "|Incidents_HIV|Deaths per 1 000 live births HIV/AIDS (0-4 years)|\n",
    "|GDP_per_capita|Gross Domestic Product per capita (in USD)|\n",
    "|Population_mln|Population of the country|\n",
    "|Thinness_ten_nineteen_years|Prevalence of thinness among children and adolescents for Age 10 to 19 (%)|\n",
    "|Thinness_five_nine_years|Prevalence of thinness among children for Age 5 to 9(%)|\n",
    "|Schooling|Number of years of Schooling(years)|\n",
    "|Economy_status_Developed|Developed status|\n",
    "|Economy_status_Developing|Developing status|\n",
    "|Life expectancy|Life Expectancy in age|"
   ]
  },
  {
   "cell_type": "markdown",
   "id": "511d7963-e0b0-40be-81a2-2da9cbaa79f7",
   "metadata": {},
   "source": [
    "## **The Scope**"
   ]
  },
  {
   "cell_type": "markdown",
   "id": "548b9683-898f-46a5-a79d-c662068c90a9",
   "metadata": {},
   "source": [
    "This notebook explores the Life Expectancy dataset from the World Health Organization.\\\n",
    "It outlines the process for building a robust linear regression model that accurately predicts life expectancy.\\\n",
    "The model incorporates some insights gained from the exploratory data analysis (refer to `WHO - EDA.ipynb`)"
   ]
  },
  {
   "cell_type": "markdown",
   "id": "f43a394a-1e89-4fb0-9b8e-ceab593c0d0a",
   "metadata": {},
   "source": [
    "## **Key Questions Answered**"
   ]
  },
  {
   "cell_type": "markdown",
   "id": "efddc33b-473d-45c5-ad7f-1a87e8fd9f65",
   "metadata": {},
   "source": [
    "* How can we implement the insights gained from the exploratory data analysis?\n",
    "* Which features are most influential in predicting life expectancy?\n",
    "* How well does a linear regression model perform on this dataset?"
   ]
  },
  {
   "cell_type": "markdown",
   "id": "ace39409-4508-480a-8f3d-db82267c49fa",
   "metadata": {},
   "source": [
    "***"
   ]
  },
  {
   "cell_type": "markdown",
   "id": "d2ec9773-670f-430a-b967-15d405130ac3",
   "metadata": {
    "jp-MarkdownHeadingCollapsed": true
   },
   "source": [
    "### 1. Dataset Import"
   ]
  },
  {
   "cell_type": "code",
   "execution_count": 13,
   "id": "b5be6012-5769-49ba-9289-f0dc6bb597f9",
   "metadata": {},
   "outputs": [],
   "source": [
    "# Importing required modules\n",
    "\n",
    "import pandas as pd    # for general data use & data analysis\n",
    "import matplotlib.pyplot as plt    # for data visualisation\n",
    "import seaborn as sns  # for data visualisation\n",
    "import numpy as np     # for maths\n",
    "\n",
    "from sklearn.model_selection import train_test_split    # for performing train-test split on the data\n",
    "\n",
    "# Use statsmodels for both the model and its evaluation\n",
    "import statsmodels.api as sm    # we'll get the model from\n",
    "import statsmodels.tools        # we'll get the evaluation metrics from\n",
    "\n",
    "from sklearn.preprocessing import RobustScaler   # for scaling the data\n",
    "\n",
    "from statsmodels.stats.outliers_influence import variance_inflation_factor   # for checking VIF"
   ]
  },
  {
   "cell_type": "markdown",
   "id": "396ab7d4-0d6f-4df2-9633-d8febb0813ee",
   "metadata": {},
   "source": [
    "The DataFrame `df` is created by reading the `Life Expectancy Data.csv` file from a local folder."
   ]
  },
  {
   "cell_type": "code",
   "execution_count": 15,
   "id": "4999d0f3-148c-4dac-b943-4a6355f893be",
   "metadata": {},
   "outputs": [],
   "source": [
    "df = pd.read_csv('Life Expectancy Data.csv')"
   ]
  },
  {
   "cell_type": "code",
   "execution_count": 16,
   "id": "cd4ccae8-0e54-4934-b1ef-fea53e746cda",
   "metadata": {},
   "outputs": [
    {
     "data": {
      "text/html": [
       "<div>\n",
       "<style scoped>\n",
       "    .dataframe tbody tr th:only-of-type {\n",
       "        vertical-align: middle;\n",
       "    }\n",
       "\n",
       "    .dataframe tbody tr th {\n",
       "        vertical-align: top;\n",
       "    }\n",
       "\n",
       "    .dataframe thead th {\n",
       "        text-align: right;\n",
       "    }\n",
       "</style>\n",
       "<table border=\"1\" class=\"dataframe\">\n",
       "  <thead>\n",
       "    <tr style=\"text-align: right;\">\n",
       "      <th></th>\n",
       "      <th>Country</th>\n",
       "      <th>Region</th>\n",
       "      <th>Year</th>\n",
       "      <th>Infant_deaths</th>\n",
       "      <th>Under_five_deaths</th>\n",
       "      <th>Adult_mortality</th>\n",
       "      <th>Alcohol_consumption</th>\n",
       "      <th>Hepatitis_B</th>\n",
       "      <th>Measles</th>\n",
       "      <th>BMI</th>\n",
       "      <th>Polio</th>\n",
       "      <th>Diphtheria</th>\n",
       "      <th>Incidents_HIV</th>\n",
       "      <th>GDP_per_capita</th>\n",
       "      <th>Population_mln</th>\n",
       "      <th>Thinness_ten_nineteen_years</th>\n",
       "      <th>Thinness_five_nine_years</th>\n",
       "      <th>Schooling</th>\n",
       "      <th>Economy_status_Developed</th>\n",
       "      <th>Economy_status_Developing</th>\n",
       "      <th>Life_expectancy</th>\n",
       "    </tr>\n",
       "  </thead>\n",
       "  <tbody>\n",
       "    <tr>\n",
       "      <th>0</th>\n",
       "      <td>Turkiye</td>\n",
       "      <td>Middle East</td>\n",
       "      <td>2015</td>\n",
       "      <td>11.1</td>\n",
       "      <td>13.0</td>\n",
       "      <td>105.8240</td>\n",
       "      <td>1.32</td>\n",
       "      <td>97</td>\n",
       "      <td>65</td>\n",
       "      <td>27.8</td>\n",
       "      <td>97</td>\n",
       "      <td>97</td>\n",
       "      <td>0.08</td>\n",
       "      <td>11006</td>\n",
       "      <td>78.53</td>\n",
       "      <td>4.9</td>\n",
       "      <td>4.8</td>\n",
       "      <td>7.8</td>\n",
       "      <td>0</td>\n",
       "      <td>1</td>\n",
       "      <td>76.5</td>\n",
       "    </tr>\n",
       "    <tr>\n",
       "      <th>1</th>\n",
       "      <td>Spain</td>\n",
       "      <td>European Union</td>\n",
       "      <td>2015</td>\n",
       "      <td>2.7</td>\n",
       "      <td>3.3</td>\n",
       "      <td>57.9025</td>\n",
       "      <td>10.35</td>\n",
       "      <td>97</td>\n",
       "      <td>94</td>\n",
       "      <td>26.0</td>\n",
       "      <td>97</td>\n",
       "      <td>97</td>\n",
       "      <td>0.09</td>\n",
       "      <td>25742</td>\n",
       "      <td>46.44</td>\n",
       "      <td>0.6</td>\n",
       "      <td>0.5</td>\n",
       "      <td>9.7</td>\n",
       "      <td>1</td>\n",
       "      <td>0</td>\n",
       "      <td>82.8</td>\n",
       "    </tr>\n",
       "    <tr>\n",
       "      <th>2</th>\n",
       "      <td>India</td>\n",
       "      <td>Asia</td>\n",
       "      <td>2007</td>\n",
       "      <td>51.5</td>\n",
       "      <td>67.9</td>\n",
       "      <td>201.0765</td>\n",
       "      <td>1.57</td>\n",
       "      <td>60</td>\n",
       "      <td>35</td>\n",
       "      <td>21.2</td>\n",
       "      <td>67</td>\n",
       "      <td>64</td>\n",
       "      <td>0.13</td>\n",
       "      <td>1076</td>\n",
       "      <td>1183.21</td>\n",
       "      <td>27.1</td>\n",
       "      <td>28.0</td>\n",
       "      <td>5.0</td>\n",
       "      <td>0</td>\n",
       "      <td>1</td>\n",
       "      <td>65.4</td>\n",
       "    </tr>\n",
       "    <tr>\n",
       "      <th>3</th>\n",
       "      <td>Guyana</td>\n",
       "      <td>South America</td>\n",
       "      <td>2006</td>\n",
       "      <td>32.8</td>\n",
       "      <td>40.5</td>\n",
       "      <td>222.1965</td>\n",
       "      <td>5.68</td>\n",
       "      <td>93</td>\n",
       "      <td>74</td>\n",
       "      <td>25.3</td>\n",
       "      <td>92</td>\n",
       "      <td>93</td>\n",
       "      <td>0.79</td>\n",
       "      <td>4146</td>\n",
       "      <td>0.75</td>\n",
       "      <td>5.7</td>\n",
       "      <td>5.5</td>\n",
       "      <td>7.9</td>\n",
       "      <td>0</td>\n",
       "      <td>1</td>\n",
       "      <td>67.0</td>\n",
       "    </tr>\n",
       "    <tr>\n",
       "      <th>4</th>\n",
       "      <td>Israel</td>\n",
       "      <td>Middle East</td>\n",
       "      <td>2012</td>\n",
       "      <td>3.4</td>\n",
       "      <td>4.3</td>\n",
       "      <td>57.9510</td>\n",
       "      <td>2.89</td>\n",
       "      <td>97</td>\n",
       "      <td>89</td>\n",
       "      <td>27.0</td>\n",
       "      <td>94</td>\n",
       "      <td>94</td>\n",
       "      <td>0.08</td>\n",
       "      <td>33995</td>\n",
       "      <td>7.91</td>\n",
       "      <td>1.2</td>\n",
       "      <td>1.1</td>\n",
       "      <td>12.8</td>\n",
       "      <td>1</td>\n",
       "      <td>0</td>\n",
       "      <td>81.7</td>\n",
       "    </tr>\n",
       "  </tbody>\n",
       "</table>\n",
       "</div>"
      ],
      "text/plain": [
       "   Country          Region  Year  Infant_deaths  Under_five_deaths  \\\n",
       "0  Turkiye     Middle East  2015           11.1               13.0   \n",
       "1    Spain  European Union  2015            2.7                3.3   \n",
       "2    India            Asia  2007           51.5               67.9   \n",
       "3   Guyana   South America  2006           32.8               40.5   \n",
       "4   Israel     Middle East  2012            3.4                4.3   \n",
       "\n",
       "   Adult_mortality  Alcohol_consumption  Hepatitis_B  Measles   BMI  Polio  \\\n",
       "0         105.8240                 1.32           97       65  27.8     97   \n",
       "1          57.9025                10.35           97       94  26.0     97   \n",
       "2         201.0765                 1.57           60       35  21.2     67   \n",
       "3         222.1965                 5.68           93       74  25.3     92   \n",
       "4          57.9510                 2.89           97       89  27.0     94   \n",
       "\n",
       "   Diphtheria  Incidents_HIV  GDP_per_capita  Population_mln  \\\n",
       "0          97           0.08           11006           78.53   \n",
       "1          97           0.09           25742           46.44   \n",
       "2          64           0.13            1076         1183.21   \n",
       "3          93           0.79            4146            0.75   \n",
       "4          94           0.08           33995            7.91   \n",
       "\n",
       "   Thinness_ten_nineteen_years  Thinness_five_nine_years  Schooling  \\\n",
       "0                          4.9                       4.8        7.8   \n",
       "1                          0.6                       0.5        9.7   \n",
       "2                         27.1                      28.0        5.0   \n",
       "3                          5.7                       5.5        7.9   \n",
       "4                          1.2                       1.1       12.8   \n",
       "\n",
       "   Economy_status_Developed  Economy_status_Developing  Life_expectancy  \n",
       "0                         0                          1             76.5  \n",
       "1                         1                          0             82.8  \n",
       "2                         0                          1             65.4  \n",
       "3                         0                          1             67.0  \n",
       "4                         1                          0             81.7  "
      ]
     },
     "execution_count": 16,
     "metadata": {},
     "output_type": "execute_result"
    }
   ],
   "source": [
    "# Checking out first 5 rows of data\n",
    "pd.set_option('display.max_columns', None)\n",
    "df.head()"
   ]
  },
  {
   "cell_type": "markdown",
   "id": "a7b2363b-192d-426f-bdb6-cc38aa29af0a",
   "metadata": {},
   "source": [
    "Inspecting the dataset we can observe that there is a total of `2864` observations and `21` columns. Only 2 columns have `object` datatype: `Country` and `Region`. The rest of the columns are either `int64` or `float64`."
   ]
  },
  {
   "cell_type": "code",
   "execution_count": 18,
   "id": "136db80e-25dc-4f2d-8711-961c6f9ff2be",
   "metadata": {},
   "outputs": [
    {
     "name": "stdout",
     "output_type": "stream",
     "text": [
      "<class 'pandas.core.frame.DataFrame'>\n",
      "RangeIndex: 2864 entries, 0 to 2863\n",
      "Data columns (total 21 columns):\n",
      " #   Column                       Non-Null Count  Dtype  \n",
      "---  ------                       --------------  -----  \n",
      " 0   Country                      2864 non-null   object \n",
      " 1   Region                       2864 non-null   object \n",
      " 2   Year                         2864 non-null   int64  \n",
      " 3   Infant_deaths                2864 non-null   float64\n",
      " 4   Under_five_deaths            2864 non-null   float64\n",
      " 5   Adult_mortality              2864 non-null   float64\n",
      " 6   Alcohol_consumption          2864 non-null   float64\n",
      " 7   Hepatitis_B                  2864 non-null   int64  \n",
      " 8   Measles                      2864 non-null   int64  \n",
      " 9   BMI                          2864 non-null   float64\n",
      " 10  Polio                        2864 non-null   int64  \n",
      " 11  Diphtheria                   2864 non-null   int64  \n",
      " 12  Incidents_HIV                2864 non-null   float64\n",
      " 13  GDP_per_capita               2864 non-null   int64  \n",
      " 14  Population_mln               2864 non-null   float64\n",
      " 15  Thinness_ten_nineteen_years  2864 non-null   float64\n",
      " 16  Thinness_five_nine_years     2864 non-null   float64\n",
      " 17  Schooling                    2864 non-null   float64\n",
      " 18  Economy_status_Developed     2864 non-null   int64  \n",
      " 19  Economy_status_Developing    2864 non-null   int64  \n",
      " 20  Life_expectancy              2864 non-null   float64\n",
      "dtypes: float64(11), int64(8), object(2)\n",
      "memory usage: 470.0+ KB\n"
     ]
    }
   ],
   "source": [
    "df.info()"
   ]
  },
  {
   "cell_type": "markdown",
   "id": "1c730720-4c8a-4f2f-8a23-cc39b9003500",
   "metadata": {
    "tags": []
   },
   "source": [
    "### 2. Train-Test Split"
   ]
  },
  {
   "cell_type": "markdown",
   "id": "655f0883-bd91-41e9-98b3-1f1c3fbc3852",
   "metadata": {},
   "source": [
    "Now that we have our data loaded let's perform a train-test split. The train set will be used to fit the model and the test set to evaluate.\\\n",
    "Note that the independent variable or target is `Life_expectancy`."
   ]
  },
  {
   "cell_type": "markdown",
   "id": "300faa9e-1144-4664-9db4-2755c3ba2649",
   "metadata": {},
   "source": [
    "Let's first make a list of all of our features, and then remove `Life_expectancy` from that list, since we won't include it in `X`."
   ]
  },
  {
   "cell_type": "code",
   "execution_count": 22,
   "id": "dab60eed-38dc-4b3b-91b9-a7148d02027b",
   "metadata": {},
   "outputs": [
    {
     "data": {
      "text/plain": [
       "['Country',\n",
       " 'Region',\n",
       " 'Year',\n",
       " 'Infant_deaths',\n",
       " 'Under_five_deaths',\n",
       " 'Adult_mortality',\n",
       " 'Alcohol_consumption',\n",
       " 'Hepatitis_B',\n",
       " 'Measles',\n",
       " 'BMI',\n",
       " 'Polio',\n",
       " 'Diphtheria',\n",
       " 'Incidents_HIV',\n",
       " 'GDP_per_capita',\n",
       " 'Population_mln',\n",
       " 'Thinness_ten_nineteen_years',\n",
       " 'Thinness_five_nine_years',\n",
       " 'Schooling',\n",
       " 'Economy_status_Developed',\n",
       " 'Economy_status_Developing']"
      ]
     },
     "execution_count": 22,
     "metadata": {},
     "output_type": "execute_result"
    }
   ],
   "source": [
    "feature_cols = list(df.columns) # the columns that we'll se as features\n",
    "feature_cols.remove('Life_expectancy') # 'Life_expectancy' removed because it's the target\n",
    "\n",
    "feature_cols # show list of features"
   ]
  },
  {
   "cell_type": "markdown",
   "id": "5c3d3fd8-ca89-46e4-b1c4-42d4bc28393b",
   "metadata": {},
   "source": [
    "Using the list of features we can now create `X` with all the features and `y` with the target only. "
   ]
  },
  {
   "cell_type": "code",
   "execution_count": 24,
   "id": "614e29b1-7a10-49e2-adef-f5e54f587f94",
   "metadata": {},
   "outputs": [],
   "source": [
    "X = df[feature_cols] # our features dataframe --> It will become: X_train and X_test\n",
    "y = df['Life_expectancy'] # our target --> It will become: y_train and y_test"
   ]
  },
  {
   "cell_type": "markdown",
   "id": "2e05a092-084b-43a6-a766-a8a3e86e6aac",
   "metadata": {},
   "source": [
    "Let's check out `X` and `y`."
   ]
  },
  {
   "cell_type": "code",
   "execution_count": 26,
   "id": "e2a4f75c-0bbd-4d27-8039-b7c99232d6fd",
   "metadata": {},
   "outputs": [
    {
     "data": {
      "text/html": [
       "<div>\n",
       "<style scoped>\n",
       "    .dataframe tbody tr th:only-of-type {\n",
       "        vertical-align: middle;\n",
       "    }\n",
       "\n",
       "    .dataframe tbody tr th {\n",
       "        vertical-align: top;\n",
       "    }\n",
       "\n",
       "    .dataframe thead th {\n",
       "        text-align: right;\n",
       "    }\n",
       "</style>\n",
       "<table border=\"1\" class=\"dataframe\">\n",
       "  <thead>\n",
       "    <tr style=\"text-align: right;\">\n",
       "      <th></th>\n",
       "      <th>Country</th>\n",
       "      <th>Region</th>\n",
       "      <th>Year</th>\n",
       "      <th>Infant_deaths</th>\n",
       "      <th>Under_five_deaths</th>\n",
       "      <th>Adult_mortality</th>\n",
       "      <th>Alcohol_consumption</th>\n",
       "      <th>Hepatitis_B</th>\n",
       "      <th>Measles</th>\n",
       "      <th>BMI</th>\n",
       "      <th>Polio</th>\n",
       "      <th>Diphtheria</th>\n",
       "      <th>Incidents_HIV</th>\n",
       "      <th>GDP_per_capita</th>\n",
       "      <th>Population_mln</th>\n",
       "      <th>Thinness_ten_nineteen_years</th>\n",
       "      <th>Thinness_five_nine_years</th>\n",
       "      <th>Schooling</th>\n",
       "      <th>Economy_status_Developed</th>\n",
       "      <th>Economy_status_Developing</th>\n",
       "    </tr>\n",
       "  </thead>\n",
       "  <tbody>\n",
       "    <tr>\n",
       "      <th>0</th>\n",
       "      <td>Turkiye</td>\n",
       "      <td>Middle East</td>\n",
       "      <td>2015</td>\n",
       "      <td>11.1</td>\n",
       "      <td>13.0</td>\n",
       "      <td>105.8240</td>\n",
       "      <td>1.32</td>\n",
       "      <td>97</td>\n",
       "      <td>65</td>\n",
       "      <td>27.8</td>\n",
       "      <td>97</td>\n",
       "      <td>97</td>\n",
       "      <td>0.08</td>\n",
       "      <td>11006</td>\n",
       "      <td>78.53</td>\n",
       "      <td>4.9</td>\n",
       "      <td>4.8</td>\n",
       "      <td>7.8</td>\n",
       "      <td>0</td>\n",
       "      <td>1</td>\n",
       "    </tr>\n",
       "    <tr>\n",
       "      <th>1</th>\n",
       "      <td>Spain</td>\n",
       "      <td>European Union</td>\n",
       "      <td>2015</td>\n",
       "      <td>2.7</td>\n",
       "      <td>3.3</td>\n",
       "      <td>57.9025</td>\n",
       "      <td>10.35</td>\n",
       "      <td>97</td>\n",
       "      <td>94</td>\n",
       "      <td>26.0</td>\n",
       "      <td>97</td>\n",
       "      <td>97</td>\n",
       "      <td>0.09</td>\n",
       "      <td>25742</td>\n",
       "      <td>46.44</td>\n",
       "      <td>0.6</td>\n",
       "      <td>0.5</td>\n",
       "      <td>9.7</td>\n",
       "      <td>1</td>\n",
       "      <td>0</td>\n",
       "    </tr>\n",
       "    <tr>\n",
       "      <th>2</th>\n",
       "      <td>India</td>\n",
       "      <td>Asia</td>\n",
       "      <td>2007</td>\n",
       "      <td>51.5</td>\n",
       "      <td>67.9</td>\n",
       "      <td>201.0765</td>\n",
       "      <td>1.57</td>\n",
       "      <td>60</td>\n",
       "      <td>35</td>\n",
       "      <td>21.2</td>\n",
       "      <td>67</td>\n",
       "      <td>64</td>\n",
       "      <td>0.13</td>\n",
       "      <td>1076</td>\n",
       "      <td>1183.21</td>\n",
       "      <td>27.1</td>\n",
       "      <td>28.0</td>\n",
       "      <td>5.0</td>\n",
       "      <td>0</td>\n",
       "      <td>1</td>\n",
       "    </tr>\n",
       "  </tbody>\n",
       "</table>\n",
       "</div>"
      ],
      "text/plain": [
       "   Country          Region  Year  Infant_deaths  Under_five_deaths  \\\n",
       "0  Turkiye     Middle East  2015           11.1               13.0   \n",
       "1    Spain  European Union  2015            2.7                3.3   \n",
       "2    India            Asia  2007           51.5               67.9   \n",
       "\n",
       "   Adult_mortality  Alcohol_consumption  Hepatitis_B  Measles   BMI  Polio  \\\n",
       "0         105.8240                 1.32           97       65  27.8     97   \n",
       "1          57.9025                10.35           97       94  26.0     97   \n",
       "2         201.0765                 1.57           60       35  21.2     67   \n",
       "\n",
       "   Diphtheria  Incidents_HIV  GDP_per_capita  Population_mln  \\\n",
       "0          97           0.08           11006           78.53   \n",
       "1          97           0.09           25742           46.44   \n",
       "2          64           0.13            1076         1183.21   \n",
       "\n",
       "   Thinness_ten_nineteen_years  Thinness_five_nine_years  Schooling  \\\n",
       "0                          4.9                       4.8        7.8   \n",
       "1                          0.6                       0.5        9.7   \n",
       "2                         27.1                      28.0        5.0   \n",
       "\n",
       "   Economy_status_Developed  Economy_status_Developing  \n",
       "0                         0                          1  \n",
       "1                         1                          0  \n",
       "2                         0                          1  "
      ]
     },
     "execution_count": 26,
     "metadata": {},
     "output_type": "execute_result"
    }
   ],
   "source": [
    "X.head(3) "
   ]
  },
  {
   "cell_type": "code",
   "execution_count": 27,
   "id": "40fc4d7b-ec2f-422d-97f7-c36f92344e4a",
   "metadata": {},
   "outputs": [
    {
     "data": {
      "text/plain": [
       "0    76.5\n",
       "1    82.8\n",
       "2    65.4\n",
       "Name: Life_expectancy, dtype: float64"
      ]
     },
     "execution_count": 27,
     "metadata": {},
     "output_type": "execute_result"
    }
   ],
   "source": [
    "y.head(3) "
   ]
  },
  {
   "cell_type": "markdown",
   "id": "f3883816-ed3b-4451-9401-fb1db56dad0b",
   "metadata": {},
   "source": [
    "Next, we will perform a train-test split, allocating `80%` of the data for training and `20%` for testing.\\\n",
    "Using `train_test_split` we'll return 4 items: X_train, X_test, y_test and y_train."
   ]
  },
  {
   "cell_type": "code",
   "execution_count": 29,
   "id": "4d9754a1-64e9-4998-932c-5672f3368733",
   "metadata": {},
   "outputs": [],
   "source": [
    "X_train, X_test, y_train, y_test = train_test_split(X, # the features\n",
    "                                                    y, # the target\n",
    "                                                    test_size = 0.2, # 20% test size\n",
    "                                                    random_state = 1) # setting a random seed for reproducibility of results"
   ]
  },
  {
   "cell_type": "markdown",
   "id": "52eaf31d-3977-444c-80f3-ebcc3aa15f8f",
   "metadata": {},
   "source": [
    "Let's check out `X_train` and `y_train`."
   ]
  },
  {
   "cell_type": "code",
   "execution_count": 31,
   "id": "5aee43e6-4863-4adf-8936-7584b5db49f1",
   "metadata": {},
   "outputs": [
    {
     "data": {
      "text/html": [
       "<div>\n",
       "<style scoped>\n",
       "    .dataframe tbody tr th:only-of-type {\n",
       "        vertical-align: middle;\n",
       "    }\n",
       "\n",
       "    .dataframe tbody tr th {\n",
       "        vertical-align: top;\n",
       "    }\n",
       "\n",
       "    .dataframe thead th {\n",
       "        text-align: right;\n",
       "    }\n",
       "</style>\n",
       "<table border=\"1\" class=\"dataframe\">\n",
       "  <thead>\n",
       "    <tr style=\"text-align: right;\">\n",
       "      <th></th>\n",
       "      <th>Country</th>\n",
       "      <th>Region</th>\n",
       "      <th>Year</th>\n",
       "      <th>Infant_deaths</th>\n",
       "      <th>Under_five_deaths</th>\n",
       "      <th>Adult_mortality</th>\n",
       "      <th>Alcohol_consumption</th>\n",
       "      <th>Hepatitis_B</th>\n",
       "      <th>Measles</th>\n",
       "      <th>BMI</th>\n",
       "      <th>Polio</th>\n",
       "      <th>Diphtheria</th>\n",
       "      <th>Incidents_HIV</th>\n",
       "      <th>GDP_per_capita</th>\n",
       "      <th>Population_mln</th>\n",
       "      <th>Thinness_ten_nineteen_years</th>\n",
       "      <th>Thinness_five_nine_years</th>\n",
       "      <th>Schooling</th>\n",
       "      <th>Economy_status_Developed</th>\n",
       "      <th>Economy_status_Developing</th>\n",
       "    </tr>\n",
       "  </thead>\n",
       "  <tbody>\n",
       "    <tr>\n",
       "      <th>2291</th>\n",
       "      <td>United Arab Emirates</td>\n",
       "      <td>Middle East</td>\n",
       "      <td>2001</td>\n",
       "      <td>9.3</td>\n",
       "      <td>10.9</td>\n",
       "      <td>95.5935</td>\n",
       "      <td>1.62</td>\n",
       "      <td>92</td>\n",
       "      <td>92</td>\n",
       "      <td>27.2</td>\n",
       "      <td>94</td>\n",
       "      <td>94</td>\n",
       "      <td>0.13</td>\n",
       "      <td>58422</td>\n",
       "      <td>3.30</td>\n",
       "      <td>5.3</td>\n",
       "      <td>5.1</td>\n",
       "      <td>8.4</td>\n",
       "      <td>0</td>\n",
       "      <td>1</td>\n",
       "    </tr>\n",
       "    <tr>\n",
       "      <th>1188</th>\n",
       "      <td>Spain</td>\n",
       "      <td>European Union</td>\n",
       "      <td>2008</td>\n",
       "      <td>3.4</td>\n",
       "      <td>4.2</td>\n",
       "      <td>70.1140</td>\n",
       "      <td>10.24</td>\n",
       "      <td>97</td>\n",
       "      <td>94</td>\n",
       "      <td>26.2</td>\n",
       "      <td>97</td>\n",
       "      <td>97</td>\n",
       "      <td>0.09</td>\n",
       "      <td>27026</td>\n",
       "      <td>45.95</td>\n",
       "      <td>0.6</td>\n",
       "      <td>0.5</td>\n",
       "      <td>9.2</td>\n",
       "      <td>1</td>\n",
       "      <td>0</td>\n",
       "    </tr>\n",
       "    <tr>\n",
       "      <th>772</th>\n",
       "      <td>Sao Tome and Principe</td>\n",
       "      <td>Central America and Caribbean</td>\n",
       "      <td>2002</td>\n",
       "      <td>48.0</td>\n",
       "      <td>71.0</td>\n",
       "      <td>217.4790</td>\n",
       "      <td>5.93</td>\n",
       "      <td>70</td>\n",
       "      <td>71</td>\n",
       "      <td>23.7</td>\n",
       "      <td>92</td>\n",
       "      <td>92</td>\n",
       "      <td>1.08</td>\n",
       "      <td>1087</td>\n",
       "      <td>0.15</td>\n",
       "      <td>7.6</td>\n",
       "      <td>7.6</td>\n",
       "      <td>4.3</td>\n",
       "      <td>0</td>\n",
       "      <td>1</td>\n",
       "    </tr>\n",
       "  </tbody>\n",
       "</table>\n",
       "</div>"
      ],
      "text/plain": [
       "                    Country                         Region  Year  \\\n",
       "2291   United Arab Emirates                    Middle East  2001   \n",
       "1188                  Spain                 European Union  2008   \n",
       "772   Sao Tome and Principe  Central America and Caribbean  2002   \n",
       "\n",
       "      Infant_deaths  Under_five_deaths  Adult_mortality  Alcohol_consumption  \\\n",
       "2291            9.3               10.9          95.5935                 1.62   \n",
       "1188            3.4                4.2          70.1140                10.24   \n",
       "772            48.0               71.0         217.4790                 5.93   \n",
       "\n",
       "      Hepatitis_B  Measles   BMI  Polio  Diphtheria  Incidents_HIV  \\\n",
       "2291           92       92  27.2     94          94           0.13   \n",
       "1188           97       94  26.2     97          97           0.09   \n",
       "772            70       71  23.7     92          92           1.08   \n",
       "\n",
       "      GDP_per_capita  Population_mln  Thinness_ten_nineteen_years  \\\n",
       "2291           58422            3.30                          5.3   \n",
       "1188           27026           45.95                          0.6   \n",
       "772             1087            0.15                          7.6   \n",
       "\n",
       "      Thinness_five_nine_years  Schooling  Economy_status_Developed  \\\n",
       "2291                       5.1        8.4                         0   \n",
       "1188                       0.5        9.2                         1   \n",
       "772                        7.6        4.3                         0   \n",
       "\n",
       "      Economy_status_Developing  \n",
       "2291                          1  \n",
       "1188                          0  \n",
       "772                           1  "
      ]
     },
     "execution_count": 31,
     "metadata": {},
     "output_type": "execute_result"
    }
   ],
   "source": [
    "X_train.head(3)"
   ]
  },
  {
   "cell_type": "code",
   "execution_count": 32,
   "id": "8a75a764-1bc0-4b44-8663-51463dd91945",
   "metadata": {},
   "outputs": [
    {
     "data": {
      "text/plain": [
       "2291    74.5\n",
       "1188    81.2\n",
       "772     62.7\n",
       "Name: Life_expectancy, dtype: float64"
      ]
     },
     "execution_count": 32,
     "metadata": {},
     "output_type": "execute_result"
    }
   ],
   "source": [
    "y_train.head(3)"
   ]
  },
  {
   "cell_type": "markdown",
   "id": "f52dd295-6543-4c44-924f-b60bfd3ec0ad",
   "metadata": {},
   "source": [
    "Next we perform sanity checks to confirm that:\n",
    "* The indexes of X_train and with y_train coincide\n",
    "* The indexes of X_test and with y_test coincide\n",
    "\n",
    "The `all()` function returns `True` if ALL of the elements are True, False otherwise."
   ]
  },
  {
   "cell_type": "code",
   "execution_count": 34,
   "id": "35ce0c0c-a556-4a75-a039-207384e67282",
   "metadata": {},
   "outputs": [
    {
     "name": "stdout",
     "output_type": "stream",
     "text": [
      "True\n",
      "True\n"
     ]
    }
   ],
   "source": [
    "print(all(X_train.index == y_train.index))\n",
    "print(all(X_test.index == y_test.index))"
   ]
  },
  {
   "cell_type": "code",
   "execution_count": 35,
   "id": "78063bd0-45f6-4d6b-9a8e-2f68c4ba3440",
   "metadata": {},
   "outputs": [
    {
     "name": "stdout",
     "output_type": "stream",
     "text": [
      "True\n",
      "True\n"
     ]
    }
   ],
   "source": [
    "print(X_train.shape[0] == len(y_train))\n",
    "print(X_test.shape[0] == len(y_test))"
   ]
  },
  {
   "cell_type": "markdown",
   "id": "365c32a7-5d61-43ee-8263-1092c666c854",
   "metadata": {},
   "source": [
    "All sanity checks passed."
   ]
  },
  {
   "cell_type": "markdown",
   "id": "b6b3aa60-04f5-476b-a64c-3d800eb4c13a",
   "metadata": {},
   "source": [
    "Please note that in the exploratory data analysis notebook `WHO - EDA.ipynb`, the dataset underwent thorough inspection, including data quality checks, data types and duplicate and missing values detection. Therefore, these steps are skipped in this notebook."
   ]
  },
  {
   "cell_type": "markdown",
   "id": "218ff644-1432-4382-82c9-ea2017b4762d",
   "metadata": {
    "tags": []
   },
   "source": [
    "### 3. Feature Engineering"
   ]
  },
  {
   "cell_type": "markdown",
   "id": "f10139aa-866d-4a10-8d6f-a2387ae7adc4",
   "metadata": {},
   "source": [
    "Let's revisit the key takeaways from the exploratory data analysis and the actions that will be carried forward into the feature engineering phase:"
   ]
  },
  {
   "cell_type": "markdown",
   "id": "7f570829-cde5-4016-86cc-9b18272c5aa0",
   "metadata": {},
   "source": [
    "* _Columns with object data type such as `Country` and `Region` can be one-hot encoded, as they don't contain ordinal data. However, `Country` has 179 unique values and one-hot encoding would result in 179 new features and would lead to dimensionality issues._\n",
    "\n",
    "  **Action:** The `Region` column will be one-hot encoded. This will create `9` additional binary columns: `Region_Africa`, `Region_European Union`, `Region_Asia`, `Region_Central America and Caribbean`, `Region_Rest of Europe`, `Region_Middle East`, `Region_South America`, `Region_Oceania`, `Region_North America`. The `Country` column will be dropped, as one-hot encoding it and using all its 179 columns would lead to an unstable linear model with an extremely high condition number."
   ]
  },
  {
   "cell_type": "markdown",
   "id": "4076aa05-5a15-471f-82e1-dc76082d9bdd",
   "metadata": {},
   "source": [
    "* _The `Economy_status_Developed` and `Economy_status_Developing` columns have redundant information. We can prescind from one of those columns._\n",
    "\n",
    "  **Action:** The `Economy_status_Developed` column will be removed."
   ]
  },
  {
   "cell_type": "markdown",
   "id": "5431e7b6-c265-4cf7-8045-81b222c37ed9",
   "metadata": {},
   "source": [
    "* _There are a number of outliers present in several columns. One approach to mitigating their impact could be to apply a transformation or, alternatively, remove some of them._\n",
    "\n",
    "  **Action:** all outliers will retained, as training the model without them would affect the model's ability to generalise. Data scaling will be performed to mitigate their impact."
   ]
  },
  {
   "cell_type": "markdown",
   "id": "319b33b2-d0de-404a-bc04-d34b85ebda25",
   "metadata": {},
   "source": [
    "* _There are several features that are highly correlated and could potentially be combined when doing feature engineering._\n",
    "\n",
    "  **Action:** the following features will be combined to address multicollinearity in the model:\n",
    "  - `Diphtheria` and `Polio`\n",
    "  - `Under_five_deaths` and `Infant_deaths`\n",
    "  - `Thinness_ten_nineteen_years` and `Thinness_five_nine_years`\n"
   ]
  },
  {
   "cell_type": "markdown",
   "id": "b33eb6f8-6a4a-4146-b5a2-0814943f31be",
   "metadata": {},
   "source": [
    "Along with `Country` and `Economy_status_Developed` columns, the `Year` column will also be dropped for following reasons:\n",
    "* `Year` had a weakly positive correlation with `Life_expectancy`, showing that it doesn't directly influence life expectancy.\n",
    "* If a model were to learn to predict life expectancy based on the year, it would have issues generalising and would struggle to predict on new data."
   ]
  },
  {
   "cell_type": "markdown",
   "id": "79d54178-0b98-4d3a-b5ae-25aaa88fda06",
   "metadata": {},
   "source": [
    "Let’s now create our general function for feature engineering to implement the actions outlined above."
   ]
  },
  {
   "cell_type": "code",
   "execution_count": 46,
   "id": "08964be9-db10-4c4f-ba82-432033874254",
   "metadata": {},
   "outputs": [],
   "source": [
    "def feature_eng(df):\n",
    "    \n",
    "    # Creating a copy of the DataFrame\n",
    "    df = df.copy() \n",
    "    \n",
    "    # One-hot enconding the 'Region' column and dropping it afterwards\n",
    "    df = pd.get_dummies(df, columns=['Region'], drop_first=True, prefix='Region',dtype=int) \n",
    "\n",
    "    # Feature enrichment - creating new columns from combining highly correlated features\n",
    "    df['Diphtheria_Polio'] = df['Diphtheria'] / df['Polio']\n",
    "    df['Under_five_Infant_deaths'] = df['Under_five_deaths'] / df['Infant_deaths']\n",
    "    df['Thinness_combined'] = df['Thinness_ten_nineteen_years'] / df['Thinness_five_nine_years']\n",
    "    \n",
    "    # dropping the columns that have been combined \n",
    "    df.drop(columns=['Diphtheria', 'Polio', 'Under_five_deaths', 'Infant_deaths','Thinness_five_nine_years', 'Thinness_ten_nineteen_years'], inplace=True)\n",
    "\n",
    "    # dropping 'Country', 'Economy_status_Developed' and 'Year' columns\n",
    "    df.drop(columns=['Country', 'Economy_status_Developed', 'Year'], inplace=True)\n",
    "\n",
    "    # adding a constant\n",
    "    df = sm.add_constant(df) \n",
    "    \n",
    "    return df  # returning the DataFrame"
   ]
  },
  {
   "cell_type": "markdown",
   "id": "8c13af57-7b78-437e-97b1-610bda859025",
   "metadata": {},
   "source": [
    "Let's now apply the `feature_eng()` function to both the training and testing sets, creating new variables named `X_train_fe` and `X_test_fe`."
   ]
  },
  {
   "cell_type": "code",
   "execution_count": 48,
   "id": "ce6c1d3a-10b9-4073-8237-91f948c9bcae",
   "metadata": {},
   "outputs": [],
   "source": [
    "X_train_fe = feature_eng(X_train)\n",
    "X_test_fe = feature_eng(X_test)"
   ]
  },
  {
   "cell_type": "markdown",
   "id": "c01b8002-98d2-43af-ba94-630a0f9b7a5c",
   "metadata": {},
   "source": [
    "Next we perform sanity checks to confirm that:\n",
    "* The indexes of X_train_fe and with y_train coincide\n",
    "* The indexes of X_test_fe and with y_test coincide\n",
    "\n",
    "The `all()` function returns `True` if ALL of the elements are True, False otherwise."
   ]
  },
  {
   "cell_type": "code",
   "execution_count": 50,
   "id": "dc547af4-65e4-4562-a857-eb54f5d3f9a7",
   "metadata": {},
   "outputs": [
    {
     "name": "stdout",
     "output_type": "stream",
     "text": [
      "True\n",
      "True\n"
     ]
    }
   ],
   "source": [
    "print(all(X_train_fe.index == y_train.index))\n",
    "print(all(X_test_fe.index == y_test.index))"
   ]
  },
  {
   "cell_type": "code",
   "execution_count": 51,
   "id": "5167e232-d2f3-43fc-bf84-e0ea6df8564e",
   "metadata": {},
   "outputs": [
    {
     "name": "stdout",
     "output_type": "stream",
     "text": [
      "True\n",
      "True\n"
     ]
    }
   ],
   "source": [
    "print(X_train_fe.shape[0] == len(y_train))\n",
    "print(X_test_fe.shape[0] == len(y_test))"
   ]
  },
  {
   "cell_type": "markdown",
   "id": "488973d8-d446-4379-970e-946cb6f0c32e",
   "metadata": {},
   "source": [
    "All sanity checks passed."
   ]
  },
  {
   "cell_type": "markdown",
   "id": "f85096ed-0145-41a2-9a3a-27a9fc041f96",
   "metadata": {},
   "source": [
    "Let's check out the first few rows of `X_train_fe`."
   ]
  },
  {
   "cell_type": "code",
   "execution_count": 54,
   "id": "6c3b950f-3246-44da-b9e4-6eb2d8936abd",
   "metadata": {},
   "outputs": [
    {
     "data": {
      "text/html": [
       "<div>\n",
       "<style scoped>\n",
       "    .dataframe tbody tr th:only-of-type {\n",
       "        vertical-align: middle;\n",
       "    }\n",
       "\n",
       "    .dataframe tbody tr th {\n",
       "        vertical-align: top;\n",
       "    }\n",
       "\n",
       "    .dataframe thead th {\n",
       "        text-align: right;\n",
       "    }\n",
       "</style>\n",
       "<table border=\"1\" class=\"dataframe\">\n",
       "  <thead>\n",
       "    <tr style=\"text-align: right;\">\n",
       "      <th></th>\n",
       "      <th>const</th>\n",
       "      <th>Adult_mortality</th>\n",
       "      <th>Alcohol_consumption</th>\n",
       "      <th>Hepatitis_B</th>\n",
       "      <th>Measles</th>\n",
       "      <th>BMI</th>\n",
       "      <th>Incidents_HIV</th>\n",
       "      <th>GDP_per_capita</th>\n",
       "      <th>Population_mln</th>\n",
       "      <th>Schooling</th>\n",
       "      <th>Economy_status_Developing</th>\n",
       "      <th>Region_Asia</th>\n",
       "      <th>Region_Central America and Caribbean</th>\n",
       "      <th>Region_European Union</th>\n",
       "      <th>Region_Middle East</th>\n",
       "      <th>Region_North America</th>\n",
       "      <th>Region_Oceania</th>\n",
       "      <th>Region_Rest of Europe</th>\n",
       "      <th>Region_South America</th>\n",
       "      <th>Diphtheria_Polio</th>\n",
       "      <th>Under_five_Infant_deaths</th>\n",
       "      <th>Thinness_combined</th>\n",
       "    </tr>\n",
       "  </thead>\n",
       "  <tbody>\n",
       "    <tr>\n",
       "      <th>2291</th>\n",
       "      <td>1.0</td>\n",
       "      <td>95.5935</td>\n",
       "      <td>1.62</td>\n",
       "      <td>92</td>\n",
       "      <td>92</td>\n",
       "      <td>27.2</td>\n",
       "      <td>0.13</td>\n",
       "      <td>58422</td>\n",
       "      <td>3.30</td>\n",
       "      <td>8.4</td>\n",
       "      <td>1</td>\n",
       "      <td>0</td>\n",
       "      <td>0</td>\n",
       "      <td>0</td>\n",
       "      <td>1</td>\n",
       "      <td>0</td>\n",
       "      <td>0</td>\n",
       "      <td>0</td>\n",
       "      <td>0</td>\n",
       "      <td>1.000000</td>\n",
       "      <td>1.172043</td>\n",
       "      <td>1.039216</td>\n",
       "    </tr>\n",
       "    <tr>\n",
       "      <th>1188</th>\n",
       "      <td>1.0</td>\n",
       "      <td>70.1140</td>\n",
       "      <td>10.24</td>\n",
       "      <td>97</td>\n",
       "      <td>94</td>\n",
       "      <td>26.2</td>\n",
       "      <td>0.09</td>\n",
       "      <td>27026</td>\n",
       "      <td>45.95</td>\n",
       "      <td>9.2</td>\n",
       "      <td>0</td>\n",
       "      <td>0</td>\n",
       "      <td>0</td>\n",
       "      <td>1</td>\n",
       "      <td>0</td>\n",
       "      <td>0</td>\n",
       "      <td>0</td>\n",
       "      <td>0</td>\n",
       "      <td>0</td>\n",
       "      <td>1.000000</td>\n",
       "      <td>1.235294</td>\n",
       "      <td>1.200000</td>\n",
       "    </tr>\n",
       "    <tr>\n",
       "      <th>772</th>\n",
       "      <td>1.0</td>\n",
       "      <td>217.4790</td>\n",
       "      <td>5.93</td>\n",
       "      <td>70</td>\n",
       "      <td>71</td>\n",
       "      <td>23.7</td>\n",
       "      <td>1.08</td>\n",
       "      <td>1087</td>\n",
       "      <td>0.15</td>\n",
       "      <td>4.3</td>\n",
       "      <td>1</td>\n",
       "      <td>0</td>\n",
       "      <td>1</td>\n",
       "      <td>0</td>\n",
       "      <td>0</td>\n",
       "      <td>0</td>\n",
       "      <td>0</td>\n",
       "      <td>0</td>\n",
       "      <td>0</td>\n",
       "      <td>1.000000</td>\n",
       "      <td>1.479167</td>\n",
       "      <td>1.000000</td>\n",
       "    </tr>\n",
       "    <tr>\n",
       "      <th>1336</th>\n",
       "      <td>1.0</td>\n",
       "      <td>106.0975</td>\n",
       "      <td>12.50</td>\n",
       "      <td>82</td>\n",
       "      <td>64</td>\n",
       "      <td>25.6</td>\n",
       "      <td>0.21</td>\n",
       "      <td>19068</td>\n",
       "      <td>10.42</td>\n",
       "      <td>7.0</td>\n",
       "      <td>0</td>\n",
       "      <td>0</td>\n",
       "      <td>0</td>\n",
       "      <td>1</td>\n",
       "      <td>0</td>\n",
       "      <td>0</td>\n",
       "      <td>0</td>\n",
       "      <td>0</td>\n",
       "      <td>0</td>\n",
       "      <td>1.020833</td>\n",
       "      <td>1.297872</td>\n",
       "      <td>1.333333</td>\n",
       "    </tr>\n",
       "    <tr>\n",
       "      <th>429</th>\n",
       "      <td>1.0</td>\n",
       "      <td>129.3125</td>\n",
       "      <td>10.07</td>\n",
       "      <td>98</td>\n",
       "      <td>94</td>\n",
       "      <td>26.1</td>\n",
       "      <td>0.08</td>\n",
       "      <td>10859</td>\n",
       "      <td>38.04</td>\n",
       "      <td>12.2</td>\n",
       "      <td>0</td>\n",
       "      <td>0</td>\n",
       "      <td>0</td>\n",
       "      <td>1</td>\n",
       "      <td>0</td>\n",
       "      <td>0</td>\n",
       "      <td>0</td>\n",
       "      <td>0</td>\n",
       "      <td>0</td>\n",
       "      <td>1.031250</td>\n",
       "      <td>1.176471</td>\n",
       "      <td>0.954545</td>\n",
       "    </tr>\n",
       "  </tbody>\n",
       "</table>\n",
       "</div>"
      ],
      "text/plain": [
       "      const  Adult_mortality  Alcohol_consumption  Hepatitis_B  Measles   BMI  \\\n",
       "2291    1.0          95.5935                 1.62           92       92  27.2   \n",
       "1188    1.0          70.1140                10.24           97       94  26.2   \n",
       "772     1.0         217.4790                 5.93           70       71  23.7   \n",
       "1336    1.0         106.0975                12.50           82       64  25.6   \n",
       "429     1.0         129.3125                10.07           98       94  26.1   \n",
       "\n",
       "      Incidents_HIV  GDP_per_capita  Population_mln  Schooling  \\\n",
       "2291           0.13           58422            3.30        8.4   \n",
       "1188           0.09           27026           45.95        9.2   \n",
       "772            1.08            1087            0.15        4.3   \n",
       "1336           0.21           19068           10.42        7.0   \n",
       "429            0.08           10859           38.04       12.2   \n",
       "\n",
       "      Economy_status_Developing  Region_Asia  \\\n",
       "2291                          1            0   \n",
       "1188                          0            0   \n",
       "772                           1            0   \n",
       "1336                          0            0   \n",
       "429                           0            0   \n",
       "\n",
       "      Region_Central America and Caribbean  Region_European Union  \\\n",
       "2291                                     0                      0   \n",
       "1188                                     0                      1   \n",
       "772                                      1                      0   \n",
       "1336                                     0                      1   \n",
       "429                                      0                      1   \n",
       "\n",
       "      Region_Middle East  Region_North America  Region_Oceania  \\\n",
       "2291                   1                     0               0   \n",
       "1188                   0                     0               0   \n",
       "772                    0                     0               0   \n",
       "1336                   0                     0               0   \n",
       "429                    0                     0               0   \n",
       "\n",
       "      Region_Rest of Europe  Region_South America  Diphtheria_Polio  \\\n",
       "2291                      0                     0          1.000000   \n",
       "1188                      0                     0          1.000000   \n",
       "772                       0                     0          1.000000   \n",
       "1336                      0                     0          1.020833   \n",
       "429                       0                     0          1.031250   \n",
       "\n",
       "      Under_five_Infant_deaths  Thinness_combined  \n",
       "2291                  1.172043           1.039216  \n",
       "1188                  1.235294           1.200000  \n",
       "772                   1.479167           1.000000  \n",
       "1336                  1.297872           1.333333  \n",
       "429                   1.176471           0.954545  "
      ]
     },
     "execution_count": 54,
     "metadata": {},
     "output_type": "execute_result"
    }
   ],
   "source": [
    "pd.set_option('display.max_columns', None)\n",
    "X_train_fe.head()"
   ]
  },
  {
   "cell_type": "markdown",
   "id": "752590ff-d92e-45e9-8969-9f044d7de505",
   "metadata": {},
   "source": [
    "Let's have a look at the data types in the training set to confirm that all is in order. We must only have numerical values.  "
   ]
  },
  {
   "cell_type": "code",
   "execution_count": 56,
   "id": "74522ec1-0f42-4184-afe5-2d47abdde975",
   "metadata": {},
   "outputs": [
    {
     "data": {
      "text/plain": [
       "const                                   float64\n",
       "Adult_mortality                         float64\n",
       "Alcohol_consumption                     float64\n",
       "Hepatitis_B                               int64\n",
       "Measles                                   int64\n",
       "BMI                                     float64\n",
       "Incidents_HIV                           float64\n",
       "GDP_per_capita                            int64\n",
       "Population_mln                          float64\n",
       "Schooling                               float64\n",
       "Economy_status_Developing                 int64\n",
       "Region_Asia                               int32\n",
       "Region_Central America and Caribbean      int32\n",
       "Region_European Union                     int32\n",
       "Region_Middle East                        int32\n",
       "Region_North America                      int32\n",
       "Region_Oceania                            int32\n",
       "Region_Rest of Europe                     int32\n",
       "Region_South America                      int32\n",
       "Diphtheria_Polio                        float64\n",
       "Under_five_Infant_deaths                float64\n",
       "Thinness_combined                       float64\n",
       "dtype: object"
      ]
     },
     "execution_count": 56,
     "metadata": {},
     "output_type": "execute_result"
    }
   ],
   "source": [
    "X_train_fe.dtypes"
   ]
  },
  {
   "cell_type": "markdown",
   "id": "fc1d2d68-d232-43ac-b807-28d3df4cb2b2",
   "metadata": {},
   "source": [
    "Let's also confirm that we have no null values in our training set. "
   ]
  },
  {
   "cell_type": "code",
   "execution_count": 58,
   "id": "37c24500-09af-4d87-bc7b-bd44f13374fe",
   "metadata": {},
   "outputs": [
    {
     "data": {
      "text/plain": [
       "const                                   0\n",
       "Adult_mortality                         0\n",
       "Alcohol_consumption                     0\n",
       "Hepatitis_B                             0\n",
       "Measles                                 0\n",
       "BMI                                     0\n",
       "Incidents_HIV                           0\n",
       "GDP_per_capita                          0\n",
       "Population_mln                          0\n",
       "Schooling                               0\n",
       "Economy_status_Developing               0\n",
       "Region_Asia                             0\n",
       "Region_Central America and Caribbean    0\n",
       "Region_European Union                   0\n",
       "Region_Middle East                      0\n",
       "Region_North America                    0\n",
       "Region_Oceania                          0\n",
       "Region_Rest of Europe                   0\n",
       "Region_South America                    0\n",
       "Diphtheria_Polio                        0\n",
       "Under_five_Infant_deaths                0\n",
       "Thinness_combined                       0\n",
       "dtype: int64"
      ]
     },
     "execution_count": 58,
     "metadata": {},
     "output_type": "execute_result"
    }
   ],
   "source": [
    "X_train_fe.isnull().sum()"
   ]
  },
  {
   "cell_type": "markdown",
   "id": "a0521ad3-7923-43f2-8a89-5346c23968eb",
   "metadata": {
    "tags": []
   },
   "source": [
    "### 4. Data Scaling"
   ]
  },
  {
   "cell_type": "markdown",
   "id": "99144080-9097-42a0-b326-a850a3ffa13d",
   "metadata": {},
   "source": [
    "In the process of building the linear model, we observed that training it with features with different ranges can cause imbalances in the model, affecting its performance.\\\n",
    "Let’s examine the range between the maximum and minimum values across all columns in `X_train_fe`."
   ]
  },
  {
   "cell_type": "code",
   "execution_count": 61,
   "id": "de8285cb-dc14-4855-b1a8-3d6589d815d7",
   "metadata": {},
   "outputs": [],
   "source": [
    "# This function outputs the value ranges of each feature\n",
    "\n",
    "def range_checker(df):\n",
    "    columns = list(df.columns)  # create a list with all the columns in the dataframe\n",
    "    for i in columns:   # iterate through the list of columns\n",
    "        print(f'The range of \"{i}\" column is {df[i].max() - df[i].min()}')  # print the difference between maximum and minimum values"
   ]
  },
  {
   "cell_type": "code",
   "execution_count": 62,
   "id": "fbfcb739-5a25-40ef-8d16-0cfaa44e1c52",
   "metadata": {},
   "outputs": [
    {
     "name": "stdout",
     "output_type": "stream",
     "text": [
      "The range of \"const\" column is 0.0\n",
      "The range of \"Adult_mortality\" column is 669.3625\n",
      "The range of \"Alcohol_consumption\" column is 17.75\n",
      "The range of \"Hepatitis_B\" column is 85\n",
      "The range of \"Measles\" column is 87\n",
      "The range of \"BMI\" column is 12.3\n",
      "The range of \"Incidents_HIV\" column is 21.669999999999998\n",
      "The range of \"GDP_per_capita\" column is 112270\n",
      "The range of \"Population_mln\" column is 1379.78\n",
      "The range of \"Schooling\" column is 13.0\n",
      "The range of \"Economy_status_Developing\" column is 1\n",
      "The range of \"Region_Asia\" column is 1\n",
      "The range of \"Region_Central America and Caribbean\" column is 1\n",
      "The range of \"Region_European Union\" column is 1\n",
      "The range of \"Region_Middle East\" column is 1\n",
      "The range of \"Region_North America\" column is 1\n",
      "The range of \"Region_Oceania\" column is 1\n",
      "The range of \"Region_Rest of Europe\" column is 1\n",
      "The range of \"Region_South America\" column is 1\n",
      "The range of \"Diphtheria_Polio\" column is 3.8863636363636362\n",
      "The range of \"Under_five_Infant_deaths\" column is 1.243368731106116\n",
      "The range of \"Thinness_combined\" column is 9.6989898989899\n"
     ]
    }
   ],
   "source": [
    "range_checker(X_train_fe)"
   ]
  },
  {
   "cell_type": "markdown",
   "id": "c90b4833-9e87-4d67-bba0-de7036ddbd20",
   "metadata": {},
   "source": [
    "Let's focus on the non-binary columns.\\\n",
    "We can observe high value ranges in columns such as `GDP_per_capita`, `Population_mln` and `Adult_mortality`.\\\n",
    "On the other hand, there are low value ranges in columns such as `Alcohol_consumption`, `Hepatitis_B`, `Measles`, `BMI` and `Schooling`. Training a linear model with these columns as they are (with such different ranges) would cause imbalances in the model.\n",
    "###### Note: It was observed that `Incidents_HIV` has an high value range; however, after testing, we concluded that scaling it would increase the condition number of the linear model."
   ]
  },
  {
   "cell_type": "markdown",
   "id": "20faa8f7-3ca0-4812-9d81-a1a4500f3872",
   "metadata": {},
   "source": [
    "To address this, let's apply scaling to normalize the feature ranges, ensuring model stability and performance.\\\n",
    "We will use `RobustScaler`, which is ideal for data with outliers non-Gaussian distributions, as is the case with this dataset."
   ]
  },
  {
   "cell_type": "code",
   "execution_count": 65,
   "id": "2ed21b76-2cfd-48cb-9434-ba91ee36282a",
   "metadata": {},
   "outputs": [],
   "source": [
    "# Creating a list of columns to scale\n",
    "columns_to_scale = ['Adult_mortality','Alcohol_consumption','Hepatitis_B', 'Measles', 'BMI', 'GDP_per_capita','Population_mln', 'Schooling']\n",
    "\n",
    "# Initialize scaler\n",
    "scaler = RobustScaler()\n",
    "\n",
    "# Fit on train and transform both sets\n",
    "X_train_fe[columns_to_scale] = scaler.fit_transform(X_train_fe[columns_to_scale])\n",
    "X_test_fe[columns_to_scale] = scaler.transform(X_test_fe[columns_to_scale])"
   ]
  },
  {
   "cell_type": "markdown",
   "id": "487bef17-dd60-4541-b0bc-88d0b1b8934d",
   "metadata": {},
   "source": [
    "Checking out the first few rows of the scaled dataframe `X_train_fe`."
   ]
  },
  {
   "cell_type": "code",
   "execution_count": 67,
   "id": "7311defb-3cd7-40e2-b7d4-ecf79730a1b0",
   "metadata": {},
   "outputs": [
    {
     "data": {
      "text/html": [
       "<div>\n",
       "<style scoped>\n",
       "    .dataframe tbody tr th:only-of-type {\n",
       "        vertical-align: middle;\n",
       "    }\n",
       "\n",
       "    .dataframe tbody tr th {\n",
       "        vertical-align: top;\n",
       "    }\n",
       "\n",
       "    .dataframe thead th {\n",
       "        text-align: right;\n",
       "    }\n",
       "</style>\n",
       "<table border=\"1\" class=\"dataframe\">\n",
       "  <thead>\n",
       "    <tr style=\"text-align: right;\">\n",
       "      <th></th>\n",
       "      <th>const</th>\n",
       "      <th>Adult_mortality</th>\n",
       "      <th>Alcohol_consumption</th>\n",
       "      <th>Hepatitis_B</th>\n",
       "      <th>Measles</th>\n",
       "      <th>BMI</th>\n",
       "      <th>Incidents_HIV</th>\n",
       "      <th>GDP_per_capita</th>\n",
       "      <th>Population_mln</th>\n",
       "      <th>Schooling</th>\n",
       "      <th>Economy_status_Developing</th>\n",
       "      <th>Region_Asia</th>\n",
       "      <th>Region_Central America and Caribbean</th>\n",
       "      <th>Region_European Union</th>\n",
       "      <th>Region_Middle East</th>\n",
       "      <th>Region_North America</th>\n",
       "      <th>Region_Oceania</th>\n",
       "      <th>Region_Rest of Europe</th>\n",
       "      <th>Region_South America</th>\n",
       "      <th>Diphtheria_Polio</th>\n",
       "      <th>Under_five_Infant_deaths</th>\n",
       "      <th>Thinness_combined</th>\n",
       "    </tr>\n",
       "  </thead>\n",
       "  <tbody>\n",
       "    <tr>\n",
       "      <th>2291</th>\n",
       "      <td>1.0</td>\n",
       "      <td>-0.488750</td>\n",
       "      <td>-0.358006</td>\n",
       "      <td>0.176471</td>\n",
       "      <td>0.310345</td>\n",
       "      <td>0.50000</td>\n",
       "      <td>0.13</td>\n",
       "      <td>4.836784</td>\n",
       "      <td>-0.197720</td>\n",
       "      <td>0.113208</td>\n",
       "      <td>1</td>\n",
       "      <td>0</td>\n",
       "      <td>0</td>\n",
       "      <td>0</td>\n",
       "      <td>1</td>\n",
       "      <td>0</td>\n",
       "      <td>0</td>\n",
       "      <td>0</td>\n",
       "      <td>0</td>\n",
       "      <td>1.0</td>\n",
       "      <td>1.172043</td>\n",
       "      <td>1.039216</td>\n",
       "    </tr>\n",
       "    <tr>\n",
       "      <th>1188</th>\n",
       "      <td>1.0</td>\n",
       "      <td>-0.670939</td>\n",
       "      <td>0.944109</td>\n",
       "      <td>0.470588</td>\n",
       "      <td>0.379310</td>\n",
       "      <td>0.18750</td>\n",
       "      <td>0.09</td>\n",
       "      <td>2.035070</td>\n",
       "      <td>1.786462</td>\n",
       "      <td>0.264151</td>\n",
       "      <td>0</td>\n",
       "      <td>0</td>\n",
       "      <td>0</td>\n",
       "      <td>1</td>\n",
       "      <td>0</td>\n",
       "      <td>0</td>\n",
       "      <td>0</td>\n",
       "      <td>0</td>\n",
       "      <td>0</td>\n",
       "      <td>1.0</td>\n",
       "      <td>1.235294</td>\n",
       "      <td>1.200000</td>\n",
       "    </tr>\n",
       "    <tr>\n",
       "      <th>772</th>\n",
       "      <td>1.0</td>\n",
       "      <td>0.382784</td>\n",
       "      <td>0.293051</td>\n",
       "      <td>-1.117647</td>\n",
       "      <td>-0.413793</td>\n",
       "      <td>-0.59375</td>\n",
       "      <td>1.08</td>\n",
       "      <td>-0.279672</td>\n",
       "      <td>-0.344266</td>\n",
       "      <td>-0.660377</td>\n",
       "      <td>1</td>\n",
       "      <td>0</td>\n",
       "      <td>1</td>\n",
       "      <td>0</td>\n",
       "      <td>0</td>\n",
       "      <td>0</td>\n",
       "      <td>0</td>\n",
       "      <td>0</td>\n",
       "      <td>0</td>\n",
       "      <td>1.0</td>\n",
       "      <td>1.479167</td>\n",
       "      <td>1.000000</td>\n",
       "    </tr>\n",
       "  </tbody>\n",
       "</table>\n",
       "</div>"
      ],
      "text/plain": [
       "      const  Adult_mortality  Alcohol_consumption  Hepatitis_B   Measles  \\\n",
       "2291    1.0        -0.488750            -0.358006     0.176471  0.310345   \n",
       "1188    1.0        -0.670939             0.944109     0.470588  0.379310   \n",
       "772     1.0         0.382784             0.293051    -1.117647 -0.413793   \n",
       "\n",
       "          BMI  Incidents_HIV  GDP_per_capita  Population_mln  Schooling  \\\n",
       "2291  0.50000           0.13        4.836784       -0.197720   0.113208   \n",
       "1188  0.18750           0.09        2.035070        1.786462   0.264151   \n",
       "772  -0.59375           1.08       -0.279672       -0.344266  -0.660377   \n",
       "\n",
       "      Economy_status_Developing  Region_Asia  \\\n",
       "2291                          1            0   \n",
       "1188                          0            0   \n",
       "772                           1            0   \n",
       "\n",
       "      Region_Central America and Caribbean  Region_European Union  \\\n",
       "2291                                     0                      0   \n",
       "1188                                     0                      1   \n",
       "772                                      1                      0   \n",
       "\n",
       "      Region_Middle East  Region_North America  Region_Oceania  \\\n",
       "2291                   1                     0               0   \n",
       "1188                   0                     0               0   \n",
       "772                    0                     0               0   \n",
       "\n",
       "      Region_Rest of Europe  Region_South America  Diphtheria_Polio  \\\n",
       "2291                      0                     0               1.0   \n",
       "1188                      0                     0               1.0   \n",
       "772                       0                     0               1.0   \n",
       "\n",
       "      Under_five_Infant_deaths  Thinness_combined  \n",
       "2291                  1.172043           1.039216  \n",
       "1188                  1.235294           1.200000  \n",
       "772                   1.479167           1.000000  "
      ]
     },
     "execution_count": 67,
     "metadata": {},
     "output_type": "execute_result"
    }
   ],
   "source": [
    "pd.set_option('display.max_columns', None)\n",
    "X_train_fe.head(3)"
   ]
  },
  {
   "cell_type": "markdown",
   "id": "65665d9c-974e-4011-98b6-ba6a9b56f4da",
   "metadata": {},
   "source": [
    "Running again the `range_checker()` function, we can confirm that the value ranges of the features are more homogeneous."
   ]
  },
  {
   "cell_type": "code",
   "execution_count": 69,
   "id": "8b0adaf9-b044-4012-8527-ce2d7d11f62a",
   "metadata": {},
   "outputs": [
    {
     "name": "stdout",
     "output_type": "stream",
     "text": [
      "The range of \"const\" column is 0.0\n",
      "The range of \"Adult_mortality\" column is 4.786228988911473\n",
      "The range of \"Alcohol_consumption\" column is 2.6812688821752264\n",
      "The range of \"Hepatitis_B\" column is 5.0\n",
      "The range of \"Measles\" column is 3.0\n",
      "The range of \"BMI\" column is 3.843750000000001\n",
      "The range of \"Incidents_HIV\" column is 21.669999999999998\n",
      "The range of \"GDP_per_capita\" column is 10.01873996073532\n",
      "The range of \"Population_mln\" column is 64.19074203303093\n",
      "The range of \"Schooling\" column is 2.4528301886792447\n",
      "The range of \"Economy_status_Developing\" column is 1\n",
      "The range of \"Region_Asia\" column is 1\n",
      "The range of \"Region_Central America and Caribbean\" column is 1\n",
      "The range of \"Region_European Union\" column is 1\n",
      "The range of \"Region_Middle East\" column is 1\n",
      "The range of \"Region_North America\" column is 1\n",
      "The range of \"Region_Oceania\" column is 1\n",
      "The range of \"Region_Rest of Europe\" column is 1\n",
      "The range of \"Region_South America\" column is 1\n",
      "The range of \"Diphtheria_Polio\" column is 3.8863636363636362\n",
      "The range of \"Under_five_Infant_deaths\" column is 1.243368731106116\n",
      "The range of \"Thinness_combined\" column is 9.6989898989899\n"
     ]
    }
   ],
   "source": [
    "range_checker(X_train_fe)"
   ]
  },
  {
   "cell_type": "markdown",
   "id": "26235de9-e7ae-4943-b003-3a2afa206d00",
   "metadata": {},
   "source": [
    "Now our data is ready for modelling!"
   ]
  },
  {
   "cell_type": "markdown",
   "id": "1e2b110f-382b-41d4-844e-2360a30c66b9",
   "metadata": {
    "tags": []
   },
   "source": [
    "### 5. Multicollinearity Assessment"
   ]
  },
  {
   "cell_type": "markdown",
   "id": "13b9b43c-9012-4ca1-9f5b-23ec76ba3979",
   "metadata": {},
   "source": [
    "With the `Variance Inflation Factor (VIF)` we can detect multicollinearity in the data. We'll want to avoid multicollinearity as it increases the model's condition number and negatively impacts the robustness and stability of our model."
   ]
  },
  {
   "cell_type": "code",
   "execution_count": 73,
   "id": "60549c87-e3f2-462a-a80f-6b767a3e5b95",
   "metadata": {},
   "outputs": [
    {
     "name": "stdout",
     "output_type": "stream",
     "text": [
      "                                 Feature         VIF\n",
      "0                                  const  372.828302\n",
      "1                        Adult_mortality    6.207831\n",
      "2                    Alcohol_consumption    3.313367\n",
      "3                            Hepatitis_B    1.514203\n",
      "4                                Measles    1.649829\n",
      "5                                    BMI    3.704790\n",
      "6                          Incidents_HIV    2.677381\n",
      "7                         GDP_per_capita    2.555753\n",
      "8                         Population_mln    1.177487\n",
      "9                              Schooling    4.740767\n",
      "10             Economy_status_Developing    7.097740\n",
      "11                           Region_Asia    2.500059\n",
      "12  Region_Central America and Caribbean    2.092687\n",
      "13                 Region_European Union    6.311358\n",
      "14                    Region_Middle East    2.060330\n",
      "15                  Region_North America    1.496852\n",
      "16                        Region_Oceania    1.879817\n",
      "17                 Region_Rest of Europe    2.363171\n",
      "18                  Region_South America    1.841574\n",
      "19                      Diphtheria_Polio    1.033617\n",
      "20              Under_five_Infant_deaths    3.976670\n",
      "21                     Thinness_combined    1.022264\n"
     ]
    }
   ],
   "source": [
    "vif_data = pd.DataFrame()  # create a new dataframe \n",
    "vif_data['Feature'] = X_train_fe.columns   # create a 'Feature' column which will contain the names of the features in X_train_fe\n",
    "vif_data['VIF'] = [variance_inflation_factor(X_train_fe.values, i) for i in range(X_train_fe.shape[1])]  # using a loop, calculate the VIF for each feature (list comprehension taken from DataCamp website)\n",
    "print(vif_data)"
   ]
  },
  {
   "cell_type": "markdown",
   "id": "bec875e2-2f3d-4696-b09d-4952b74a8b11",
   "metadata": {},
   "source": [
    "* Features with **VIF = 1** (no multicollinearity): `Diphtheria_Polio`, `Thinness_combined`\n",
    "* Features with **VIF between 1 and 5** (moderate multicollinearity): `Hepatitis_B`, `Measles`, `Population_mln`, `Alcohol_consumption`, `BMI`, `Incidents_HIV`, `GDP_per_capita`, `Schooling`, `Region_North America`, `Region_Oceania`, `Region_South America`, `Region_Asia`, `Region_Central America and Caribbean`, `Region_Middle East`, `Region_Rest of Europe`, `Under_five_Infant_deaths`\n",
    "* Features with **VIF > 5** (high multicollinearity): `Adult_mortality`, `Economy_status_Developing`, `Region_European Union`\n",
    "\n",
    "There are no features with a **VIF > 10** (serious muticollinearity)."
   ]
  },
  {
   "cell_type": "markdown",
   "id": "dd07bb9e-4575-4c69-8218-3e59d40fcc82",
   "metadata": {
    "tags": []
   },
   "source": [
    "### 6. Modelling"
   ]
  },
  {
   "cell_type": "markdown",
   "id": "3a5a487e-8c8c-4ee7-bd00-7d919c361c63",
   "metadata": {},
   "source": [
    "Let's now build an OLS (Ordinary Least Squares) model!"
   ]
  },
  {
   "cell_type": "code",
   "execution_count": 77,
   "id": "e178088c-8972-42a2-a904-95de95947e8f",
   "metadata": {},
   "outputs": [
    {
     "data": {
      "text/html": [
       "<table class=\"simpletable\">\n",
       "<caption>OLS Regression Results</caption>\n",
       "<tr>\n",
       "  <th>Dep. Variable:</th>     <td>Life_expectancy</td> <th>  R-squared:         </th> <td>   0.966</td>\n",
       "</tr>\n",
       "<tr>\n",
       "  <th>Model:</th>                   <td>OLS</td>       <th>  Adj. R-squared:    </th> <td>   0.965</td>\n",
       "</tr>\n",
       "<tr>\n",
       "  <th>Method:</th>             <td>Least Squares</td>  <th>  F-statistic:       </th> <td>   3026.</td>\n",
       "</tr>\n",
       "<tr>\n",
       "  <th>Date:</th>             <td>Mon, 07 Apr 2025</td> <th>  Prob (F-statistic):</th>  <td>  0.00</td> \n",
       "</tr>\n",
       "<tr>\n",
       "  <th>Time:</th>                 <td>13:02:02</td>     <th>  Log-Likelihood:    </th> <td> -4532.4</td>\n",
       "</tr>\n",
       "<tr>\n",
       "  <th>No. Observations:</th>      <td>  2291</td>      <th>  AIC:               </th> <td>   9109.</td>\n",
       "</tr>\n",
       "<tr>\n",
       "  <th>Df Residuals:</th>          <td>  2269</td>      <th>  BIC:               </th> <td>   9235.</td>\n",
       "</tr>\n",
       "<tr>\n",
       "  <th>Df Model:</th>              <td>    21</td>      <th>                     </th>     <td> </td>   \n",
       "</tr>\n",
       "<tr>\n",
       "  <th>Covariance Type:</th>      <td>nonrobust</td>    <th>                     </th>     <td> </td>   \n",
       "</tr>\n",
       "</table>\n",
       "<table class=\"simpletable\">\n",
       "<tr>\n",
       "                    <td></td>                      <th>coef</th>     <th>std err</th>      <th>t</th>      <th>P>|t|</th>  <th>[0.025</th>    <th>0.975]</th>  \n",
       "</tr>\n",
       "<tr>\n",
       "  <th>const</th>                                <td>   80.6075</td> <td>    0.709</td> <td>  113.654</td> <td> 0.000</td> <td>   79.217</td> <td>   81.998</td>\n",
       "</tr>\n",
       "<tr>\n",
       "  <th>Adult_mortality</th>                      <td>   -8.7529</td> <td>    0.111</td> <td>  -78.797</td> <td> 0.000</td> <td>   -8.971</td> <td>   -8.535</td>\n",
       "</tr>\n",
       "<tr>\n",
       "  <th>Alcohol_consumption</th>                  <td>    0.3252</td> <td>    0.111</td> <td>    2.930</td> <td> 0.003</td> <td>    0.108</td> <td>    0.543</td>\n",
       "</tr>\n",
       "<tr>\n",
       "  <th>Hepatitis_B</th>                          <td>    0.4906</td> <td>    0.048</td> <td>   10.265</td> <td> 0.000</td> <td>    0.397</td> <td>    0.584</td>\n",
       "</tr>\n",
       "<tr>\n",
       "  <th>Measles</th>                              <td>    0.0294</td> <td>    0.073</td> <td>    0.401</td> <td> 0.689</td> <td>   -0.115</td> <td>    0.173</td>\n",
       "</tr>\n",
       "<tr>\n",
       "  <th>BMI</th>                                  <td>   -0.4615</td> <td>    0.103</td> <td>   -4.459</td> <td> 0.000</td> <td>   -0.664</td> <td>   -0.259</td>\n",
       "</tr>\n",
       "<tr>\n",
       "  <th>Incidents_HIV</th>                        <td>    0.3699</td> <td>    0.024</td> <td>   15.136</td> <td> 0.000</td> <td>    0.322</td> <td>    0.418</td>\n",
       "</tr>\n",
       "<tr>\n",
       "  <th>GDP_per_capita</th>                       <td>    0.1357</td> <td>    0.039</td> <td>    3.484</td> <td> 0.001</td> <td>    0.059</td> <td>    0.212</td>\n",
       "</tr>\n",
       "<tr>\n",
       "  <th>Population_mln</th>                       <td>    0.0016</td> <td>    0.006</td> <td>    0.256</td> <td> 0.798</td> <td>   -0.011</td> <td>    0.014</td>\n",
       "</tr>\n",
       "<tr>\n",
       "  <th>Schooling</th>                            <td>    2.1734</td> <td>    0.134</td> <td>   16.255</td> <td> 0.000</td> <td>    1.911</td> <td>    2.436</td>\n",
       "</tr>\n",
       "<tr>\n",
       "  <th>Economy_status_Developing</th>            <td>   -2.2119</td> <td>    0.242</td> <td>   -9.128</td> <td> 0.000</td> <td>   -2.687</td> <td>   -1.737</td>\n",
       "</tr>\n",
       "<tr>\n",
       "  <th>Region_Asia</th>                          <td>    0.4145</td> <td>    0.161</td> <td>    2.568</td> <td> 0.010</td> <td>    0.098</td> <td>    0.731</td>\n",
       "</tr>\n",
       "<tr>\n",
       "  <th>Region_Central America and Caribbean</th> <td>    2.5671</td> <td>    0.174</td> <td>   14.795</td> <td> 0.000</td> <td>    2.227</td> <td>    2.907</td>\n",
       "</tr>\n",
       "<tr>\n",
       "  <th>Region_European Union</th>                <td>    0.2097</td> <td>    0.260</td> <td>    0.807</td> <td> 0.420</td> <td>   -0.300</td> <td>    0.719</td>\n",
       "</tr>\n",
       "<tr>\n",
       "  <th>Region_Middle East</th>                   <td>    1.0046</td> <td>    0.194</td> <td>    5.166</td> <td> 0.000</td> <td>    0.623</td> <td>    1.386</td>\n",
       "</tr>\n",
       "<tr>\n",
       "  <th>Region_North America</th>                 <td>    1.6071</td> <td>    0.352</td> <td>    4.567</td> <td> 0.000</td> <td>    0.917</td> <td>    2.297</td>\n",
       "</tr>\n",
       "<tr>\n",
       "  <th>Region_Oceania</th>                       <td>   -0.0955</td> <td>    0.210</td> <td>   -0.454</td> <td> 0.650</td> <td>   -0.508</td> <td>    0.317</td>\n",
       "</tr>\n",
       "<tr>\n",
       "  <th>Region_Rest of Europe</th>                <td>    1.0327</td> <td>    0.204</td> <td>    5.068</td> <td> 0.000</td> <td>    0.633</td> <td>    1.432</td>\n",
       "</tr>\n",
       "<tr>\n",
       "  <th>Region_South America</th>                 <td>    2.3292</td> <td>    0.197</td> <td>   11.840</td> <td> 0.000</td> <td>    1.943</td> <td>    2.715</td>\n",
       "</tr>\n",
       "<tr>\n",
       "  <th>Diphtheria_Polio</th>                     <td>   -1.6603</td> <td>    0.329</td> <td>   -5.049</td> <td> 0.000</td> <td>   -2.305</td> <td>   -1.015</td>\n",
       "</tr>\n",
       "<tr>\n",
       "  <th>Under_five_Infant_deaths</th>             <td>   -5.7943</td> <td>    0.411</td> <td>  -14.112</td> <td> 0.000</td> <td>   -6.599</td> <td>   -4.989</td>\n",
       "</tr>\n",
       "<tr>\n",
       "  <th>Thinness_combined</th>                    <td>   -0.1565</td> <td>    0.089</td> <td>   -1.763</td> <td> 0.078</td> <td>   -0.331</td> <td>    0.018</td>\n",
       "</tr>\n",
       "</table>\n",
       "<table class=\"simpletable\">\n",
       "<tr>\n",
       "  <th>Omnibus:</th>       <td>73.492</td> <th>  Durbin-Watson:     </th> <td>   1.909</td>\n",
       "</tr>\n",
       "<tr>\n",
       "  <th>Prob(Omnibus):</th> <td> 0.000</td> <th>  Jarque-Bera (JB):  </th> <td> 160.950</td>\n",
       "</tr>\n",
       "<tr>\n",
       "  <th>Skew:</th>          <td>-0.174</td> <th>  Prob(JB):          </th> <td>1.12e-35</td>\n",
       "</tr>\n",
       "<tr>\n",
       "  <th>Kurtosis:</th>      <td> 4.251</td> <th>  Cond. No.          </th> <td>    148.</td>\n",
       "</tr>\n",
       "</table><br/><br/>Notes:<br/>[1] Standard Errors assume that the covariance matrix of the errors is correctly specified."
      ],
      "text/latex": [
       "\\begin{center}\n",
       "\\begin{tabular}{lclc}\n",
       "\\toprule\n",
       "\\textbf{Dep. Variable:}                        & Life\\_expectancy & \\textbf{  R-squared:         } &     0.966   \\\\\n",
       "\\textbf{Model:}                                &       OLS        & \\textbf{  Adj. R-squared:    } &     0.965   \\\\\n",
       "\\textbf{Method:}                               &  Least Squares   & \\textbf{  F-statistic:       } &     3026.   \\\\\n",
       "\\textbf{Date:}                                 & Mon, 07 Apr 2025 & \\textbf{  Prob (F-statistic):} &     0.00    \\\\\n",
       "\\textbf{Time:}                                 &     13:02:02     & \\textbf{  Log-Likelihood:    } &   -4532.4   \\\\\n",
       "\\textbf{No. Observations:}                     &        2291      & \\textbf{  AIC:               } &     9109.   \\\\\n",
       "\\textbf{Df Residuals:}                         &        2269      & \\textbf{  BIC:               } &     9235.   \\\\\n",
       "\\textbf{Df Model:}                             &          21      & \\textbf{                     } &             \\\\\n",
       "\\textbf{Covariance Type:}                      &    nonrobust     & \\textbf{                     } &             \\\\\n",
       "\\bottomrule\n",
       "\\end{tabular}\n",
       "\\begin{tabular}{lcccccc}\n",
       "                                               & \\textbf{coef} & \\textbf{std err} & \\textbf{t} & \\textbf{P$> |$t$|$} & \\textbf{[0.025} & \\textbf{0.975]}  \\\\\n",
       "\\midrule\n",
       "\\textbf{const}                                 &      80.6075  &        0.709     &   113.654  &         0.000        &       79.217    &       81.998     \\\\\n",
       "\\textbf{Adult\\_mortality}                      &      -8.7529  &        0.111     &   -78.797  &         0.000        &       -8.971    &       -8.535     \\\\\n",
       "\\textbf{Alcohol\\_consumption}                  &       0.3252  &        0.111     &     2.930  &         0.003        &        0.108    &        0.543     \\\\\n",
       "\\textbf{Hepatitis\\_B}                          &       0.4906  &        0.048     &    10.265  &         0.000        &        0.397    &        0.584     \\\\\n",
       "\\textbf{Measles}                               &       0.0294  &        0.073     &     0.401  &         0.689        &       -0.115    &        0.173     \\\\\n",
       "\\textbf{BMI}                                   &      -0.4615  &        0.103     &    -4.459  &         0.000        &       -0.664    &       -0.259     \\\\\n",
       "\\textbf{Incidents\\_HIV}                        &       0.3699  &        0.024     &    15.136  &         0.000        &        0.322    &        0.418     \\\\\n",
       "\\textbf{GDP\\_per\\_capita}                      &       0.1357  &        0.039     &     3.484  &         0.001        &        0.059    &        0.212     \\\\\n",
       "\\textbf{Population\\_mln}                       &       0.0016  &        0.006     &     0.256  &         0.798        &       -0.011    &        0.014     \\\\\n",
       "\\textbf{Schooling}                             &       2.1734  &        0.134     &    16.255  &         0.000        &        1.911    &        2.436     \\\\\n",
       "\\textbf{Economy\\_status\\_Developing}           &      -2.2119  &        0.242     &    -9.128  &         0.000        &       -2.687    &       -1.737     \\\\\n",
       "\\textbf{Region\\_Asia}                          &       0.4145  &        0.161     &     2.568  &         0.010        &        0.098    &        0.731     \\\\\n",
       "\\textbf{Region\\_Central America and Caribbean} &       2.5671  &        0.174     &    14.795  &         0.000        &        2.227    &        2.907     \\\\\n",
       "\\textbf{Region\\_European Union}                &       0.2097  &        0.260     &     0.807  &         0.420        &       -0.300    &        0.719     \\\\\n",
       "\\textbf{Region\\_Middle East}                   &       1.0046  &        0.194     &     5.166  &         0.000        &        0.623    &        1.386     \\\\\n",
       "\\textbf{Region\\_North America}                 &       1.6071  &        0.352     &     4.567  &         0.000        &        0.917    &        2.297     \\\\\n",
       "\\textbf{Region\\_Oceania}                       &      -0.0955  &        0.210     &    -0.454  &         0.650        &       -0.508    &        0.317     \\\\\n",
       "\\textbf{Region\\_Rest of Europe}                &       1.0327  &        0.204     &     5.068  &         0.000        &        0.633    &        1.432     \\\\\n",
       "\\textbf{Region\\_South America}                 &       2.3292  &        0.197     &    11.840  &         0.000        &        1.943    &        2.715     \\\\\n",
       "\\textbf{Diphtheria\\_Polio}                     &      -1.6603  &        0.329     &    -5.049  &         0.000        &       -2.305    &       -1.015     \\\\\n",
       "\\textbf{Under\\_five\\_Infant\\_deaths}           &      -5.7943  &        0.411     &   -14.112  &         0.000        &       -6.599    &       -4.989     \\\\\n",
       "\\textbf{Thinness\\_combined}                    &      -0.1565  &        0.089     &    -1.763  &         0.078        &       -0.331    &        0.018     \\\\\n",
       "\\bottomrule\n",
       "\\end{tabular}\n",
       "\\begin{tabular}{lclc}\n",
       "\\textbf{Omnibus:}       & 73.492 & \\textbf{  Durbin-Watson:     } &    1.909  \\\\\n",
       "\\textbf{Prob(Omnibus):} &  0.000 & \\textbf{  Jarque-Bera (JB):  } &  160.950  \\\\\n",
       "\\textbf{Skew:}          & -0.174 & \\textbf{  Prob(JB):          } & 1.12e-35  \\\\\n",
       "\\textbf{Kurtosis:}      &  4.251 & \\textbf{  Cond. No.          } &     148.  \\\\\n",
       "\\bottomrule\n",
       "\\end{tabular}\n",
       "%\\caption{OLS Regression Results}\n",
       "\\end{center}\n",
       "\n",
       "Notes: \\newline\n",
       " [1] Standard Errors assume that the covariance matrix of the errors is correctly specified."
      ],
      "text/plain": [
       "<class 'statsmodels.iolib.summary.Summary'>\n",
       "\"\"\"\n",
       "                            OLS Regression Results                            \n",
       "==============================================================================\n",
       "Dep. Variable:        Life_expectancy   R-squared:                       0.966\n",
       "Model:                            OLS   Adj. R-squared:                  0.965\n",
       "Method:                 Least Squares   F-statistic:                     3026.\n",
       "Date:                Mon, 07 Apr 2025   Prob (F-statistic):               0.00\n",
       "Time:                        13:02:02   Log-Likelihood:                -4532.4\n",
       "No. Observations:                2291   AIC:                             9109.\n",
       "Df Residuals:                    2269   BIC:                             9235.\n",
       "Df Model:                          21                                         \n",
       "Covariance Type:            nonrobust                                         \n",
       "========================================================================================================\n",
       "                                           coef    std err          t      P>|t|      [0.025      0.975]\n",
       "--------------------------------------------------------------------------------------------------------\n",
       "const                                   80.6075      0.709    113.654      0.000      79.217      81.998\n",
       "Adult_mortality                         -8.7529      0.111    -78.797      0.000      -8.971      -8.535\n",
       "Alcohol_consumption                      0.3252      0.111      2.930      0.003       0.108       0.543\n",
       "Hepatitis_B                              0.4906      0.048     10.265      0.000       0.397       0.584\n",
       "Measles                                  0.0294      0.073      0.401      0.689      -0.115       0.173\n",
       "BMI                                     -0.4615      0.103     -4.459      0.000      -0.664      -0.259\n",
       "Incidents_HIV                            0.3699      0.024     15.136      0.000       0.322       0.418\n",
       "GDP_per_capita                           0.1357      0.039      3.484      0.001       0.059       0.212\n",
       "Population_mln                           0.0016      0.006      0.256      0.798      -0.011       0.014\n",
       "Schooling                                2.1734      0.134     16.255      0.000       1.911       2.436\n",
       "Economy_status_Developing               -2.2119      0.242     -9.128      0.000      -2.687      -1.737\n",
       "Region_Asia                              0.4145      0.161      2.568      0.010       0.098       0.731\n",
       "Region_Central America and Caribbean     2.5671      0.174     14.795      0.000       2.227       2.907\n",
       "Region_European Union                    0.2097      0.260      0.807      0.420      -0.300       0.719\n",
       "Region_Middle East                       1.0046      0.194      5.166      0.000       0.623       1.386\n",
       "Region_North America                     1.6071      0.352      4.567      0.000       0.917       2.297\n",
       "Region_Oceania                          -0.0955      0.210     -0.454      0.650      -0.508       0.317\n",
       "Region_Rest of Europe                    1.0327      0.204      5.068      0.000       0.633       1.432\n",
       "Region_South America                     2.3292      0.197     11.840      0.000       1.943       2.715\n",
       "Diphtheria_Polio                        -1.6603      0.329     -5.049      0.000      -2.305      -1.015\n",
       "Under_five_Infant_deaths                -5.7943      0.411    -14.112      0.000      -6.599      -4.989\n",
       "Thinness_combined                       -0.1565      0.089     -1.763      0.078      -0.331       0.018\n",
       "==============================================================================\n",
       "Omnibus:                       73.492   Durbin-Watson:                   1.909\n",
       "Prob(Omnibus):                  0.000   Jarque-Bera (JB):              160.950\n",
       "Skew:                          -0.174   Prob(JB):                     1.12e-35\n",
       "Kurtosis:                       4.251   Cond. No.                         148.\n",
       "==============================================================================\n",
       "\n",
       "Notes:\n",
       "[1] Standard Errors assume that the covariance matrix of the errors is correctly specified.\n",
       "\"\"\""
      ]
     },
     "execution_count": 77,
     "metadata": {},
     "output_type": "execute_result"
    }
   ],
   "source": [
    "lin_reg = sm.OLS(y_train, X_train_fe) # initialising the model object with 'y_train' and 'X_train_fe'\n",
    "results = lin_reg.fit() # we fit the model and store it inside results\n",
    "results.summary() # check out the summary of our model"
   ]
  },
  {
   "cell_type": "markdown",
   "id": "6a788557-404b-4487-a83d-6619e8db4e11",
   "metadata": {},
   "source": [
    "Let's inspect results and focus on R-squared, Adj. R-squared, BIC, AIC, p-value and Cond. No:\n",
    "* **R-squared**: the model fits the data really good, explaining 96% of the variance.\n",
    "* **AIC and BIC**: values are around 9000\n",
    "* **p-values**: generally good (below 0.05), except for the following features: `Measles`, `Population_mln`, `Region_European Union`, `Region_Oceania`, `Thinness_combined`. \n",
    "* **Cond. No.**: really good, considering that the ideal value is below 300. This indicates that the model is stable and can be trusted."
   ]
  },
  {
   "cell_type": "markdown",
   "id": "cf8de11c-086f-43ca-9543-6dc605a2e795",
   "metadata": {
    "tags": []
   },
   "source": [
    "### 7. Model Evaluation"
   ]
  },
  {
   "cell_type": "markdown",
   "id": "562edd04-601b-4077-82b9-7dbc928bbf7a",
   "metadata": {},
   "source": [
    "Let's use the model to predict on the training set `X_train_fe` and calculate the RMSE value."
   ]
  },
  {
   "cell_type": "code",
   "execution_count": 81,
   "id": "54b0ec11-d98c-4bac-9693-be11e1eb02de",
   "metadata": {},
   "outputs": [
    {
     "name": "stdout",
     "output_type": "stream",
     "text": [
      "1.7496603153194539\n"
     ]
    }
   ],
   "source": [
    "# Create our prediction results and store them\n",
    "y_pred = results.predict(X_train_fe)\n",
    "\n",
    "# Calculate the RMSE of our model on the training set\n",
    "rmse_train = statsmodels.tools.eval_measures.rmse(y_train, y_pred)\n",
    "\n",
    "# Print out the result\n",
    "print(rmse_train)"
   ]
  },
  {
   "cell_type": "markdown",
   "id": "033e0bde-12a3-4e52-8dd8-926173a3b491",
   "metadata": {},
   "source": [
    "And now we predict on the test set `X_test_fe` and calculate the RMSE value."
   ]
  },
  {
   "cell_type": "code",
   "execution_count": 83,
   "id": "a64c040d-0fa8-48ae-93b3-a2ce432f1f53",
   "metadata": {},
   "outputs": [
    {
     "name": "stdout",
     "output_type": "stream",
     "text": [
      "1.703871066343788\n"
     ]
    }
   ],
   "source": [
    "# Predict once again using our results \n",
    "y_test_pred = results.predict(X_test_fe)\n",
    "\n",
    "# Calculate the RMSE for Test\n",
    "rmse_test = statsmodels.tools.eval_measures.rmse(y_test, y_test_pred)\n",
    "\n",
    "# Print out the result\n",
    "print(rmse_test)"
   ]
  },
  {
   "cell_type": "markdown",
   "id": "2f18a7d5-91b1-41e0-98b1-eea9fa10edf8",
   "metadata": {},
   "source": [
    "The RMSE values for the training and test sets are considerably close, indicating that the model generalizes well to unseen data and does not exhibit significant overfitting or underfitting."
   ]
  },
  {
   "cell_type": "markdown",
   "id": "39bbe244-487f-4db2-a8ba-724e3a4bc9c5",
   "metadata": {},
   "source": [
    "Let's visualise the predictions against the actual values."
   ]
  },
  {
   "cell_type": "code",
   "execution_count": 86,
   "id": "a63bc5f8-8697-43ab-aa97-62be7f815cf5",
   "metadata": {},
   "outputs": [
    {
     "data": {
      "image/png": "[encoded data removed]",
      "text/plain": [
       "<Figure size 700x700 with 1 Axes>"
      ]
     },
     "metadata": {},
     "output_type": "display_data"
    }
   ],
   "source": [
    "true_value = y_test\n",
    "predicted_value = y_test_pred\n",
    "\n",
    "#plotting true values against the models predictions to see trend\n",
    "plt.figure(figsize=(7,7))\n",
    "plt.scatter(true_value, predicted_value, color='blue')\n",
    "\n",
    "#p1 and p2 make the best line for perfect regression (line of best fit)\n",
    "p1 = max(max(predicted_value), max(true_value))\n",
    "p2 = min(min(predicted_value), min(true_value))\n",
    "plt.plot([p1, p2], [p1, p2], 'r-')\n",
    "plt.xlabel('True Values', fontsize=15)\n",
    "plt.ylabel('Predictions', fontsize=15)\n",
    "plt.axis('equal')\n",
    "plt.show()"
   ]
  },
  {
   "cell_type": "code",
   "execution_count": 87,
   "id": "e189a006-4be9-4c17-b5cb-22da55fb5183",
   "metadata": {},
   "outputs": [
    {
     "data": {
      "image/png": "[encoded data removed]",
      "text/plain": [
       "<Figure size 1000x600 with 1 Axes>"
      ]
     },
     "metadata": {},
     "output_type": "display_data"
    }
   ],
   "source": [
    "plt.figure(figsize=(10, 6))\n",
    "\n",
    "# Scatter true values, plot each entry\n",
    "plt.scatter(np.arange(len(y_test)), y_test, \n",
    "            color='blue', label='True Values', alpha=0.6)\n",
    "\n",
    "# Scatter predicted values, and plotting each entry again\n",
    "plt.scatter(np.arange(len(y_test_pred)), y_test_pred, \n",
    "            color='red', label='Predicted Values', alpha=0.6)\n",
    "\n",
    "#X axis has no relation, literally just the position index of the data points\n",
    "plt.xlabel('Data Index')\n",
    "plt.ylabel('Value')\n",
    "plt.title('True vs Predicted Values')\n",
    "plt.legend()\n",
    "plt.grid(True, linestyle='--', alpha=0.3)\n",
    "plt.show()"
   ]
  },
  {
   "cell_type": "markdown",
   "id": "c6879c7d-cd33-4d9b-85f6-d4f614ccd621",
   "metadata": {
    "tags": []
   },
   "source": [
    "### 8. Conclusions"
   ]
  },
  {
   "cell_type": "markdown",
   "id": "666e4f41-9471-4d8e-9bf2-7c23b3a012cb",
   "metadata": {},
   "source": [
    "The following features were found to be statistically significant predictors of `Life_expectancy`:\n",
    "* Health-related predictors:\n",
    "  - `Adult_mortality`, `Incidents_HIV` and `Under_five_Infant_deaths` (which were negatively correlated to life expectancy) suggest that higher mortality rates across different age groups are associated with lower overall life expectancy in a country.\n",
    "  - `Hepatitis_B` and `Diphtheria_Polio` (which were positively correlated to life expectancy) suggest that the more immunization coverage there is among 1-year-olds (%), the higher the overall life expectancy in a country will be.\n",
    "  - `Alcohol_consumption` and `BMI` (which were positively correlated to life expectancy) suggest that more alcohol the population consumes and the larger the body mass index is, then the higher the overall life expectancy in a country will be. We should be careful interpreting these results as they are. The reason behind these results might be because developed countries have more access to alcohol and the population tend to have a larger BMI than the populations in underdeveloped countries. \n",
    "* Economic predictors:\n",
    "  - `Economy_status_Developing` (which was negatively correlated to life expectancy) suggests that if a country hasn't developed, the lower the overall life expectancy in a country will be. \n",
    "  - `GDP_per_capita` (which was positively correlated to life expectancy) suggests that the higher the GDP is, the higher the overall life expectancy in a country will be. GDP measures the monetary value of final goods and services produced in a country in a given period of time.\n",
    "* Educational predictors:\n",
    "  - `Schooling` (which was positively correlated to life expectancy) suggests that the more years of schooling the country has, the higher the overall life expectancy in a country will be. \n",
    "* Geographic predictors:\n",
    "  - `Region_Central America and Caribbean`, `Region_Middle East`, `Region_North America`, `Region_Rest of Europe` and `Region_South America` suggest that location plays an important role in life expectancy outcomes. This means that populations living in these regions tend to have a shorter lifespan."
   ]
  },
  {
   "cell_type": "markdown",
   "id": "1c504493-73b0-40e1-9c52-62624714a58f",
   "metadata": {},
   "source": [
    "***"
   ]
  }
 ],
 "metadata": {
  "kernelspec": {
   "display_name": "Python 3 (ipykernel)",
   "language": "python",
   "name": "python3"
  },
  "language_info": {
   "codemirror_mode": {
    "name": "ipython",
    "version": 3
   },
   "file_extension": ".py",
   "mimetype": "text/x-python",
   "name": "python",
   "nbconvert_exporter": "python",
   "pygments_lexer": "ipython3",
   "version": "3.9.12"
  }
 },
 "nbformat": 4,
 "nbformat_minor": 5
}
