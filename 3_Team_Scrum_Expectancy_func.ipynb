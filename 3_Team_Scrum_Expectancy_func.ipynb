{
 "cells": [
  {
   "cell_type": "markdown",
   "id": "b726a555-4064-4804-90e9-13b367ee062a",
   "metadata": {},
   "source": [
    "<img src = 'https://upload.wikimedia.org/wikipedia/commons/2/26/World_Health_Organization_Logo.svg'\n",
    "    width = 690px\n",
    "    height= 665px />"
   ]
  },
  {
   "cell_type": "markdown",
   "id": "c8237f8f-6200-43c0-a4e5-a12ca1ad1fe0",
   "metadata": {
    "tags": []
   },
   "source": [
    "# **Life Expectancy of a Country - Predictive Model**  \n",
    "By: Team Scrum of Digital Futures"
   ]
  },
  {
   "cell_type": "markdown",
   "id": "01c58289-443c-4627-a096-8c1f86547eaa",
   "metadata": {
    "jp-MarkdownHeadingCollapsed": true,
    "tags": []
   },
   "source": [
    "### Please run the following cells sequentially"
   ]
  },
  {
   "cell_type": "code",
   "execution_count": 1,
   "id": "e992ac2a-6578-4d8f-9765-f901f79453f2",
   "metadata": {},
   "outputs": [],
   "source": [
    "# Libraries Preamble\n",
    "import pandas as pd\n",
    "import numpy as np\n",
    "import matplotlib.pyplot as plt\n",
    "import seaborn as sns\n",
    "\n",
    "from sklearn.model_selection import train_test_split\n",
    "from sklearn.preprocessing import RobustScaler\n",
    "\n",
    "import statsmodels.api as sm\n",
    "import statsmodels.tools"
   ]
  },
  {
   "cell_type": "code",
   "execution_count": 2,
   "id": "ecf00784-7cc2-4f5f-9885-7e965d020581",
   "metadata": {},
   "outputs": [],
   "source": [
    "# read in the file data\n",
    "df = pd.read_csv('Life Expectancy Data.csv')"
   ]
  },
  {
   "cell_type": "markdown",
   "id": "bca4e2cb-4d17-4815-b731-240a1c5eb61b",
   "metadata": {},
   "source": [
    "## Explaining the Validation Functions\n",
    "The following three functions are similar and serve similar purpose, checking if user inputs are valid. ```valid_input()``` will check that the user input is a number that is contained within the minimum and maximum value. ```valid_string()``` will check the user input strictly for a string of 'yes' or 'no', with any capitalisation. ```valid_region()``` will check if the input is a string containing one of the nine allowed regions, again with any capitalisation. Should the user input something that doesn't pass their respective checks, the fucntion will print an error statement and ask the user for their input again by simply returning the function itself."
   ]
  },
  {
   "cell_type": "code",
   "execution_count": 3,
   "id": "823ac3b2-8e79-495d-8ac4-6c6a294b1454",
   "metadata": {},
   "outputs": [],
   "source": [
    "# Function that checks the validity of the user input\n",
    "def valid_input(prompt, input_type=float, input_min=None, input_max=None):\n",
    "    \n",
    "    try:\n",
    "        # Store user input\n",
    "        user_input = input_type(input(prompt))\n",
    "        # check if number\n",
    "        if isinstance(user_input, (int, float)):\n",
    "            # prompt the user again if value is too low\n",
    "            if user_input < input_min:\n",
    "                print(f'Value cannot be less than {input_min}. Try again.')\n",
    "                return valid_input(prompt, input_type, input_min, input_max)\n",
    "            # prompt user again if value is too high\n",
    "            elif user_input > input_max:\n",
    "                print(f'Value cannot be more than {input_max}. Try again.')\n",
    "                return valid_input(prompt, input_type, input_min, input_max)\n",
    "            # return input\n",
    "            else:\n",
    "                return user_input\n",
    "        else:\n",
    "            return user_input\n",
    "    # retry if input is the wrong type (i.e a string)\n",
    "    except ValueError:\n",
    "        print('Invalid input! Please enter a number')\n",
    "        return valid_input(prompt, input_type, input_min, input_max)   "
   ]
  },
  {
   "cell_type": "code",
   "execution_count": 4,
   "id": "8169ffe7-4cc7-4bae-b244-e88e8fd19283",
   "metadata": {},
   "outputs": [],
   "source": [
    "# Function that checks the validity of the user input (yes or no version)\n",
    "def valid_string(prompt):\n",
    "    # store user input\n",
    "    user_input = input(prompt)\n",
    "    # allowed inputs\n",
    "    options = ['yes', 'no']\n",
    "    # return input if is one of the allowed options   \n",
    "    if user_input.lower() in options:\n",
    "        return user_input\n",
    "    # retry if not\n",
    "    else:\n",
    "        print('You must respond \\\"Yes\\\" or \\\"No\\\"')\n",
    "        return valid_string(prompt)     "
   ]
  },
  {
   "cell_type": "code",
   "execution_count": 5,
   "id": "73ce144f-7171-410a-8658-dfe45281a7a7",
   "metadata": {},
   "outputs": [],
   "source": [
    "# Function for region validation\n",
    "def valid_region(prompt):\n",
    "    # store user input\n",
    "    user_input = input(prompt)\n",
    "    # allowed inputs\n",
    "    options = ['asia', 'central america and caribbean', 'european union', 'middle east', 'north america', 'oceania', 'rest of europe', 'south america', 'africa']\n",
    "    # return input if is one of the allowed options   \n",
    "    if user_input.lower() in options:\n",
    "        return user_input\n",
    "    # retry if not\n",
    "    else:\n",
    "        print('Please type one of the nine Regions: Asia, Central America and Caribbean, European Union, Middle East, North America, Oceania, Rest of Europe, South America, Africa')\n",
    "        return valid_region(prompt)"
   ]
  },
  {
   "cell_type": "markdown",
   "id": "f79fb7a2-2de5-4315-939c-06d229d1219a",
   "metadata": {},
   "source": [
    "## Explaining the Model Functions\n",
    "The two functions below are the functions the contains a OLS model and the imported WHO data:\n",
    "- The data is first train-test split\n",
    "- A nested function feature engineers the data\n",
    "- Some of the data is also scaled before being trained on the OLS model. \n",
    "- Then the model asks for the users inputs and stores them.\n",
    "    - some of the inputs are manipulated in the same way as the feature engineering function\n",
    "- Then a dataframe is created for the user inputs.\n",
    "- The user dataframe is also scaled appropriately\n",
    "- Finally, the fitted model uses the user inputs to produce a prediction of the life expectancy.\n",
    "- The results are printed to the terminal, along with the $R^2$ value and the condition number\n",
    "\n",
    "```all_data()``` asks the user for all the data necessary for generating the life expectancy. ```sensitiveless_data()``` doesn't ask the user for data that was deemed sensitive."
   ]
  },
  {
   "cell_type": "code",
   "execution_count": 6,
   "id": "aa1b69ea-3408-4ab7-87cb-de3edbc67390",
   "metadata": {},
   "outputs": [],
   "source": [
    "# Fucntion that uses all the data\n",
    "def all_data():\n",
    "    # ----------------------------------- Modelling data ---------------------------------------------\n",
    "    X = df.drop(columns=['Life_expectancy'])    # X dataframe (features)\n",
    "    y = df['Life_expectancy']                   # y series (Target)\n",
    "    \n",
    "    X_train, X_test, y_train, y_test = train_test_split(X, y, test_size = 0.2, random_state = 423)   #Train-Test split\n",
    "    \n",
    "    def feature_eng(df):\n",
    "        df = df.copy() \n",
    "        # One-hot enconding the 'Region' column and dropping it afterwards\n",
    "        df = pd.get_dummies(df, columns=['Region'], drop_first=True, prefix='Region',dtype=int) \n",
    "        # Feature enrichment - creating new columns from combining highly correlated features\n",
    "        df['Diphtheria_Polio'] = df['Diphtheria'] / df['Polio']\n",
    "        df['Under_five_Infant_deaths'] = df['Under_five_deaths'] / df['Infant_deaths']\n",
    "        df['Thinness_combined'] = df['Thinness_ten_nineteen_years'] / df['Thinness_five_nine_years']\n",
    "        # dropping the columns that have been combined \n",
    "        df.drop(columns=['Diphtheria', 'Polio', 'Under_five_deaths', 'Infant_deaths','Thinness_five_nine_years', 'Thinness_ten_nineteen_years'], inplace=True)\n",
    "        # dropping 'Country', 'Economy_status_Developed' and 'Year' columns\n",
    "        df.drop(columns=['Country', 'Economy_status_Developed', 'Year'], inplace=True)\n",
    "        # adding a constant\n",
    "        df = sm.add_constant(df) \n",
    "    \n",
    "        return df  # returning the DatFrame\n",
    "\n",
    "    X_train_fe = feature_eng(X_train)\n",
    "    \n",
    "    # Creating a list of columns to scale\n",
    "    columns_to_scale = ['Adult_mortality','Alcohol_consumption','Hepatitis_B', 'Measles', 'BMI', 'GDP_per_capita','Population_mln', 'Schooling']\n",
    "    # Initialize scaler\n",
    "    scaler = RobustScaler()\n",
    "    # Fit on train and transform both sets\n",
    "    X_train_fe[columns_to_scale] = scaler.fit_transform(X_train_fe[columns_to_scale])\n",
    "    \n",
    "    #Fitting\n",
    "    lin_reg = sm.OLS(y_train, X_train_fe)\n",
    "    results = lin_reg.fit()\n",
    "    # ------------------------------------------------------------------------------------------------\n",
    "    \n",
    "    # User Inputs\n",
    "    u_Infant_deaths               = valid_input('\\nPlease input the following:\\nNumber of Infant Deaths per 1000 population: ', float, 0, 1000)     \n",
    "    u_Under_five_deaths           = valid_input('Number of deaths (0-4 years) per 1000 population: ', float, 0, 1000)             \n",
    "    u_Adult_mortality             = valid_input('Adult (15-60 years) mortality rate per 1000: ', float, 0, 1000)        \n",
    "    u_Alcohol_consumption         = valid_input('Alcohol consumption in litres per captia: ', float, 0, 1000)                 \n",
    "    u_Hepatitis_B                 = valid_input('Hepatitis B immunisation coverage in 1-year olds (%): ', float, 0, 100)            \n",
    "    u_Measles                     = valid_input('Measles cases per 1000 population: ', float, 0, 1000)            \n",
    "    u_BMI                         = valid_input('National average BMI: ', float, 0, 250)            \n",
    "    u_Polio                       = valid_input('Polio immunisation coverage in 1-year olds (%): ', float, 0, 100)\n",
    "    u_Diphtheria                  = valid_input('Diphtheria immunisation coverage in 1-year olds (%): ', float, 0, 100)      \n",
    "    u_Incidents_HIV               = valid_input('HIV related deaths (0-4 years) per 1000 live births: ', float, 0, 1000)     \n",
    "    u_GDP_per_capita              = valid_input('GDP per capita (USD): ', int, 0, 1000000)    \n",
    "    u_Thinness_ten_nineteen_years = valid_input('Prevalence of thinness among children Aged 10 to 19 (%): ', float, 0, 100)      \n",
    "    u_Thinness_five_nine_years    = valid_input('Prevalence of thinness among children Aged 5 to 9 (%): ', float, 0, 100)    \n",
    "    u_Schooling                   = valid_input('Average years of schooling: ', float, 0, 40)\n",
    "    u_Population_mln              = valid_input('Population of country in millions: ', float, 0, 4000)            \n",
    "    u_Economy_status              = valid_string('Is this country developed? (Yes or No) ')\n",
    "    u_Economy_status_Developing   = 0\n",
    "    u_region                      = valid_region('What region is this country from: ')\n",
    "    u_Diphtheria_Polio            = u_Diphtheria / u_Polio\n",
    "    u_Under_five_Infant_deaths    = u_Under_five_deaths / u_Infant_deaths\n",
    "    u_Thinness_combined           = u_Thinness_ten_nineteen_years / u_Thinness_five_nine_years\n",
    "    u_Region_Asia                 = 0\n",
    "    u_Region_Central_America      = 0  \n",
    "    u_Region_European_Union       = 0\n",
    "    u_Region_Middle_East          = 0 \n",
    "    u_Region_North_America        = 0\n",
    "    u_Region_Oceania              = 0 \n",
    "    u_Region_Rest_of_Europe       = 0\n",
    "    u_Region_South_America        = 0 \n",
    "    \n",
    "    # converting user input into OHE value\n",
    "    if u_Economy_status == 'no':\n",
    "        u_Economy_status_Developing = 1\n",
    "    if u_region == 'asia':\n",
    "        u_Region_Asia = 1\n",
    "    if u_region == 'central america and caribbean':\n",
    "        u_Region_Central_America = 1\n",
    "    if u_region == 'european union':\n",
    "        u_Region_European_Union = 1\n",
    "    if u_region == 'middle east':\n",
    "        u_Region_Middle_East = 1\n",
    "    if u_region == 'north america':\n",
    "        u_Region_North_America = 1\n",
    "    if u_region == 'oceania':\n",
    "        u_Region_Oceania = 1\n",
    "    if u_region == 'rest of europe':\n",
    "        u_Region_Rest_of_Europe = 1\n",
    "    if u_region == 'south america':\n",
    "        u_Region_South_America = 1\n",
    "    \n",
    "    # Make empty dataframe for user inputs\n",
    "    user_record = pd.DataFrame(columns=['const', 'Adult_mortality', 'Alcohol_consumption', 'Hepatitis_B', 'Measles', 'BMI', 'Incidents_HIV', 'GDP_per_capita', 'Population_mln', 'Schooling', 'Economy_status_Developing', \n",
    "    'Region_Asia', 'Region_Central_America_and_Caribbean', 'Region_European_Union', 'Region_Middle_East', 'Region_North_America', 'Region_Oceania', 'Region_Rest_of_Europe', 'Region_South_America', \n",
    "    'Diphtheria_Polio', 'Under_five_Infant_deaths', 'Thinness_combined'])\n",
    "    \n",
    "    # Add user inputs\n",
    "    user_record.loc[0] = [1.0, u_Adult_mortality, u_Alcohol_consumption, u_Hepatitis_B, u_Measles, u_BMI, u_Incidents_HIV, u_GDP_per_capita, u_Population_mln, u_Schooling, u_Economy_status_Developing,\n",
    "    u_Region_Asia, u_Region_Central_America, u_Region_European_Union, u_Region_Middle_East, u_Region_North_America, u_Region_Oceania, u_Region_Rest_of_Europe, u_Region_South_America, \n",
    "    u_Diphtheria_Polio, u_Under_five_Infant_deaths, u_Thinness_combined]\n",
    "    \n",
    "    # Scaling user inputs\n",
    "    user_record[columns_to_scale] = scaler.fit_transform(user_record[columns_to_scale])\n",
    "    \n",
    "    # Generates predicted life expectancy\n",
    "    y_pred = results.predict(user_record)\n",
    "    \n",
    "    # Print Result\n",
    "    print('\\nAverage life expectancy of country: ' ,round(y_pred[0], 1), 'years'\n",
    "         '\\n          R\\u00B2 = ', round(results.rsquared, 3), \n",
    "         '\\n   Cond. No. = ', round(results.condition_number, 2))       "
   ]
  },
  {
   "cell_type": "code",
   "execution_count": 7,
   "id": "14680625-4b70-4786-8c4a-51b7e9a037b3",
   "metadata": {},
   "outputs": [],
   "source": [
    "# Function that doesn't use sensitive data\n",
    "def sensitiveless_data():\n",
    "    \n",
    "    # ----------------------------------- Modelling data ---------------------------------------------\n",
    "    df_WHO = df.drop(columns=['Life_expectancy'])     # creating dataframe with desired columns\n",
    "    X = df_WHO                      # X dataframe (features)\n",
    "    y = df['Life_expectancy']       # y series (Target)\n",
    "    \n",
    "    X_train, X_test, y_train, y_test = train_test_split(X, y, test_size = 0.2, random_state = 423)      #Train-Test split\n",
    "    \n",
    "    def feature_eng(df):\n",
    "        # Creating a copy of the DataFrame\n",
    "        df = df.copy()\n",
    "        # One-hot enconding the 'Region' column and dropping it afterwards\n",
    "        df = pd.get_dummies(df, columns=['Region'], drop_first=True, prefix='Region',dtype=int)\n",
    "        # Feature enrichment - creating new columns from combining highly correlated features\n",
    "        df['log_population'] = np.log1p(X['Population_mln'])  # log(1 + x) to avoid log(0)\n",
    "        # dropping the sensitive and irrelevent columns\n",
    "        df.drop(columns=['Country','Year','Population_mln', 'Infant_deaths', 'Under_five_deaths', 'Hepatitis_B','Polio', 'Diphtheria','Incidents_HIV','Thinness_ten_nineteen_years',\n",
    "                  'Thinness_five_nine_years','Schooling','Economy_status_Developed', 'Economy_status_Developing'], inplace=True)\n",
    "        # adding a constant\n",
    "        df = sm.add_constant(df)\n",
    "\n",
    "        return df  # returning the DatFrame\n",
    "    \n",
    "    X_train_fe = feature_eng(X_train)\n",
    "    \n",
    "    # Creating a list of columns to scale\n",
    "    columns_to_scale = ['Adult_mortality', 'Alcohol_consumption','Measles','BMI','GDP_per_capita']\n",
    "    # Initialize scaler\n",
    "    scaler = RobustScaler()\n",
    "    # Fit on train and transform both sets\n",
    "    X_train_fe[columns_to_scale] = scaler.fit_transform(X_train_fe[columns_to_scale])\n",
    "    \n",
    "    lin_reg = sm.OLS(y_train, X_train_fe)          #Fitting\n",
    "    results = lin_reg.fit()\n",
    "    # ------------------------------------------------------------------------------------------------ \n",
    "\n",
    "    # User Inputs             \n",
    "    u_Adult_mortality             = valid_input('\\nPlease input the following:\\nAdult (15-60 years) mortality rate per 1000: ', float, 0, 1000)        \n",
    "    u_Alcohol_consumption         = valid_input('Alcohol consumption in litres per captia: ', float, 0, 1000)                           \n",
    "    u_BMI                         = valid_input('National average BMI: ', float, 0, 250)               \n",
    "    u_GDP_per_capita              = valid_input('GDP per capita (USD): ', int, 0, 1000000)       \n",
    "    u_Population_mln              = valid_input('Population of country in millions: ', float, 0, 4000)            \n",
    "    u_Measles                     = valid_input('Measles cases per 1000 population: ', float, 0, 1000)\n",
    "    u_region                      = valid_region('What region is this country from: ')\n",
    "    u_log_Population              = np.log1p(u_Population_mln)\n",
    "    u_Region_Asia                 = 0\n",
    "    u_Region_Central_America      = 0  \n",
    "    u_Region_European_Union       = 0\n",
    "    u_Region_Middle_East          = 0 \n",
    "    u_Region_North_America        = 0\n",
    "    u_Region_Oceania              = 0 \n",
    "    u_Region_Rest_of_Europe       = 0\n",
    "    u_Region_South_America        = 0 \n",
    "    \n",
    "    # converting user input into OHE value\n",
    "    if u_region == 'asia':\n",
    "        u_Region_Asia = 1\n",
    "    if u_region == 'central america and caribbean':\n",
    "        u_Region_Central_America = 1\n",
    "    if u_region == 'european union':\n",
    "        u_Region_European_Union = 1\n",
    "    if u_region == 'middle east':\n",
    "        u_Region_Middle_East = 1\n",
    "    if u_region == 'north america':\n",
    "        u_Region_North_America = 1\n",
    "    if u_region == 'oceania':\n",
    "        u_Region_Oceania = 1\n",
    "    if u_region == 'rest of europe':\n",
    "        u_Region_Rest_of_Europe = 1\n",
    "    if u_region == 'south america':\n",
    "        u_Region_South_America = 1\n",
    "    \n",
    "    # Make empty dataframe for user inputs\n",
    "    user_record = pd.DataFrame(columns=['const','Adult_mortality', 'Alcohol_consumption','BMI', 'GDP_per_capita', 'Measles', 'log_Population', \n",
    "    'Region_Asia', 'Region_Central_America_and_Caribbean', 'Region_European_Union', 'Region_Middle_East', 'Region_North_America', 'Region_Oceania', 'Region_Rest_of_Europe', 'Region_South_America', ])\n",
    "    \n",
    "    # Add user inputs\n",
    "    user_record.loc[0] = [1.0, u_Adult_mortality, u_Alcohol_consumption, u_BMI, u_GDP_per_capita, u_Measles, u_log_Population, \n",
    "    u_Region_Asia, u_Region_Central_America, u_Region_European_Union, u_Region_Middle_East, u_Region_North_America, u_Region_Oceania, u_Region_Rest_of_Europe, u_Region_South_America ]\n",
    "    \n",
    "    # Scaling user inputs\n",
    "    user_record[columns_to_scale] = scaler.fit_transform(user_record[columns_to_scale])\n",
    "    \n",
    "    # Generates predicted life expectancy\n",
    "    y_pred = results.predict(user_record)\n",
    "    \n",
    "    # Print Result\n",
    "    print('\\nAverage life expectancy of country: ' ,round(y_pred[0], 1), 'years'\n",
    "         '\\n          R\\u00B2 = ', round(results.rsquared, 3), \n",
    "         '\\n   Cond. No. = ', round(results.condition_number, 2))"
   ]
  },
  {
   "cell_type": "markdown",
   "id": "d420b55d-3db1-4f44-b142-fab47e60c584",
   "metadata": {},
   "source": [
    "## Life Expectancy Function\n",
    "This is the main function. It first asks the user which model they would like to run. Then , depending on the user input, it will run one of the two model functions above."
   ]
  },
  {
   "cell_type": "code",
   "execution_count": 8,
   "id": "830a7035-cb6d-4f1b-a2e1-97d43c08e71b",
   "metadata": {},
   "outputs": [],
   "source": [
    "# Main function that asks the user which version to run\n",
    "def life_expectancy_est():\n",
    "    concent = valid_string('Do you consent to using advanced population data, which may include protected information, for improved accuracy? (Yes or No) ')\n",
    "    if concent.lower() == 'yes':\n",
    "        print('Running Expanded Model')\n",
    "        return all_data()\n",
    "    elif concent.lower() == 'no':\n",
    "        print('Running Sensitive Model ')\n",
    "        return sensitiveless_data()\n",
    "    else:\n",
    "        raise Exception('An unknown error has occurred')"
   ]
  },
  {
   "cell_type": "markdown",
   "id": "dbc60bdf-747f-4adb-bed3-da3e1bf61f29",
   "metadata": {
    "tags": []
   },
   "source": [
    "# The Life Expectancy Estimator\n",
    "### Please run the cell and fill out the prompts."
   ]
  },
  {
   "cell_type": "code",
   "execution_count": 9,
   "id": "9cf37d76-5917-4c58-af85-81c62853aaa9",
   "metadata": {},
   "outputs": [
    {
     "name": "stdin",
     "output_type": "stream",
     "text": [
      "Do you consent to using advanced population data, which may include protected information, for improved accuracy? (Yes or No)  fdsbkfbhbfafbh\n"
     ]
    },
    {
     "name": "stdout",
     "output_type": "stream",
     "text": [
      "You must respond \"Yes\" or \"No\"\n"
     ]
    },
    {
     "name": "stdin",
     "output_type": "stream",
     "text": [
      "Do you consent to using advanced population data, which may include protected information, for improved accuracy? (Yes or No)  yes\n"
     ]
    },
    {
     "name": "stdout",
     "output_type": "stream",
     "text": [
      "Running Expanded Model\n"
     ]
    },
    {
     "name": "stdin",
     "output_type": "stream",
     "text": [
      "\n",
      "Please input the following:\n",
      "Number of Infant Deaths per 1000 population:  11\n",
      "Number of deaths (0-4 years) per 1000 population:  heraeagr\n"
     ]
    },
    {
     "name": "stdout",
     "output_type": "stream",
     "text": [
      "Invalid input! Please enter a number\n"
     ]
    },
    {
     "name": "stdin",
     "output_type": "stream",
     "text": [
      "Number of deaths (0-4 years) per 1000 population:  11\n",
      "Adult (15-60 years) mortality rate per 1000:  111\n",
      "Alcohol consumption in litres per captia:  1\n",
      "Hepatitis B immunisation coverage in 1-year olds (%):  90\n",
      "Measles cases per 1000 population:  90\n",
      "National average BMI:  25\n",
      "Polio immunisation coverage in 1-year olds (%):  90\n",
      "Diphtheria immunisation coverage in 1-year olds (%):  90\n",
      "HIV related deaths (0-4 years) per 1000 live births:  0.1\n",
      "GDP per capita (USD):  11111\n",
      "Prevalence of thinness among children Aged 10 to 19 (%):  5\n",
      "Prevalence of thinness among children Aged 5 to 9 (%):  5\n",
      "Average years of schooling:  8\n",
      "Population of country in millions:  11\n",
      "Is this country developed? (Yes or No)  no\n",
      "What region is this country from:  asia\n"
     ]
    },
    {
     "name": "stdout",
     "output_type": "stream",
     "text": [
      "\n",
      "Average life expectancy of country:  71.1 years\n",
      "          R² =  0.966 \n",
      "   Cond. No. =  149.34\n"
     ]
    }
   ],
   "source": [
    "# run the life expectancy estimator \n",
    "life_expectancy_est()"
   ]
  }
 ],
 "metadata": {
  "kernelspec": {
   "display_name": "Python 3 (ipykernel)",
   "language": "python",
   "name": "python3"
  },
  "language_info": {
   "codemirror_mode": {
    "name": "ipython",
    "version": 3
   },
   "file_extension": ".py",
   "mimetype": "text/x-python",
   "name": "python",
   "nbconvert_exporter": "python",
   "pygments_lexer": "ipython3",
   "version": "3.9.12"
  }
 },
 "nbformat": 4,
 "nbformat_minor": 5
}
